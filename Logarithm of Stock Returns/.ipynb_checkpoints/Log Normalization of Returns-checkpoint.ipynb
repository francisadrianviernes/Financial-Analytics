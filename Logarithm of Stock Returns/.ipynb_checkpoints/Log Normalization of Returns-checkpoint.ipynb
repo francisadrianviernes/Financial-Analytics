{
 "cells": [
  {
   "cell_type": "code",
   "execution_count": 20,
   "metadata": {},
   "outputs": [],
   "source": [
    "import investpy\n",
    "import pandas as pd\n",
    "\n",
    "import hvplot.pandas  # noqa\n",
    "import panel as pn\n",
    "from panel.interact import interact, interactive, fixed, interact_manual\n",
    "import holoviews as hv\n",
    "\n",
    "import numpy as np\n",
    "\n",
    "from tqdm import tqdm\n",
    "\n",
    "#Function to get the date\n",
    "from datetime import date,timedelta\n",
    "\n",
    "pn.extension()\n"
   ]
  },
  {
   "cell_type": "code",
   "execution_count": 2,
   "metadata": {},
   "outputs": [],
   "source": [
    "stocks_list = ['MEG', 'ALI','AC', 'JFC', 'RLC']"
   ]
  },
  {
   "cell_type": "code",
   "execution_count": 3,
   "metadata": {},
   "outputs": [
    {
     "name": "stdout",
     "output_type": "stream",
     "text": [
      "Day Before Yesterday's date: 20/05/2021\n",
      "Six Month's Before date: 21/11/2020\n"
     ]
    }
   ],
   "source": [
    "today = (date.today() - timedelta(days=2)).strftime('%d/%m/%Y')\n",
    "lastyear = (date.today() - timedelta(weeks=26)).strftime('%d/%m/%Y')\n",
    "# today = today().strftime('%d-%m-%Y')\n",
    "print(\"Day Before Yesterday's date:\", today)\n",
    "print(\"Six Month's Before date:\", lastyear)\n",
    "\n",
    "# Specify the Dates\n",
    "START_DATE = lastyear\n",
    "END_DATE = today"
   ]
  },
  {
   "cell_type": "code",
   "execution_count": 4,
   "metadata": {},
   "outputs": [
    {
     "name": "stderr",
     "output_type": "stream",
     "text": [
      "100%|████████████████████████████████████████████████████████████████████████████████████| 5/5 [00:05<00:00,  1.11s/it]\n"
     ]
    }
   ],
   "source": [
    "prices = pd.DataFrame()\n",
    "\n",
    "for stock in tqdm(stocks_list):\n",
    "    try:\n",
    "        df_ = investpy.get_stock_historical_data(stock=stock,\n",
    "                                                 country='Philippines',\n",
    "                                                 from_date=START_DATE,\n",
    "                                                 to_date=END_DATE).Close\n",
    "        df_.rename(stock, inplace=True)                                             \n",
    "    except:\n",
    "        continue\n",
    "    df_.columns = [stock]\n",
    "\n",
    "  \n",
    "    prices = pd.concat([prices, df_],axis=1)"
   ]
  },
  {
   "cell_type": "code",
   "execution_count": 5,
   "metadata": {},
   "outputs": [],
   "source": [
    "prices_change = prices.pct_change()"
   ]
  },
  {
   "cell_type": "code",
   "execution_count": 6,
   "metadata": {},
   "outputs": [
    {
     "data": {
      "text/html": [
       "<div>\n",
       "<style scoped>\n",
       "    .dataframe tbody tr th:only-of-type {\n",
       "        vertical-align: middle;\n",
       "    }\n",
       "\n",
       "    .dataframe tbody tr th {\n",
       "        vertical-align: top;\n",
       "    }\n",
       "\n",
       "    .dataframe thead th {\n",
       "        text-align: right;\n",
       "    }\n",
       "</style>\n",
       "<table border=\"1\" class=\"dataframe\">\n",
       "  <thead>\n",
       "    <tr style=\"text-align: right;\">\n",
       "      <th></th>\n",
       "      <th>MEG</th>\n",
       "      <th>ALI</th>\n",
       "      <th>AC</th>\n",
       "      <th>JFC</th>\n",
       "      <th>RLC</th>\n",
       "    </tr>\n",
       "  </thead>\n",
       "  <tbody>\n",
       "    <tr>\n",
       "      <th>2020-11-23</th>\n",
       "      <td>NaN</td>\n",
       "      <td>NaN</td>\n",
       "      <td>NaN</td>\n",
       "      <td>NaN</td>\n",
       "      <td>NaN</td>\n",
       "    </tr>\n",
       "    <tr>\n",
       "      <th>2020-11-24</th>\n",
       "      <td>-0.025000</td>\n",
       "      <td>0.007752</td>\n",
       "      <td>-0.009524</td>\n",
       "      <td>-0.015544</td>\n",
       "      <td>0.016949</td>\n",
       "    </tr>\n",
       "    <tr>\n",
       "      <th>2020-11-25</th>\n",
       "      <td>-0.005128</td>\n",
       "      <td>-0.032051</td>\n",
       "      <td>0.012019</td>\n",
       "      <td>0.005263</td>\n",
       "      <td>0.000000</td>\n",
       "    </tr>\n",
       "    <tr>\n",
       "      <th>2020-11-26</th>\n",
       "      <td>-0.020619</td>\n",
       "      <td>0.006623</td>\n",
       "      <td>-0.020784</td>\n",
       "      <td>-0.010471</td>\n",
       "      <td>-0.055556</td>\n",
       "    </tr>\n",
       "    <tr>\n",
       "      <th>2020-11-27</th>\n",
       "      <td>0.007895</td>\n",
       "      <td>0.000000</td>\n",
       "      <td>-0.001213</td>\n",
       "      <td>0.000000</td>\n",
       "      <td>-0.022353</td>\n",
       "    </tr>\n",
       "    <tr>\n",
       "      <th>...</th>\n",
       "      <td>...</td>\n",
       "      <td>...</td>\n",
       "      <td>...</td>\n",
       "      <td>...</td>\n",
       "      <td>...</td>\n",
       "    </tr>\n",
       "    <tr>\n",
       "      <th>2021-05-14</th>\n",
       "      <td>-0.078014</td>\n",
       "      <td>-0.023474</td>\n",
       "      <td>-0.002751</td>\n",
       "      <td>-0.014085</td>\n",
       "      <td>-0.049881</td>\n",
       "    </tr>\n",
       "    <tr>\n",
       "      <th>2021-05-17</th>\n",
       "      <td>0.046154</td>\n",
       "      <td>0.056090</td>\n",
       "      <td>-0.006897</td>\n",
       "      <td>-0.004762</td>\n",
       "      <td>0.007500</td>\n",
       "    </tr>\n",
       "    <tr>\n",
       "      <th>2021-05-18</th>\n",
       "      <td>0.040441</td>\n",
       "      <td>-0.028832</td>\n",
       "      <td>-0.013889</td>\n",
       "      <td>0.000598</td>\n",
       "      <td>-0.031017</td>\n",
       "    </tr>\n",
       "    <tr>\n",
       "      <th>2021-05-19</th>\n",
       "      <td>-0.003534</td>\n",
       "      <td>-0.020312</td>\n",
       "      <td>0.012676</td>\n",
       "      <td>0.046025</td>\n",
       "      <td>0.023047</td>\n",
       "    </tr>\n",
       "    <tr>\n",
       "      <th>2021-05-20</th>\n",
       "      <td>0.021277</td>\n",
       "      <td>0.027113</td>\n",
       "      <td>-0.011127</td>\n",
       "      <td>0.011429</td>\n",
       "      <td>0.001252</td>\n",
       "    </tr>\n",
       "  </tbody>\n",
       "</table>\n",
       "<p>116 rows × 5 columns</p>\n",
       "</div>"
      ],
      "text/plain": [
       "                 MEG       ALI        AC       JFC       RLC\n",
       "2020-11-23       NaN       NaN       NaN       NaN       NaN\n",
       "2020-11-24 -0.025000  0.007752 -0.009524 -0.015544  0.016949\n",
       "2020-11-25 -0.005128 -0.032051  0.012019  0.005263  0.000000\n",
       "2020-11-26 -0.020619  0.006623 -0.020784 -0.010471 -0.055556\n",
       "2020-11-27  0.007895  0.000000 -0.001213  0.000000 -0.022353\n",
       "...              ...       ...       ...       ...       ...\n",
       "2021-05-14 -0.078014 -0.023474 -0.002751 -0.014085 -0.049881\n",
       "2021-05-17  0.046154  0.056090 -0.006897 -0.004762  0.007500\n",
       "2021-05-18  0.040441 -0.028832 -0.013889  0.000598 -0.031017\n",
       "2021-05-19 -0.003534 -0.020312  0.012676  0.046025  0.023047\n",
       "2021-05-20  0.021277  0.027113 -0.011127  0.011429  0.001252\n",
       "\n",
       "[116 rows x 5 columns]"
      ]
     },
     "execution_count": 6,
     "metadata": {},
     "output_type": "execute_result"
    }
   ],
   "source": [
    "prices_change"
   ]
  },
  {
   "cell_type": "markdown",
   "metadata": {},
   "source": [
    "## HVPLOT\n",
    "It is intelligent to know that you need a line plot here. HVPLOT is what you use as a substitute to the plot functionality of pandas."
   ]
  },
  {
   "cell_type": "code",
   "execution_count": 7,
   "metadata": {},
   "outputs": [
    {
     "data": {},
     "metadata": {},
     "output_type": "display_data"
    },
    {
     "data": {
      "application/vnd.holoviews_exec.v0+json": "",
      "text/html": [
       "<div id='1001'>\n",
       "\n",
       "\n",
       "\n",
       "\n",
       "\n",
       "  <div class=\"bk-root\" id=\"1fffe8b8-198b-4c14-9c5b-b97f7639a199\" data-root-id=\"1001\"></div>\n",
       "</div>\n",
       "<script type=\"application/javascript\">(function(root) {\n",
       "  function embed_document(root) {\n",
       "    var docs_json = {\"71dd9b86-1498-4a9a-adb0-e80912441a62\":{\"roots\":{\"references\":[{\"attributes\":{\"line_alpha\":0.1,\"line_color\":\"#ff7e0e\",\"line_width\":2,\"x\":{\"field\":\"index\"},\"y\":{\"field\":\"value\"}},\"id\":\"1078\",\"type\":\"Line\"},{\"attributes\":{\"source\":{\"id\":\"1074\"}},\"id\":\"1081\",\"type\":\"CDSView\"},{\"attributes\":{\"data\":{\"Variable\":[\"ALI\",\"ALI\",\"ALI\",\"ALI\",\"ALI\",\"ALI\",\"ALI\",\"ALI\",\"ALI\",\"ALI\",\"ALI\",\"ALI\",\"ALI\",\"ALI\",\"ALI\",\"ALI\",\"ALI\",\"ALI\",\"ALI\",\"ALI\",\"ALI\",\"ALI\",\"ALI\",\"ALI\",\"ALI\",\"ALI\",\"ALI\",\"ALI\",\"ALI\",\"ALI\",\"ALI\",\"ALI\",\"ALI\",\"ALI\",\"ALI\",\"ALI\",\"ALI\",\"ALI\",\"ALI\",\"ALI\",\"ALI\",\"ALI\",\"ALI\",\"ALI\",\"ALI\",\"ALI\",\"ALI\",\"ALI\",\"ALI\",\"ALI\",\"ALI\",\"ALI\",\"ALI\",\"ALI\",\"ALI\",\"ALI\",\"ALI\",\"ALI\",\"ALI\",\"ALI\",\"ALI\",\"ALI\",\"ALI\",\"ALI\",\"ALI\",\"ALI\",\"ALI\",\"ALI\",\"ALI\",\"ALI\",\"ALI\",\"ALI\",\"ALI\",\"ALI\",\"ALI\",\"ALI\",\"ALI\",\"ALI\",\"ALI\",\"ALI\",\"ALI\",\"ALI\",\"ALI\",\"ALI\",\"ALI\",\"ALI\",\"ALI\",\"ALI\",\"ALI\",\"ALI\",\"ALI\",\"ALI\",\"ALI\",\"ALI\",\"ALI\",\"ALI\",\"ALI\",\"ALI\",\"ALI\",\"ALI\",\"ALI\",\"ALI\",\"ALI\",\"ALI\",\"ALI\",\"ALI\",\"ALI\",\"ALI\",\"ALI\",\"ALI\",\"ALI\",\"ALI\",\"ALI\",\"ALI\",\"ALI\",\"ALI\"],\"index\":{\"__ndarray__\":\"AADAZiZfd0IAAIDMeF93QgAAQDLLX3dCAAAAmB1gd0IAAMD9b2B3QgAAwJS5YXdCAACA+gtid0IAAEBgXmJ3QgAAAMawYndCAABA96djd0IAAMDCTGR3QgAAgCifZHdCAABAjvFkd0IAAIC/6GV3QgAAQCU7ZndCAAAAi41md0IAAMDw32Z3QgAAgFYyZ3dCAADAhylod0IAAIDte2h3QgAAQFPOaHdCAAAAUGpqd0IAAMC1vGp3QgAAQBirbHdCAAAAfv1sd0IAAMDjT213QgAAgEmibXdCAABAr/Rtd0IAAIDg6253QgAAQEY+b3dCAAAArJBvd0IAAMAR4293QgAAgHc1cHdCAADAqCxxd0IAAIAOf3F3QgAAQHTRcXdCAAAA2iNyd0IAAMA/dnJ3QgAAAHFtc3dCAADA1r9zd0IAAIA8EnR3QgAAQKJkdHdCAAAACLd0d0IAAEA5rnV3QgAAAJ8AdndCAADABFN2d0IAAIBqpXZ3QgAAQND3dndCAACAAe93d0IAAEBnQXh3QgAAAM2TeHdCAADAMuZ4d0IAAMDJL3p3QgAAgC+CendCAABAldR6d0IAAAD7Jnt3QgAAwGB5e3dCAAAAknB8d0IAAMD3wnx3QgAAgF0VfXdCAAAAKbp9d0IAAEBasX53QgAAAMADf3dCAADAJVZ/d0IAAICLqH93QgAAQPH6f3dCAACAIvKAd0IAAECIRIF3QgAAAO6WgXdCAADAU+mBd0IAAIC5O4J3QgAAwOoyg3dCAACAUIWDd0IAAEC214N3QgAAABwqhHdCAADAgXyEd0IAAACzc4V3QgAAwBjGhXdCAACAfhiGd0IAAEDkaoZ3QgAAAEq9hndCAABAe7SHd0IAAADhBoh3QgAAwEZZiHdCAACAQ/WJd0IAAECpR4p3QgAAAA+aindCAADAdOyKd0IAAMALNox3QgAAgHGIjHdCAABA19qMd0IAAAA9LY13QgAAwKJ/jXdCAAAA1HaOd0IAAMA5yY53QgAAgJ8bj3dCAABABW6Pd0IAAABrwI93QgAAQJy3kHdCAAAAAgqRd0IAAMBnXJF3QgAAgM2ukXdCAABAMwGSd0IAAIBk+JJ3QgAAQMpKk3dCAAAAMJ2Td0IAAMCV75N3QgAAgPtBlHdCAADALDmVd0IAAICSi5V3QgAAQPjdlXdCAADAw4KWd0IAAAD1eZd3QgAAwFrMl3dCAACAwB6Yd0IAAEAmcZh3Qg==\",\"dtype\":\"float64\",\"order\":\"little\",\"shape\":[116]},\"value\":{\"__ndarray__\":\"AAAAAAAA+H8ACPwBf8B/P5AGaZAGaaC/AIFsQDYgez8AAAAAAAAAAEB5DeU1lKc/wHgr+xxSkz8AbMEWbMGWv4BnSMzbGYI/AL7tpinCbr9g3hWZL02cv2DEHXFH3KE/oHbt+bLQoz8AO7ETO7Fjv4ApI9lgvXO/AHaqkdnVgz8ALLhUtnd9PwA4gRM4gWO/AA0ZPbRTbb8A8iJaHp9TvwDIejgkpVM/AAAAAAAAAACgIsU/ENmUv4DLc99Tips/IIZhGIZhmL8AFLA/AftTP0BnZIYtdoG/wD7EeMBilT8Afx4j8pJtvwCse6SVyVM/gN0vSY/wmb8A2mJl+EZkvwAyK9TGfW6/AN4Yph2Bib8AAAAAAAAAAEBbrf8oqZS/wKUB45dbmj/ABOVjnY6Ev4DJyhN3jYw/AAAAAAAAAADAHoXrUbievwAAAAAAAAAAABX44uoHnb+A+kfGvLqlPwAAAAAAAAAAgGnugr+Kk78AmBKYEpiCP4BSZ8fdo5s/ANPzGXGBlD9AZaL1rp2GvwB3x+LZU3Q/AOUByTpXbr8Amu01usOBvwAUrkfhemQ/wOT6h/sWjL9g+yGBtx+SvwD6AaocoW8/ABERERERkb+ArQkdVwVwv4B42uMqIIg/gC+w/AEyhT+AWet6bfqUP0BkaLfJ/IG/ANd5TN4bfz9QSQEJP7mgvwAAAAAAAAAAwMpPiLPyk7+gYFGwKFiUvwA2ISh7X4M/wPXZjO+PlL8AI1Fq7GGGPyDnoWN4cZ6/AFbhnDwdcb8AtRjRKOpmvwC7v5pJG4Q/UFVVVVVVpb9gQegf3caUv4BuX1m9S44/gLsD/ZvpkT8AFDQNxppxPwCwIrVQX1e/wMlqeWMEkz8AQyRDnfp2v6ALYH46xp+/ALg/O+/icT8AAi6Ss75nPwDt4AgirWe/AAAAAAAAAADAwXMEiraKvwCxgc8Yjpa/AIgB9sCZWL+Au4GHoLeLPwAHx9rgWIu/AIsBXDmjeD8Ab6tAg32IvwDuAU9kyVi/4BvWvmHtm78Awo4NL4VpPwCKCbqrFIM/wJKOT19bjL/Aouk3dF2WPwBb+V6jwnI/QBCTK4jJlb8Atgz45HBpP0DmX21SiIy/AKLcN1lKcz8AmpmZmZl5PwC4DPjkcFk/AGyWAcxmWb8AuAz45HBZP4DRMAEZDYO/4Kstcp0JmL+Ay7d8y7esP+BeRHAFhp2/wMzMzMzMlL9AX82TksObPw==\",\"dtype\":\"float64\",\"order\":\"little\",\"shape\":[116]}},\"selected\":{\"id\":\"1075\"},\"selection_policy\":{\"id\":\"1090\"}},\"id\":\"1074\",\"type\":\"ColumnDataSource\"},{\"attributes\":{\"line_alpha\":0.1,\"line_color\":\"#d62628\",\"line_width\":2,\"x\":{\"field\":\"index\"},\"y\":{\"field\":\"value\"}},\"id\":\"1142\",\"type\":\"Line\"},{\"attributes\":{\"callback\":null,\"formatters\":{\"@{index}\":\"datetime\"},\"renderers\":[{\"id\":\"1050\"},{\"id\":\"1080\"},{\"id\":\"1111\"},{\"id\":\"1144\"},{\"id\":\"1179\"}],\"tags\":[\"hv_created\"],\"tooltips\":[[\"Variable\",\"@{Variable}\"],[\"index\",\"@{index}{%F %T}\"],[\"value\",\"@{value}\"]]},\"id\":\"1005\",\"type\":\"HoverTool\"},{\"attributes\":{\"label\":{\"value\":\"ALI\"},\"renderers\":[{\"id\":\"1080\"}]},\"id\":\"1104\",\"type\":\"LegendItem\"},{\"attributes\":{\"data_source\":{\"id\":\"1074\"},\"glyph\":{\"id\":\"1077\"},\"hover_glyph\":null,\"muted_glyph\":{\"id\":\"1079\"},\"nonselection_glyph\":{\"id\":\"1078\"},\"selection_glyph\":null,\"view\":{\"id\":\"1081\"}},\"id\":\"1080\",\"type\":\"GlyphRenderer\"},{\"attributes\":{},\"id\":\"1158\",\"type\":\"UnionRenderers\"},{\"attributes\":{},\"id\":\"1090\",\"type\":\"UnionRenderers\"},{\"attributes\":{\"label\":{\"value\":\"RLC\"},\"renderers\":[{\"id\":\"1179\"}]},\"id\":\"1209\",\"type\":\"LegendItem\"},{\"attributes\":{\"line_alpha\":0.2,\"line_color\":\"#d62628\",\"line_width\":2,\"x\":{\"field\":\"index\"},\"y\":{\"field\":\"value\"}},\"id\":\"1143\",\"type\":\"Line\"},{\"attributes\":{},\"id\":\"1045\",\"type\":\"Selection\"},{\"attributes\":{\"margin\":[5,5,5,5],\"name\":\"HSpacer01634\",\"sizing_mode\":\"stretch_width\"},\"id\":\"1002\",\"type\":\"Spacer\"},{\"attributes\":{\"line_color\":\"#d62628\",\"line_width\":2,\"x\":{\"field\":\"index\"},\"y\":{\"field\":\"value\"}},\"id\":\"1141\",\"type\":\"Line\"},{\"attributes\":{\"bottom_units\":\"screen\",\"fill_alpha\":0.5,\"fill_color\":\"lightgrey\",\"left_units\":\"screen\",\"level\":\"overlay\",\"line_alpha\":1.0,\"line_color\":\"black\",\"line_dash\":[4,4],\"line_width\":2,\"right_units\":\"screen\",\"top_units\":\"screen\"},\"id\":\"1032\",\"type\":\"BoxAnnotation\"},{\"attributes\":{},\"id\":\"1106\",\"type\":\"Selection\"},{\"attributes\":{},\"id\":\"1015\",\"type\":\"LinearScale\"},{\"attributes\":{\"line_alpha\":0.2,\"line_color\":\"#ff7e0e\",\"line_width\":2,\"x\":{\"field\":\"index\"},\"y\":{\"field\":\"value\"}},\"id\":\"1079\",\"type\":\"Line\"},{\"attributes\":{},\"id\":\"1058\",\"type\":\"UnionRenderers\"},{\"attributes\":{\"source\":{\"id\":\"1044\"}},\"id\":\"1051\",\"type\":\"CDSView\"},{\"attributes\":{},\"id\":\"1123\",\"type\":\"UnionRenderers\"},{\"attributes\":{\"line_alpha\":0.1,\"line_color\":\"#1f77b3\",\"line_width\":2,\"x\":{\"field\":\"index\"},\"y\":{\"field\":\"value\"}},\"id\":\"1048\",\"type\":\"Line\"},{\"attributes\":{},\"id\":\"1139\",\"type\":\"Selection\"},{\"attributes\":{\"margin\":[5,5,5,5],\"name\":\"HSpacer01635\",\"sizing_mode\":\"stretch_width\"},\"id\":\"1462\",\"type\":\"Spacer\"},{\"attributes\":{\"line_alpha\":0.2,\"line_color\":\"#1f77b3\",\"line_width\":2,\"x\":{\"field\":\"index\"},\"y\":{\"field\":\"value\"}},\"id\":\"1049\",\"type\":\"Line\"},{\"attributes\":{},\"id\":\"1075\",\"type\":\"Selection\"},{\"attributes\":{\"data_source\":{\"id\":\"1173\"},\"glyph\":{\"id\":\"1176\"},\"hover_glyph\":null,\"muted_glyph\":{\"id\":\"1178\"},\"nonselection_glyph\":{\"id\":\"1177\"},\"selection_glyph\":null,\"view\":{\"id\":\"1180\"}},\"id\":\"1179\",\"type\":\"GlyphRenderer\"},{\"attributes\":{\"label\":{\"value\":\"AC\"},\"renderers\":[{\"id\":\"1111\"}]},\"id\":\"1137\",\"type\":\"LegendItem\"},{\"attributes\":{\"days\":[1,15]},\"id\":\"1066\",\"type\":\"DaysTicker\"},{\"attributes\":{\"line_alpha\":0.2,\"line_color\":\"#9367bc\",\"line_width\":2,\"x\":{\"field\":\"index\"},\"y\":{\"field\":\"value\"}},\"id\":\"1178\",\"type\":\"Line\"},{\"attributes\":{\"end\":0.08024044282996026,\"reset_end\":0.08024044282996026,\"reset_start\":-0.09240096869053785,\"start\":-0.09240096869053785,\"tags\":[[[\"value\",\"value\",null]]]},\"id\":\"1004\",\"type\":\"Range1d\"},{\"attributes\":{\"months\":[0,1,2,3,4,5,6,7,8,9,10,11]},\"id\":\"1067\",\"type\":\"MonthsTicker\"},{\"attributes\":{\"children\":[{\"id\":\"1002\"},{\"id\":\"1010\"},{\"id\":\"1462\"}],\"margin\":[0,0,0,0],\"name\":\"Row01630\",\"tags\":[\"embedded\"]},\"id\":\"1001\",\"type\":\"Row\"},{\"attributes\":{\"overlay\":{\"id\":\"1032\"}},\"id\":\"1030\",\"type\":\"BoxZoomTool\"},{\"attributes\":{},\"id\":\"1040\",\"type\":\"DatetimeTickFormatter\"},{\"attributes\":{\"months\":[0,2,4,6,8,10]},\"id\":\"1068\",\"type\":\"MonthsTicker\"},{\"attributes\":{},\"id\":\"1029\",\"type\":\"WheelZoomTool\"},{\"attributes\":{\"line_alpha\":0.1,\"line_color\":\"#9367bc\",\"line_width\":2,\"x\":{\"field\":\"index\"},\"y\":{\"field\":\"value\"}},\"id\":\"1177\",\"type\":\"Line\"},{\"attributes\":{},\"id\":\"1031\",\"type\":\"ResetTool\"},{\"attributes\":{\"months\":[0,4,8]},\"id\":\"1069\",\"type\":\"MonthsTicker\"},{\"attributes\":{},\"id\":\"1028\",\"type\":\"PanTool\"},{\"attributes\":{\"axis\":{\"id\":\"1019\"},\"grid_line_color\":null,\"ticker\":null},\"id\":\"1022\",\"type\":\"Grid\"},{\"attributes\":{},\"id\":\"1027\",\"type\":\"SaveTool\"},{\"attributes\":{\"source\":{\"id\":\"1173\"}},\"id\":\"1180\",\"type\":\"CDSView\"},{\"attributes\":{\"line_color\":\"#2ba02b\",\"line_width\":2,\"x\":{\"field\":\"index\"},\"y\":{\"field\":\"value\"}},\"id\":\"1108\",\"type\":\"Line\"},{\"attributes\":{\"data_source\":{\"id\":\"1105\"},\"glyph\":{\"id\":\"1108\"},\"hover_glyph\":null,\"muted_glyph\":{\"id\":\"1110\"},\"nonselection_glyph\":{\"id\":\"1109\"},\"selection_glyph\":null,\"view\":{\"id\":\"1112\"}},\"id\":\"1111\",\"type\":\"GlyphRenderer\"},{\"attributes\":{\"data_source\":{\"id\":\"1044\"},\"glyph\":{\"id\":\"1047\"},\"hover_glyph\":null,\"muted_glyph\":{\"id\":\"1049\"},\"nonselection_glyph\":{\"id\":\"1048\"},\"selection_glyph\":null,\"view\":{\"id\":\"1051\"}},\"id\":\"1050\",\"type\":\"GlyphRenderer\"},{\"attributes\":{\"months\":[0,6]},\"id\":\"1070\",\"type\":\"MonthsTicker\"},{\"attributes\":{},\"id\":\"1017\",\"type\":\"LinearScale\"},{\"attributes\":{\"days\":[1,4,7,10,13,16,19,22,25,28]},\"id\":\"1064\",\"type\":\"DaysTicker\"},{\"attributes\":{\"line_color\":\"#9367bc\",\"line_width\":2,\"x\":{\"field\":\"index\"},\"y\":{\"field\":\"value\"}},\"id\":\"1176\",\"type\":\"Line\"},{\"attributes\":{\"label\":{\"value\":\"JFC\"},\"renderers\":[{\"id\":\"1144\"}]},\"id\":\"1172\",\"type\":\"LegendItem\"},{\"attributes\":{\"click_policy\":\"mute\",\"items\":[{\"id\":\"1073\"},{\"id\":\"1104\"},{\"id\":\"1137\"},{\"id\":\"1172\"},{\"id\":\"1209\"}],\"location\":[0,0],\"title\":\"Variable\"},\"id\":\"1072\",\"type\":\"Legend\"},{\"attributes\":{\"data\":{\"Variable\":[\"MEG\",\"MEG\",\"MEG\",\"MEG\",\"MEG\",\"MEG\",\"MEG\",\"MEG\",\"MEG\",\"MEG\",\"MEG\",\"MEG\",\"MEG\",\"MEG\",\"MEG\",\"MEG\",\"MEG\",\"MEG\",\"MEG\",\"MEG\",\"MEG\",\"MEG\",\"MEG\",\"MEG\",\"MEG\",\"MEG\",\"MEG\",\"MEG\",\"MEG\",\"MEG\",\"MEG\",\"MEG\",\"MEG\",\"MEG\",\"MEG\",\"MEG\",\"MEG\",\"MEG\",\"MEG\",\"MEG\",\"MEG\",\"MEG\",\"MEG\",\"MEG\",\"MEG\",\"MEG\",\"MEG\",\"MEG\",\"MEG\",\"MEG\",\"MEG\",\"MEG\",\"MEG\",\"MEG\",\"MEG\",\"MEG\",\"MEG\",\"MEG\",\"MEG\",\"MEG\",\"MEG\",\"MEG\",\"MEG\",\"MEG\",\"MEG\",\"MEG\",\"MEG\",\"MEG\",\"MEG\",\"MEG\",\"MEG\",\"MEG\",\"MEG\",\"MEG\",\"MEG\",\"MEG\",\"MEG\",\"MEG\",\"MEG\",\"MEG\",\"MEG\",\"MEG\",\"MEG\",\"MEG\",\"MEG\",\"MEG\",\"MEG\",\"MEG\",\"MEG\",\"MEG\",\"MEG\",\"MEG\",\"MEG\",\"MEG\",\"MEG\",\"MEG\",\"MEG\",\"MEG\",\"MEG\",\"MEG\",\"MEG\",\"MEG\",\"MEG\",\"MEG\",\"MEG\",\"MEG\",\"MEG\",\"MEG\",\"MEG\",\"MEG\",\"MEG\",\"MEG\",\"MEG\",\"MEG\",\"MEG\",\"MEG\"],\"index\":{\"__ndarray__\":\"AADAZiZfd0IAAIDMeF93QgAAQDLLX3dCAAAAmB1gd0IAAMD9b2B3QgAAwJS5YXdCAACA+gtid0IAAEBgXmJ3QgAAAMawYndCAABA96djd0IAAMDCTGR3QgAAgCifZHdCAABAjvFkd0IAAIC/6GV3QgAAQCU7ZndCAAAAi41md0IAAMDw32Z3QgAAgFYyZ3dCAADAhylod0IAAIDte2h3QgAAQFPOaHdCAAAAUGpqd0IAAMC1vGp3QgAAQBirbHdCAAAAfv1sd0IAAMDjT213QgAAgEmibXdCAABAr/Rtd0IAAIDg6253QgAAQEY+b3dCAAAArJBvd0IAAMAR4293QgAAgHc1cHdCAADAqCxxd0IAAIAOf3F3QgAAQHTRcXdCAAAA2iNyd0IAAMA/dnJ3QgAAAHFtc3dCAADA1r9zd0IAAIA8EnR3QgAAQKJkdHdCAAAACLd0d0IAAEA5rnV3QgAAAJ8AdndCAADABFN2d0IAAIBqpXZ3QgAAQND3dndCAACAAe93d0IAAEBnQXh3QgAAAM2TeHdCAADAMuZ4d0IAAMDJL3p3QgAAgC+CendCAABAldR6d0IAAAD7Jnt3QgAAwGB5e3dCAAAAknB8d0IAAMD3wnx3QgAAgF0VfXdCAAAAKbp9d0IAAEBasX53QgAAAMADf3dCAADAJVZ/d0IAAICLqH93QgAAQPH6f3dCAACAIvKAd0IAAECIRIF3QgAAAO6WgXdCAADAU+mBd0IAAIC5O4J3QgAAwOoyg3dCAACAUIWDd0IAAEC214N3QgAAABwqhHdCAADAgXyEd0IAAACzc4V3QgAAwBjGhXdCAACAfhiGd0IAAEDkaoZ3QgAAAEq9hndCAABAe7SHd0IAAADhBoh3QgAAwEZZiHdCAACAQ/WJd0IAAECpR4p3QgAAAA+aindCAADAdOyKd0IAAMALNox3QgAAgHGIjHdCAABA19qMd0IAAAA9LY13QgAAwKJ/jXdCAAAA1HaOd0IAAMA5yY53QgAAgJ8bj3dCAABABW6Pd0IAAABrwI93QgAAQJy3kHdCAAAAAgqRd0IAAMBnXJF3QgAAgM2ukXdCAABAMwGSd0IAAIBk+JJ3QgAAQMpKk3dCAAAAMJ2Td0IAAMCV75N3QgAAgPtBlHdCAADALDmVd0IAAICSi5V3QgAAQPjdlXdCAADAw4KWd0IAAAD1eZd3QgAAwFrMl3dCAACAwB6Yd0IAAEAmcZh3Qg==\",\"dtype\":\"float64\",\"order\":\"little\",\"shape\":[116]},\"value\":{\"__ndarray__\":\"AAAAAAAA+H+gmZmZmZmZvwBQARVQAXW/IPji6gcdlb8AA2GkHSuAP4DILMMkt5I/AKRBGqRBir8A1EEd1EGdPwAffPDBB48/gM/1x8tghL+A0LLjOZV0v4C/UqDWr3S/gBvvqGb9iT/gCqErhK6gP+ATSCXnZaG/gDiM1dbfnj8AAAAAAAAAAAAZnI/B+Yi/wOnW/LBIib+AFK5H4XqEPwDaYmX4RoS/gBSuR+F6hL8AH3zwwQefPwAZGRkZGZk/AK+hvIbymr8Aho25DzF+vwBHFJh0ao4/wBehexG6pz+AZiQvld6HvyBX9jmkJpi/QPEzSvyMoj8A7OlYdxhjPwDRMAEZDWO/AOvpWHcYY7/AruXgZr+QvwBGydFbdZO/AHaqkdnVYz/ggbl2YK6dvwAAAAAAAAAAcP3xMhgFrL8AWYEw0o6Fv4ByBTG5gpg/AEUZ2rjqf7+AUDztcRWQPwD44uoHHXW/ABhu7Y3Vjz8ABS+n4OWEPwAffPDBB38/gEgBIgWIdL+AwSSjzzaXvwD44uoHHXU/IKRBGqRBmr8AWoEw0o5lPwAGg8FgMJg/AFABFVABZT8ATd1ij/NkvwBQARVQAWW/ADZWmetSmr/A2dp0CTaAvyBMriAmV5C/QGIBd/ojlr8gzRNqAWOiPwAb6LSBTos/AISRdqxAmL+ArjFosxSGvwB47KO7vZA/QAikrZc3o78AAAAAAAAAAICPsWFx95M/AGzlhGf6i7/gtk7pH9uTv4AoJBfwequ/QIAoxaJllT+AH8F9BPeRPwCleIFMinc/wKk05Nxnh7/A7OAIIq2XvyAPBpxxLaI/UH8nq+WNob8AZ1yLBDWVPwChf3QbU6A/ANKPfvSjnz8AAAAAAAAAAOCz4nWZHJm/ADhDa/fhdj8Ax3Ecx3GMPwBnATafcYY/AMGKuFYzhr8AZwE2n3GGP+AYnI/B+Zi/EBERERERob/gBTIpXiCjvwBukM0dV4I/8JIHA864pr8AeOMLu1xpPwDq1vywSIm/gJmZmZmZib/AMxCVjuyJv0CkQRqkQZo/gGZmZmZmlr8AAAAAAAAAAAAexYcqLGo/AEp6+dMWaj8AnwEaoAFqvwBLevnTFpq/IBQUFBQUlL+AFK5H4XqUPyBmuxBmu5C/AAfYSkg3iz9A/qFva4CXv5Az2j1sfau/SCSc0rz4s78geqEXeqGnP6C0tLS0tKQ/AMFEXG7ybL9AEJMriMmVPw==\",\"dtype\":\"float64\",\"order\":\"little\",\"shape\":[116]}},\"selected\":{\"id\":\"1045\"},\"selection_policy\":{\"id\":\"1058\"}},\"id\":\"1044\",\"type\":\"ColumnDataSource\"},{\"attributes\":{\"base\":60,\"mantissas\":[1,2,5,10,15,20,30],\"max_interval\":1800000.0,\"min_interval\":1000.0,\"num_minor_ticks\":0},\"id\":\"1061\",\"type\":\"AdaptiveTicker\"},{\"attributes\":{},\"id\":\"1071\",\"type\":\"YearsTicker\"},{\"attributes\":{},\"id\":\"1174\",\"type\":\"Selection\"},{\"attributes\":{\"axis_label\":\"\",\"bounds\":\"auto\",\"formatter\":{\"id\":\"1040\"},\"major_label_orientation\":\"horizontal\",\"ticker\":{\"id\":\"1020\"}},\"id\":\"1019\",\"type\":\"DatetimeAxis\"},{\"attributes\":{\"below\":[{\"id\":\"1019\"}],\"center\":[{\"id\":\"1022\"},{\"id\":\"1026\"}],\"left\":[{\"id\":\"1023\"}],\"margin\":[5,5,5,5],\"min_border_bottom\":10,\"min_border_left\":10,\"min_border_right\":10,\"min_border_top\":10,\"plot_height\":300,\"plot_width\":700,\"renderers\":[{\"id\":\"1050\"},{\"id\":\"1080\"},{\"id\":\"1111\"},{\"id\":\"1144\"},{\"id\":\"1179\"}],\"right\":[{\"id\":\"1072\"}],\"sizing_mode\":\"fixed\",\"title\":{\"id\":\"1011\"},\"toolbar\":{\"id\":\"1033\"},\"x_range\":{\"id\":\"1003\"},\"x_scale\":{\"id\":\"1015\"},\"y_range\":{\"id\":\"1004\"},\"y_scale\":{\"id\":\"1017\"}},\"id\":\"1010\",\"subtype\":\"Figure\",\"type\":\"Plot\"},{\"attributes\":{\"axis\":{\"id\":\"1023\"},\"dimension\":1,\"grid_line_color\":null,\"ticker\":null},\"id\":\"1026\",\"type\":\"Grid\"},{\"attributes\":{\"active_drag\":\"auto\",\"active_inspect\":\"auto\",\"active_multi\":null,\"active_scroll\":\"auto\",\"active_tap\":\"auto\",\"tools\":[{\"id\":\"1005\"},{\"id\":\"1027\"},{\"id\":\"1028\"},{\"id\":\"1029\"},{\"id\":\"1030\"},{\"id\":\"1031\"}]},\"id\":\"1033\",\"type\":\"Toolbar\"},{\"attributes\":{\"line_alpha\":0.2,\"line_color\":\"#2ba02b\",\"line_width\":2,\"x\":{\"field\":\"index\"},\"y\":{\"field\":\"value\"}},\"id\":\"1110\",\"type\":\"Line\"},{\"attributes\":{\"line_color\":\"#1f77b3\",\"line_width\":2,\"x\":{\"field\":\"index\"},\"y\":{\"field\":\"value\"}},\"id\":\"1047\",\"type\":\"Line\"},{\"attributes\":{\"label\":{\"value\":\"MEG\"},\"renderers\":[{\"id\":\"1050\"}]},\"id\":\"1073\",\"type\":\"LegendItem\"},{\"attributes\":{\"data_source\":{\"id\":\"1138\"},\"glyph\":{\"id\":\"1141\"},\"hover_glyph\":null,\"muted_glyph\":{\"id\":\"1143\"},\"nonselection_glyph\":{\"id\":\"1142\"},\"selection_glyph\":null,\"view\":{\"id\":\"1145\"}},\"id\":\"1144\",\"type\":\"GlyphRenderer\"},{\"attributes\":{\"end\":1621468800000.0,\"reset_end\":1621468800000.0,\"reset_start\":1606089600000.0,\"start\":1606089600000.0,\"tags\":[[[\"index\",\"index\",null]]]},\"id\":\"1003\",\"type\":\"Range1d\"},{\"attributes\":{\"days\":[1,2,3,4,5,6,7,8,9,10,11,12,13,14,15,16,17,18,19,20,21,22,23,24,25,26,27,28,29,30,31]},\"id\":\"1063\",\"type\":\"DaysTicker\"},{\"attributes\":{\"line_alpha\":0.1,\"line_color\":\"#2ba02b\",\"line_width\":2,\"x\":{\"field\":\"index\"},\"y\":{\"field\":\"value\"}},\"id\":\"1109\",\"type\":\"Line\"},{\"attributes\":{},\"id\":\"1195\",\"type\":\"UnionRenderers\"},{\"attributes\":{\"num_minor_ticks\":5,\"tickers\":[{\"id\":\"1060\"},{\"id\":\"1061\"},{\"id\":\"1062\"},{\"id\":\"1063\"},{\"id\":\"1064\"},{\"id\":\"1065\"},{\"id\":\"1066\"},{\"id\":\"1067\"},{\"id\":\"1068\"},{\"id\":\"1069\"},{\"id\":\"1070\"},{\"id\":\"1071\"}]},\"id\":\"1020\",\"type\":\"DatetimeTicker\"},{\"attributes\":{\"source\":{\"id\":\"1105\"}},\"id\":\"1112\",\"type\":\"CDSView\"},{\"attributes\":{\"base\":24,\"mantissas\":[1,2,4,6,8,12],\"max_interval\":43200000.0,\"min_interval\":3600000.0,\"num_minor_ticks\":0},\"id\":\"1062\",\"type\":\"AdaptiveTicker\"},{\"attributes\":{},\"id\":\"1042\",\"type\":\"BasicTickFormatter\"},{\"attributes\":{\"axis_label\":\"\",\"bounds\":\"auto\",\"formatter\":{\"id\":\"1042\"},\"major_label_orientation\":\"horizontal\",\"ticker\":{\"id\":\"1024\"}},\"id\":\"1023\",\"type\":\"LinearAxis\"},{\"attributes\":{\"data\":{\"Variable\":[\"RLC\",\"RLC\",\"RLC\",\"RLC\",\"RLC\",\"RLC\",\"RLC\",\"RLC\",\"RLC\",\"RLC\",\"RLC\",\"RLC\",\"RLC\",\"RLC\",\"RLC\",\"RLC\",\"RLC\",\"RLC\",\"RLC\",\"RLC\",\"RLC\",\"RLC\",\"RLC\",\"RLC\",\"RLC\",\"RLC\",\"RLC\",\"RLC\",\"RLC\",\"RLC\",\"RLC\",\"RLC\",\"RLC\",\"RLC\",\"RLC\",\"RLC\",\"RLC\",\"RLC\",\"RLC\",\"RLC\",\"RLC\",\"RLC\",\"RLC\",\"RLC\",\"RLC\",\"RLC\",\"RLC\",\"RLC\",\"RLC\",\"RLC\",\"RLC\",\"RLC\",\"RLC\",\"RLC\",\"RLC\",\"RLC\",\"RLC\",\"RLC\",\"RLC\",\"RLC\",\"RLC\",\"RLC\",\"RLC\",\"RLC\",\"RLC\",\"RLC\",\"RLC\",\"RLC\",\"RLC\",\"RLC\",\"RLC\",\"RLC\",\"RLC\",\"RLC\",\"RLC\",\"RLC\",\"RLC\",\"RLC\",\"RLC\",\"RLC\",\"RLC\",\"RLC\",\"RLC\",\"RLC\",\"RLC\",\"RLC\",\"RLC\",\"RLC\",\"RLC\",\"RLC\",\"RLC\",\"RLC\",\"RLC\",\"RLC\",\"RLC\",\"RLC\",\"RLC\",\"RLC\",\"RLC\",\"RLC\",\"RLC\",\"RLC\",\"RLC\",\"RLC\",\"RLC\",\"RLC\",\"RLC\",\"RLC\",\"RLC\",\"RLC\",\"RLC\",\"RLC\",\"RLC\",\"RLC\",\"RLC\",\"RLC\"],\"index\":{\"__ndarray__\":\"AADAZiZfd0IAAIDMeF93QgAAQDLLX3dCAAAAmB1gd0IAAMD9b2B3QgAAwJS5YXdCAACA+gtid0IAAEBgXmJ3QgAAAMawYndCAABA96djd0IAAMDCTGR3QgAAgCifZHdCAABAjvFkd0IAAIC/6GV3QgAAQCU7ZndCAAAAi41md0IAAMDw32Z3QgAAgFYyZ3dCAADAhylod0IAAIDte2h3QgAAQFPOaHdCAAAAUGpqd0IAAMC1vGp3QgAAQBirbHdCAAAAfv1sd0IAAMDjT213QgAAgEmibXdCAABAr/Rtd0IAAIDg6253QgAAQEY+b3dCAAAArJBvd0IAAMAR4293QgAAgHc1cHdCAADAqCxxd0IAAIAOf3F3QgAAQHTRcXdCAAAA2iNyd0IAAMA/dnJ3QgAAAHFtc3dCAADA1r9zd0IAAIA8EnR3QgAAQKJkdHdCAAAACLd0d0IAAEA5rnV3QgAAAJ8AdndCAADABFN2d0IAAIBqpXZ3QgAAQND3dndCAACAAe93d0IAAEBnQXh3QgAAAM2TeHdCAADAMuZ4d0IAAMDJL3p3QgAAgC+CendCAABAldR6d0IAAAD7Jnt3QgAAwGB5e3dCAAAAknB8d0IAAMD3wnx3QgAAgF0VfXdCAAAAKbp9d0IAAEBasX53QgAAAMADf3dCAADAJVZ/d0IAAICLqH93QgAAQPH6f3dCAACAIvKAd0IAAECIRIF3QgAAAO6WgXdCAADAU+mBd0IAAIC5O4J3QgAAwOoyg3dCAACAUIWDd0IAAEC214N3QgAAABwqhHdCAADAgXyEd0IAAACzc4V3QgAAwBjGhXdCAACAfhiGd0IAAEDkaoZ3QgAAAEq9hndCAABAe7SHd0IAAADhBoh3QgAAwEZZiHdCAACAQ/WJd0IAAECpR4p3QgAAAA+aindCAADAdOyKd0IAAMALNox3QgAAgHGIjHdCAABA19qMd0IAAAA9LY13QgAAwKJ/jXdCAAAA1HaOd0IAAMA5yY53QgAAgJ8bj3dCAABABW6Pd0IAAABrwI93QgAAQJy3kHdCAAAAAgqRd0IAAMBnXJF3QgAAgM2ukXdCAABAMwGSd0IAAIBk+JJ3QgAAQMpKk3dCAAAAMJ2Td0IAAMCV75N3QgAAgPtBlHdCAADALDmVd0IAAICSi5V3QgAAQPjdlXdCAADAw4KWd0IAAAD1eZd3QgAAwFrMl3dCAACAwB6Yd0IAAEAmcZh3Qg==\",\"dtype\":\"float64\",\"order\":\"little\",\"shape\":[116]},\"value\":{\"__ndarray__\":\"AAAAAAAA+H8AJ3VfHluRPwAAAAAAAAAAIMdxHMdxrL/gFkp9sOOWv6Cvut6T4Kk/AKAuObUmjD/ghrZF8/ulPwC8rj46aqM/ABoRILxglT/AXcXvxuSTP0DaAx1jpoi/gK8lh7jKpD/gkLwNyduwP0A3Wo75voK/ANL+oU7rYj+AgEvAJeCSvwCbA4lW2Iy/AAAAAAAAAAAAOIETOIFjvwAIZtMijWM/AIZhGIZhiL+Ajkf0DDWWPwB6K/scUmM/ABTgrHlGY7+AeCv7HFJzvwBKUS8jsao/ACeBuFBzcj8Ak4BwIl5yP4AkSZIkSZK/ABPkKUGeYr8AwfOSHKlyPwAFuFtyk3K/gCkPSoeomb+gECtK4yOTvwA4gRM4gWM/AEbJ0Vt1Yz+AB97zjWlzvyCGYRiGYZi/gBSuR+F6pL8w0mEjHTaivwAUAYy1Q1E/AEY0jQ4/Ub8AnwFSkOV5P4AP8lvrlqc/AIoB9sCZeL8AAAAAAAAAAAA/a2DKz4q/wGw4YtoTmb8AMV3nWCNhvwB5K/scUoM/AMGODS+Feb/ApHiBTIqXP0CBC1zgAoe/AJzma/XsUD+ApJeyfOhwvwCu8b2kd2m/gDLBNfsog78As/uPKDFhvyAho27DJpC/YHiFV3iFpz+AMJgeaRqJPwBr/TWx7ny/AAAAAAAAAAAAEGgKgaZgP0BkW5BSxYS/oOKSIVhHm78AAAAAAAAAAABGNI0OP1G/gOMBtX02jr8AGBgYGBiIvwAffPDBB5+/ACRJkiRJcj8AbMEWbMGWPwBh3K9LKn+/gGvx8/rxgb8Ac1PRPKF2vwBswRZswYa/AAJBOw2de78A8nsZ8nuJP0Dcg02PdYu/ADbdpw+OYj+A7qjYZxWOPwBhF5e3PnK/QHqVxRntnj8A7IcvHa9qP4DtRkBKu3G/AMFzBIq2er+AlL9abuN6v8DAZwxHC4K/gBvotIFOe78A1TXehOh2vyAGg8FgMJi/AIBLwCXgYr8AOv7y9WBsPwA83T2W2lI/AKR4gUyKd7/AgqcKXGmMv4C/fekeNXO/wK/pKeWIir8AR/l4fhuBPyD4gR/4gZ+/AAAAAAAAAACAPwEUQAF0vwAAAAAAAAAAANwt8pMnjj+A5KGPkLd9vwC/clDG9HM/QBhCgyE0qD+AL6G9hPaCv8Cu5eBmv5C/wCtYgwiKqb8AH4XrUbh+P8CpV3IEw5+/wMRIKruZlz8A1PMZcYFUPw==\",\"dtype\":\"float64\",\"order\":\"little\",\"shape\":[116]}},\"selected\":{\"id\":\"1174\"},\"selection_policy\":{\"id\":\"1195\"}},\"id\":\"1173\",\"type\":\"ColumnDataSource\"},{\"attributes\":{\"days\":[1,8,15,22]},\"id\":\"1065\",\"type\":\"DaysTicker\"},{\"attributes\":{\"line_color\":\"#ff7e0e\",\"line_width\":2,\"x\":{\"field\":\"index\"},\"y\":{\"field\":\"value\"}},\"id\":\"1077\",\"type\":\"Line\"},{\"attributes\":{\"source\":{\"id\":\"1138\"}},\"id\":\"1145\",\"type\":\"CDSView\"},{\"attributes\":{\"data\":{\"Variable\":[\"AC\",\"AC\",\"AC\",\"AC\",\"AC\",\"AC\",\"AC\",\"AC\",\"AC\",\"AC\",\"AC\",\"AC\",\"AC\",\"AC\",\"AC\",\"AC\",\"AC\",\"AC\",\"AC\",\"AC\",\"AC\",\"AC\",\"AC\",\"AC\",\"AC\",\"AC\",\"AC\",\"AC\",\"AC\",\"AC\",\"AC\",\"AC\",\"AC\",\"AC\",\"AC\",\"AC\",\"AC\",\"AC\",\"AC\",\"AC\",\"AC\",\"AC\",\"AC\",\"AC\",\"AC\",\"AC\",\"AC\",\"AC\",\"AC\",\"AC\",\"AC\",\"AC\",\"AC\",\"AC\",\"AC\",\"AC\",\"AC\",\"AC\",\"AC\",\"AC\",\"AC\",\"AC\",\"AC\",\"AC\",\"AC\",\"AC\",\"AC\",\"AC\",\"AC\",\"AC\",\"AC\",\"AC\",\"AC\",\"AC\",\"AC\",\"AC\",\"AC\",\"AC\",\"AC\",\"AC\",\"AC\",\"AC\",\"AC\",\"AC\",\"AC\",\"AC\",\"AC\",\"AC\",\"AC\",\"AC\",\"AC\",\"AC\",\"AC\",\"AC\",\"AC\",\"AC\",\"AC\",\"AC\",\"AC\",\"AC\",\"AC\",\"AC\",\"AC\",\"AC\",\"AC\",\"AC\",\"AC\",\"AC\",\"AC\",\"AC\",\"AC\",\"AC\",\"AC\",\"AC\",\"AC\",\"AC\"],\"index\":{\"__ndarray__\":\"AADAZiZfd0IAAIDMeF93QgAAQDLLX3dCAAAAmB1gd0IAAMD9b2B3QgAAwJS5YXdCAACA+gtid0IAAEBgXmJ3QgAAAMawYndCAABA96djd0IAAMDCTGR3QgAAgCifZHdCAABAjvFkd0IAAIC/6GV3QgAAQCU7ZndCAAAAi41md0IAAMDw32Z3QgAAgFYyZ3dCAADAhylod0IAAIDte2h3QgAAQFPOaHdCAAAAUGpqd0IAAMC1vGp3QgAAQBirbHdCAAAAfv1sd0IAAMDjT213QgAAgEmibXdCAABAr/Rtd0IAAIDg6253QgAAQEY+b3dCAAAArJBvd0IAAMAR4293QgAAgHc1cHdCAADAqCxxd0IAAIAOf3F3QgAAQHTRcXdCAAAA2iNyd0IAAMA/dnJ3QgAAAHFtc3dCAADA1r9zd0IAAIA8EnR3QgAAQKJkdHdCAAAACLd0d0IAAEA5rnV3QgAAAJ8AdndCAADABFN2d0IAAIBqpXZ3QgAAQND3dndCAACAAe93d0IAAEBnQXh3QgAAAM2TeHdCAADAMuZ4d0IAAMDJL3p3QgAAgC+CendCAABAldR6d0IAAAD7Jnt3QgAAwGB5e3dCAAAAknB8d0IAAMD3wnx3QgAAgF0VfXdCAAAAKbp9d0IAAEBasX53QgAAAMADf3dCAADAJVZ/d0IAAICLqH93QgAAQPH6f3dCAACAIvKAd0IAAECIRIF3QgAAAO6WgXdCAADAU+mBd0IAAIC5O4J3QgAAwOoyg3dCAACAUIWDd0IAAEC214N3QgAAABwqhHdCAADAgXyEd0IAAACzc4V3QgAAwBjGhXdCAACAfhiGd0IAAEDkaoZ3QgAAAEq9hndCAABAe7SHd0IAAADhBoh3QgAAwEZZiHdCAACAQ/WJd0IAAECpR4p3QgAAAA+aindCAADAdOyKd0IAAMALNox3QgAAgHGIjHdCAABA19qMd0IAAAA9LY13QgAAwKJ/jXdCAAAA1HaOd0IAAMA5yY53QgAAgJ8bj3dCAABABW6Pd0IAAABrwI93QgAAQJy3kHdCAAAAAgqRd0IAAMBnXJF3QgAAgM2ukXdCAABAMwGSd0IAAIBk+JJ3QgAAQMpKk3dCAAAAMJ2Td0IAAMCV75N3QgAAgPtBlHdCAADALDmVd0IAAICSi5V3QgAAQPjdlXdCAADAw4KWd0IAAAD1eZd3QgAAwFrMl3dCAACAwB6Yd0IAAEAmcZh3Qg==\",\"dtype\":\"float64\",\"order\":\"little\",\"shape\":[116]},\"value\":{\"__ndarray__\":\"AAAAAAAA+H8AOIETOIGDvwCKndiJnYg/gCR0bVxIlb8AgLeCFt9TvwALVzBHKoA/AMHZAeNwlz8AsOkp5YiKPwDsViG8bnU/AFUBtyxSdb/wBX1BX9CnvwAZnI/B+Zg/AIZhGIZheD8AmChirGNTvwAH3vONaWO/AB2QV7AGgT/AjzPF0rWFvyAREREREZG/gMTfw5RQhj8AbjSHrW5tP4CKP4hrcHi/YEIoPfmVmL/AZMAxKqKRPwBsuWusSYY/YPdWaYpfkr+QO10h4Tagv6DRr3q5QKU/gHuklckTgD8AdTQi7f56PwAAAAAAAAAAYKM1WqM1mr8AZ9ZBv0WKvwBHFJh0ao4/ABmcj8H5eD8AFMA9AdxTPxAiHcUqN6O/AAAAAAAAAABAW/8lPq2SP8APdBaGkIq/QNPzGXGBhL+AMTHYPFyVv6CSbc1526A/MDMzMzMzo79AOydFmJuGv0AxedVO6Zw/gNVdDx9Pgj/gvfEBlyWSvwB0VOCLq58/ABSuR+F6ZD8AYFk0zm1UP4CmkjzWIJM/YGUO0YIHlL+A7cxP0+WYv4CRKKgse4s/AAmEf739br/g+IDLEgmWv4BHCPsCy58/kM2A++XEp78AWIEw0o5lPwCHw+FwOIy/gN7aZZYTc7/gFdC4W+elPwAAAAAAAAAAAFABFVABZT/ACyLUZOqWvwAsuFS2d30/QPOSowrwh7+ALFzegziYPwAAAAAAAAAAAGNZ0FKMf78AMLD8ATJlP8Ab9LtBv6u/gOZcbpTDoD8A3Go0saRFvwDUvAREPmC/4OMgpcMFlb8ARQd6yex4vwAHlIkr3Yu/gJV1Z+/ygD+AzKi6MfajP8BgXjAvmJe/QDXBeCv7nD+A2IHnioaNv0BMriAmV5C/ALvBFPmsiz9AG+i0gU6rP+AmzO9qcZO/4BMcPcHRk78AhJF2rECIvwBCohwUi3g/wHGgqz1Mkj8AAvoRyqF6v4BQPO1xFYC/QBbtk9+Pkb8ANNo9bH17P4Ab6LSBTnu/AAAAAAAAAAAAfsI6jR2KP0AxmQVzUpI/QFVVVVVVhb8Ar6G8hvKKPwCDu+YlR2W/AAAAAAAAor8AeMGQGX6HPwB3sjGnl3g/APoQXxRyiL+AM9o9bH2bvwDHnDQ/mXa/ANp6xgELkT8ADRfW146DP+AfsYA7/ZG/AJEj3VSJZr8A+cMBjz98vwDHcRzHcYy/gAtQe+f1iT9AtBo7hsmGvw==\",\"dtype\":\"float64\",\"order\":\"little\",\"shape\":[116]}},\"selected\":{\"id\":\"1106\"},\"selection_policy\":{\"id\":\"1123\"}},\"id\":\"1105\",\"type\":\"ColumnDataSource\"},{\"attributes\":{\"text\":\"\",\"text_color\":{\"value\":\"black\"},\"text_font_size\":{\"value\":\"12pt\"}},\"id\":\"1011\",\"type\":\"Title\"},{\"attributes\":{\"mantissas\":[1,2,5],\"max_interval\":500.0,\"num_minor_ticks\":0},\"id\":\"1060\",\"type\":\"AdaptiveTicker\"},{\"attributes\":{},\"id\":\"1024\",\"type\":\"BasicTicker\"},{\"attributes\":{\"data\":{\"Variable\":[\"JFC\",\"JFC\",\"JFC\",\"JFC\",\"JFC\",\"JFC\",\"JFC\",\"JFC\",\"JFC\",\"JFC\",\"JFC\",\"JFC\",\"JFC\",\"JFC\",\"JFC\",\"JFC\",\"JFC\",\"JFC\",\"JFC\",\"JFC\",\"JFC\",\"JFC\",\"JFC\",\"JFC\",\"JFC\",\"JFC\",\"JFC\",\"JFC\",\"JFC\",\"JFC\",\"JFC\",\"JFC\",\"JFC\",\"JFC\",\"JFC\",\"JFC\",\"JFC\",\"JFC\",\"JFC\",\"JFC\",\"JFC\",\"JFC\",\"JFC\",\"JFC\",\"JFC\",\"JFC\",\"JFC\",\"JFC\",\"JFC\",\"JFC\",\"JFC\",\"JFC\",\"JFC\",\"JFC\",\"JFC\",\"JFC\",\"JFC\",\"JFC\",\"JFC\",\"JFC\",\"JFC\",\"JFC\",\"JFC\",\"JFC\",\"JFC\",\"JFC\",\"JFC\",\"JFC\",\"JFC\",\"JFC\",\"JFC\",\"JFC\",\"JFC\",\"JFC\",\"JFC\",\"JFC\",\"JFC\",\"JFC\",\"JFC\",\"JFC\",\"JFC\",\"JFC\",\"JFC\",\"JFC\",\"JFC\",\"JFC\",\"JFC\",\"JFC\",\"JFC\",\"JFC\",\"JFC\",\"JFC\",\"JFC\",\"JFC\",\"JFC\",\"JFC\",\"JFC\",\"JFC\",\"JFC\",\"JFC\",\"JFC\",\"JFC\",\"JFC\",\"JFC\",\"JFC\",\"JFC\",\"JFC\",\"JFC\",\"JFC\",\"JFC\",\"JFC\",\"JFC\",\"JFC\",\"JFC\",\"JFC\",\"JFC\"],\"index\":{\"__ndarray__\":\"AADAZiZfd0IAAIDMeF93QgAAQDLLX3dCAAAAmB1gd0IAAMD9b2B3QgAAwJS5YXdCAACA+gtid0IAAEBgXmJ3QgAAAMawYndCAABA96djd0IAAMDCTGR3QgAAgCifZHdCAABAjvFkd0IAAIC/6GV3QgAAQCU7ZndCAAAAi41md0IAAMDw32Z3QgAAgFYyZ3dCAADAhylod0IAAIDte2h3QgAAQFPOaHdCAAAAUGpqd0IAAMC1vGp3QgAAQBirbHdCAAAAfv1sd0IAAMDjT213QgAAgEmibXdCAABAr/Rtd0IAAIDg6253QgAAQEY+b3dCAAAArJBvd0IAAMAR4293QgAAgHc1cHdCAADAqCxxd0IAAIAOf3F3QgAAQHTRcXdCAAAA2iNyd0IAAMA/dnJ3QgAAAHFtc3dCAADA1r9zd0IAAIA8EnR3QgAAQKJkdHdCAAAACLd0d0IAAEA5rnV3QgAAAJ8AdndCAADABFN2d0IAAIBqpXZ3QgAAQND3dndCAACAAe93d0IAAEBnQXh3QgAAAM2TeHdCAADAMuZ4d0IAAMDJL3p3QgAAgC+CendCAABAldR6d0IAAAD7Jnt3QgAAwGB5e3dCAAAAknB8d0IAAMD3wnx3QgAAgF0VfXdCAAAAKbp9d0IAAEBasX53QgAAAMADf3dCAADAJVZ/d0IAAICLqH93QgAAQPH6f3dCAACAIvKAd0IAAECIRIF3QgAAAO6WgXdCAADAU+mBd0IAAIC5O4J3QgAAwOoyg3dCAACAUIWDd0IAAEC214N3QgAAABwqhHdCAADAgXyEd0IAAACzc4V3QgAAwBjGhXdCAACAfhiGd0IAAEDkaoZ3QgAAAEq9hndCAABAe7SHd0IAAADhBoh3QgAAwEZZiHdCAACAQ/WJd0IAAECpR4p3QgAAAA+aindCAADAdOyKd0IAAMALNox3QgAAgHGIjHdCAABA19qMd0IAAAA9LY13QgAAwKJ/jXdCAAAA1HaOd0IAAMA5yY53QgAAgJ8bj3dCAABABW6Pd0IAAABrwI93QgAAQJy3kHdCAAAAAgqRd0IAAMBnXJF3QgAAgM2ukXdCAABAMwGSd0IAAIBk+JJ3QgAAQMpKk3dCAAAAMJ2Td0IAAMCV75N3QgAAgPtBlHdCAADALDmVd0IAAICSi5V3QgAAQPjdlXdCAADAw4KWd0IAAAD1eZd3QgAAwFrMl3dCAACAwB6Yd0IAAEAmcZh3Qg==\",\"dtype\":\"float64\",\"order\":\"little\",\"shape\":[116]},\"value\":{\"__ndarray__\":\"AAAAAAAA+H8AGG7tjdWPvwBZgTDSjnU/QGtQPO1xhb8AAAAAAAAAAMBaAWsFrKU/gK8lh7jKhD+A4Vy9YNidPwAAAAAAAIA/gMacMWfMiT8AmI1GYFt/P0BerDeXOou/AMXcgLuJb78AAAAAAAAAAAAAAAAAAAAAAK2Sbe+ob78AAAAAAAAAAEDv5OrC2YW/ABYWFhYWhr+ApnCEVluYvwCwJYe4ymQ/YH2INbXGlb+AL27AXyGEPwDavE9xyXC/ABiz0ugRZT8AF5BjEgRlv4Avob2E9oK/AIC0s3QDQb9Afyer5Y2hPwDc9oBDdUC/ANCy4zmVZD8AqwF507CKv8Av4fyXH42/APT3CMzhQL8gcy6IJmuRv0CgF3AP/4y/gF67/Ej3d78AcLNqSYhRv4BzYlZe8HW/IEf8Wmxun78Ax3Ecx3GMvwAcsQzYOog/gMJrA3qqhb8ANn9d51p5PwDWNd6E6HY/ALCGjYU5Uj8AAAAAAAAAAABswRZswZY/gCELWchCdr+ARwBlbUOFPwDuW6hAlWo/0DoqssvEor8A8baZPVZyPwDIgSam0Wa/AJICiV9OUr8AeJF+nVNCPwC8t6w95XY/ABA5Wct9dL8AOENr9+F2v8AR9Q7eVp2/ACFhcEkQoj8AkgKJX05Sv6CmYy4RnqQ/AAAAAAAAAACAFYlXkXiVPwD4cK5Wt5C/IMN0SV7cmr8AJaEFCMV4PwAjUWrsYXY/AG01eI5Akb8AA0qlcKR2P4Dl82FYZIW/AHP7gwyVfT9ABS+n4OWUPwDcNPWSkWo/YLmnEZZ7qr8AEOQpQZ5Cv0BhHGOJsJ0/YFXCiREyl78ALwNawhl+P0Avob2E9pK/AKMaIju8cj8A7HDNlvl7PwAAAAAAAAAAgGogINI0mz8APS59+yuTPwDozfhhtlG/8EZASrsRoL8AQOKXkwRwPwAGW00tWlu/QP+CtYSvmT+gWpucVbeVvwBswRZswWa/YI+xYXH3k78AEOQpQZ5CPwBqB21S6Xs/AFJGXSIaZz9ABd6lwLuEvwAQ5ClBnkK/wP0Oh6Bvj7+AFD7HX76OPwCNhu6D9Xs/gN5Gfygkd78AXXTRRReNPwDINRHINYG/AN5GfygkZz8AXTVSmk6BvwAe1r5h7Vu/AOtwzZb5a78AJMixwLZCv4Ap1myk6pq/AJsDiVbYjL+AOIETOIFzvwCIGCwcmUM/QCIgPpqQpz+AqTTk3GeHPw==\",\"dtype\":\"float64\",\"order\":\"little\",\"shape\":[116]}},\"selected\":{\"id\":\"1139\"},\"selection_policy\":{\"id\":\"1158\"}},\"id\":\"1138\",\"type\":\"ColumnDataSource\"}],\"root_ids\":[\"1001\"]},\"title\":\"Bokeh Application\",\"version\":\"2.2.3\"}};\n",
       "    var render_items = [{\"docid\":\"71dd9b86-1498-4a9a-adb0-e80912441a62\",\"root_ids\":[\"1001\"],\"roots\":{\"1001\":\"1fffe8b8-198b-4c14-9c5b-b97f7639a199\"}}];\n",
       "    root.Bokeh.embed.embed_items_notebook(docs_json, render_items);\n",
       "  }\n",
       "  if (root.Bokeh !== undefined && root.Bokeh.Panel !== undefined) {\n",
       "    embed_document(root);\n",
       "  } else {\n",
       "    var attempts = 0;\n",
       "    var timer = setInterval(function(root) {\n",
       "      if (root.Bokeh !== undefined && root.Bokeh.Panel !== undefined) {\n",
       "        clearInterval(timer);\n",
       "        embed_document(root);\n",
       "      } else if (document.readyState == \"complete\") {\n",
       "        attempts++;\n",
       "        if (attempts > 100) {\n",
       "          clearInterval(timer);\n",
       "          console.log(\"Bokeh: ERROR: Unable to run BokehJS code because BokehJS library is missing\");\n",
       "        }\n",
       "      }\n",
       "    }, 10, root)\n",
       "  }\n",
       "})(window);</script>"
      ],
      "text/plain": [
       ":NdOverlay   [Variable]\n",
       "   :Curve   [index]   (value)"
      ]
     },
     "execution_count": 7,
     "metadata": {
      "application/vnd.holoviews_exec.v0+json": {
       "id": "1001"
      }
     },
     "output_type": "execute_result"
    }
   ],
   "source": [
    "prices_change.hvplot()"
   ]
  },
  {
   "cell_type": "markdown",
   "metadata": {},
   "source": [
    "### HISTOGRAM"
   ]
  },
  {
   "cell_type": "code",
   "execution_count": 8,
   "metadata": {
    "scrolled": true
   },
   "outputs": [
    {
     "data": {},
     "metadata": {},
     "output_type": "display_data"
    },
    {
     "data": {},
     "metadata": {},
     "output_type": "display_data"
    },
    {
     "data": {
      "application/vnd.holoviews_exec.v0+json": "",
      "text/html": [
       "<div id='1604'>\n",
       "\n",
       "\n",
       "\n",
       "\n",
       "\n",
       "  <div class=\"bk-root\" id=\"ea676b72-7cb3-41d7-909d-75ef84f299ac\" data-root-id=\"1604\"></div>\n",
       "</div>\n",
       "<script type=\"application/javascript\">(function(root) {\n",
       "  function embed_document(root) {\n",
       "    var docs_json = {\"068a5bba-17a9-4afb-9a96-80ef75710db3\":{\"roots\":{\"references\":[{\"attributes\":{\"data_source\":{\"id\":\"1653\"},\"glyph\":{\"id\":\"1656\"},\"hover_glyph\":null,\"muted_glyph\":{\"id\":\"1658\"},\"nonselection_glyph\":{\"id\":\"1657\"},\"selection_glyph\":null,\"view\":{\"id\":\"1660\"}},\"id\":\"1659\",\"type\":\"GlyphRenderer\"},{\"attributes\":{\"label\":{\"value\":\"MEG\"},\"renderers\":[{\"id\":\"1659\"}]},\"id\":\"1670\",\"type\":\"LegendItem\"},{\"attributes\":{\"children\":[{\"id\":\"1605\"},{\"id\":\"1607\"}],\"margin\":[0,0,0,0],\"name\":\"Column02379\"},\"id\":\"1604\",\"type\":\"Column\"},{\"attributes\":{\"click_policy\":\"mute\",\"items\":[{\"id\":\"1670\"},{\"id\":\"1689\"},{\"id\":\"1710\"},{\"id\":\"1733\"},{\"id\":\"1758\"}],\"location\":[0,0],\"title\":\"Element\"},\"id\":\"1669\",\"type\":\"Legend\"},{\"attributes\":{},\"id\":\"1651\",\"type\":\"BasicTickFormatter\"},{\"attributes\":{\"bottom\":{\"value\":0},\"fill_alpha\":{\"value\":0.5},\"fill_color\":{\"value\":\"#ff7e0e\"},\"left\":{\"field\":\"left\"},\"line_alpha\":{\"value\":0.5},\"right\":{\"field\":\"right\"},\"top\":{\"field\":\"top\"}},\"id\":\"1675\",\"type\":\"Quad\"},{\"attributes\":{},\"id\":\"1667\",\"type\":\"UnionRenderers\"},{\"attributes\":{\"source\":{\"id\":\"1653\"}},\"id\":\"1660\",\"type\":\"CDSView\"},{\"attributes\":{\"source\":{\"id\":\"1671\"}},\"id\":\"1678\",\"type\":\"CDSView\"},{\"attributes\":{\"data_source\":{\"id\":\"1671\"},\"glyph\":{\"id\":\"1674\"},\"hover_glyph\":null,\"muted_glyph\":{\"id\":\"1676\"},\"nonselection_glyph\":{\"id\":\"1675\"},\"selection_glyph\":null,\"view\":{\"id\":\"1678\"}},\"id\":\"1677\",\"type\":\"GlyphRenderer\"},{\"attributes\":{\"bottom_units\":\"screen\",\"fill_alpha\":0.5,\"fill_color\":\"lightgrey\",\"left_units\":\"screen\",\"level\":\"overlay\",\"line_alpha\":1.0,\"line_color\":\"black\",\"line_dash\":[4,4],\"line_width\":2,\"right_units\":\"screen\",\"top_units\":\"screen\"},\"id\":\"1637\",\"type\":\"BoxAnnotation\"},{\"attributes\":{\"bottom\":{\"value\":0},\"fill_alpha\":{\"value\":0.2},\"fill_color\":{\"value\":\"#ff7e0e\"},\"left\":{\"field\":\"left\"},\"line_alpha\":{\"value\":0.2},\"right\":{\"field\":\"right\"},\"top\":{\"field\":\"top\"}},\"id\":\"1676\",\"type\":\"Quad\"},{\"attributes\":{},\"id\":\"1620\",\"type\":\"LinearScale\"},{\"attributes\":{\"callback\":null,\"renderers\":[{\"id\":\"1659\"}],\"tags\":[\"hv_created\"],\"tooltips\":[[\"Element\",\"@{Element}\"],[\"MEG\",\"@{MEG}\"],[\"Count\",\"@{MEG_count}\"]]},\"id\":\"1610\",\"type\":\"HoverTool\"},{\"attributes\":{\"text\":\"PH Stocks Distribution\",\"text_color\":{\"value\":\"black\"},\"text_font_size\":{\"value\":\"12pt\"}},\"id\":\"1616\",\"type\":\"Title\"},{\"attributes\":{\"data\":{\"Element\":[\"RLC\",\"RLC\",\"RLC\",\"RLC\",\"RLC\",\"RLC\",\"RLC\",\"RLC\",\"RLC\",\"RLC\",\"RLC\",\"RLC\",\"RLC\",\"RLC\",\"RLC\",\"RLC\",\"RLC\",\"RLC\",\"RLC\",\"RLC\"],\"RLC\":{\"__ndarray__\":\"juyZRgYNs78YfZUumTWxv0YbIi1YvK6/XDwZ/X0Nq79xXRDNo16nv4d+B53Jr6O/nJ/+bO8AoL9kget5KqSYv4/D2Rl2RpG/dAuQc4PRg78wP7LNalhkv7jXbRmcSnM/hGfazLZgiD+Y8X7GD46TP26vkCbE65o/oTZRQ7wkoT+LFVpzltOkP3b0YqNwgqg/YNNr00oxrD9KsnQDJeCvPw==\",\"dtype\":\"float64\",\"order\":\"little\",\"shape\":[20]},\"RLC_count\":[0,0,0,2,0,2,3,6,9,21,30,18,7,5,2,1,3,4,1,1],\"left\":{\"__ndarray__\":\"SCSc0rz4s7/TtJe6TyGyv15Fk6LiSbC/0asdFevkrL/mzBTlEDapv/ztC7U2h6W/Eg8DhVzYob9OYPSpBFOcv3qi4klQ9ZS/SMmh0zcvi79Am/wmnud4v0BwKWXNPFI/sKnIbAIDgT9YJewsa76PP4TQh/bpPJc/WI6ZVp6anj8WplVbKfyiPwCFXosDq6Y/7GNnu91Zqj/UQnDrtwiuPw==\",\"dtype\":\"float64\",\"order\":\"little\",\"shape\":[20]},\"right\":{\"__ndarray__\":\"07SXuk8hsr9eRZOi4kmwv9GrHRXr5Ky/5swU5RA2qb/87Qu1NoelvxIPA4Vc2KG/TmD0qQRTnL96ouJJUPWUv0jJodM3L4u/QJv8Jp7neL9AcCllzTxSP7CpyGwCA4E/WCXsLGu+jz+E0If26TyXP1iOmVaemp4/FqZVWyn8oj8AhV6LA6umP+xjZ7vdWao/1EJw67cIrj/gkLwNyduwPw==\",\"dtype\":\"float64\",\"order\":\"little\",\"shape\":[20]},\"top\":[0,0,0,2,0,2,3,6,9,21,30,18,7,5,2,1,3,4,1,1]},\"selected\":{\"id\":\"1735\"},\"selection_policy\":{\"id\":\"1756\"}},\"id\":\"1734\",\"type\":\"ColumnDataSource\"},{\"attributes\":{\"label\":{\"value\":\"RLC\"},\"renderers\":[{\"id\":\"1740\"}]},\"id\":\"1758\",\"type\":\"LegendItem\"},{\"attributes\":{\"data\":{\"Element\":[\"MEG\",\"MEG\",\"MEG\",\"MEG\",\"MEG\",\"MEG\",\"MEG\",\"MEG\",\"MEG\",\"MEG\",\"MEG\",\"MEG\",\"MEG\",\"MEG\",\"MEG\",\"MEG\",\"MEG\",\"MEG\",\"MEG\",\"MEG\"],\"MEG\":{\"__ndarray__\":\"juyZRgYNs78YfZUumTWxv0YbIi1YvK6/XDwZ/X0Nq79xXRDNo16nv4d+B53Jr6O/nJ/+bO8AoL9kget5KqSYv4/D2Rl2RpG/dAuQc4PRg78wP7LNalhkv7jXbRmcSnM/hGfazLZgiD+Y8X7GD46TP26vkCbE65o/oTZRQ7wkoT+LFVpzltOkP3b0YqNwgqg/YNNr00oxrD9KsnQDJeCvPw==\",\"dtype\":\"float64\",\"order\":\"little\",\"shape\":[20]},\"MEG_count\":[1,0,0,3,1,2,4,15,7,17,16,12,11,10,5,8,1,2,0,0],\"left\":{\"__ndarray__\":\"SCSc0rz4s7/TtJe6TyGyv15Fk6LiSbC/0asdFevkrL/mzBTlEDapv/ztC7U2h6W/Eg8DhVzYob9OYPSpBFOcv3qi4klQ9ZS/SMmh0zcvi79Am/wmnud4v0BwKWXNPFI/sKnIbAIDgT9YJewsa76PP4TQh/bpPJc/WI6ZVp6anj8WplVbKfyiPwCFXosDq6Y/7GNnu91Zqj/UQnDrtwiuPw==\",\"dtype\":\"float64\",\"order\":\"little\",\"shape\":[20]},\"right\":{\"__ndarray__\":\"07SXuk8hsr9eRZOi4kmwv9GrHRXr5Ky/5swU5RA2qb/87Qu1NoelvxIPA4Vc2KG/TmD0qQRTnL96ouJJUPWUv0jJodM3L4u/QJv8Jp7neL9AcCllzTxSP7CpyGwCA4E/WCXsLGu+jz+E0If26TyXP1iOmVaemp4/FqZVWyn8oj8AhV6LA6umP+xjZ7vdWao/1EJw67cIrj/gkLwNyduwPw==\",\"dtype\":\"float64\",\"order\":\"little\",\"shape\":[20]},\"top\":[1,0,0,3,1,2,4,15,7,17,16,12,11,10,5,8,1,2,0,0]},\"selected\":{\"id\":\"1654\"},\"selection_policy\":{\"id\":\"1667\"}},\"id\":\"1653\",\"type\":\"ColumnDataSource\"},{\"attributes\":{\"data\":{\"Element\":[\"JFC\",\"JFC\",\"JFC\",\"JFC\",\"JFC\",\"JFC\",\"JFC\",\"JFC\",\"JFC\",\"JFC\",\"JFC\",\"JFC\",\"JFC\",\"JFC\",\"JFC\",\"JFC\",\"JFC\",\"JFC\",\"JFC\",\"JFC\"],\"JFC\":{\"__ndarray__\":\"juyZRgYNs78YfZUumTWxv0YbIi1YvK6/XDwZ/X0Nq79xXRDNo16nv4d+B53Jr6O/nJ/+bO8AoL9kget5KqSYv4/D2Rl2RpG/dAuQc4PRg78wP7LNalhkv7jXbRmcSnM/hGfazLZgiD+Y8X7GD46TP26vkCbE65o/oTZRQ7wkoT+LFVpzltOkP3b0YqNwgqg/YNNr00oxrD9KsnQDJeCvPw==\",\"dtype\":\"float64\",\"order\":\"little\",\"shape\":[20]},\"JFC_count\":[0,0,0,1,0,1,3,6,12,10,37,24,8,4,4,2,2,1,0,0],\"left\":{\"__ndarray__\":\"SCSc0rz4s7/TtJe6TyGyv15Fk6LiSbC/0asdFevkrL/mzBTlEDapv/ztC7U2h6W/Eg8DhVzYob9OYPSpBFOcv3qi4klQ9ZS/SMmh0zcvi79Am/wmnud4v0BwKWXNPFI/sKnIbAIDgT9YJewsa76PP4TQh/bpPJc/WI6ZVp6anj8WplVbKfyiPwCFXosDq6Y/7GNnu91Zqj/UQnDrtwiuPw==\",\"dtype\":\"float64\",\"order\":\"little\",\"shape\":[20]},\"right\":{\"__ndarray__\":\"07SXuk8hsr9eRZOi4kmwv9GrHRXr5Ky/5swU5RA2qb/87Qu1NoelvxIPA4Vc2KG/TmD0qQRTnL96ouJJUPWUv0jJodM3L4u/QJv8Jp7neL9AcCllzTxSP7CpyGwCA4E/WCXsLGu+jz+E0If26TyXP1iOmVaemp4/FqZVWyn8oj8AhV6LA6umP+xjZ7vdWao/1EJw67cIrj/gkLwNyduwPw==\",\"dtype\":\"float64\",\"order\":\"little\",\"shape\":[20]},\"top\":[0,0,0,1,0,1,3,6,12,10,37,24,8,4,4,2,2,1,0,0]},\"selected\":{\"id\":\"1712\"},\"selection_policy\":{\"id\":\"1731\"}},\"id\":\"1711\",\"type\":\"ColumnDataSource\"},{\"attributes\":{},\"id\":\"1756\",\"type\":\"UnionRenderers\"},{\"attributes\":{\"children\":[{\"id\":\"1606\"}],\"margin\":[0,0,0,0],\"name\":\"Column02562\"},\"id\":\"1605\",\"type\":\"Column\"},{\"attributes\":{\"bottom\":{\"value\":0},\"fill_alpha\":{\"value\":0.5},\"fill_color\":{\"value\":\"#2ba02b\"},\"left\":{\"field\":\"left\"},\"line_alpha\":{\"value\":0.5},\"right\":{\"field\":\"right\"},\"top\":{\"field\":\"top\"}},\"id\":\"1694\",\"type\":\"Quad\"},{\"attributes\":{},\"id\":\"1625\",\"type\":\"BasicTicker\"},{\"attributes\":{},\"id\":\"1687\",\"type\":\"UnionRenderers\"},{\"attributes\":{\"label\":{\"value\":\"ALI\"},\"renderers\":[{\"id\":\"1677\"}]},\"id\":\"1689\",\"type\":\"LegendItem\"},{\"attributes\":{\"source\":{\"id\":\"1734\"}},\"id\":\"1741\",\"type\":\"CDSView\"},{\"attributes\":{\"data_source\":{\"id\":\"1734\"},\"glyph\":{\"id\":\"1737\"},\"hover_glyph\":null,\"muted_glyph\":{\"id\":\"1739\"},\"nonselection_glyph\":{\"id\":\"1738\"},\"selection_glyph\":null,\"view\":{\"id\":\"1741\"}},\"id\":\"1740\",\"type\":\"GlyphRenderer\"},{\"attributes\":{\"below\":[{\"id\":\"1624\"}],\"center\":[{\"id\":\"1627\"},{\"id\":\"1631\"}],\"left\":[{\"id\":\"1628\"}],\"margin\":[5,5,5,5],\"min_border_bottom\":10,\"min_border_left\":10,\"min_border_right\":10,\"min_border_top\":10,\"plot_height\":300,\"plot_width\":700,\"renderers\":[{\"id\":\"1659\"},{\"id\":\"1677\"},{\"id\":\"1696\"},{\"id\":\"1717\"},{\"id\":\"1740\"}],\"right\":[{\"id\":\"1669\"}],\"sizing_mode\":\"fixed\",\"title\":{\"id\":\"1616\"},\"toolbar\":{\"id\":\"1638\"},\"x_range\":{\"id\":\"1608\"},\"x_scale\":{\"id\":\"1620\"},\"y_range\":{\"id\":\"1609\"},\"y_scale\":{\"id\":\"1622\"}},\"id\":\"1615\",\"subtype\":\"Figure\",\"type\":\"Plot\"},{\"attributes\":{\"bottom\":{\"value\":0},\"fill_alpha\":{\"value\":0.5},\"fill_color\":{\"value\":\"#9367bc\"},\"left\":{\"field\":\"left\"},\"line_alpha\":{\"value\":0.5},\"right\":{\"field\":\"right\"},\"top\":{\"field\":\"top\"}},\"id\":\"1737\",\"type\":\"Quad\"},{\"attributes\":{\"bottom\":{\"value\":0},\"fill_alpha\":{\"value\":0.5},\"fill_color\":{\"value\":\"#d62628\"},\"left\":{\"field\":\"left\"},\"line_alpha\":{\"value\":0.5},\"right\":{\"field\":\"right\"},\"top\":{\"field\":\"top\"}},\"id\":\"1715\",\"type\":\"Quad\"},{\"attributes\":{\"bottom\":{\"value\":0},\"fill_alpha\":{\"value\":0.2},\"fill_color\":{\"value\":\"#9367bc\"},\"left\":{\"field\":\"left\"},\"line_alpha\":{\"value\":0.2},\"right\":{\"field\":\"right\"},\"top\":{\"field\":\"top\"}},\"id\":\"1739\",\"type\":\"Quad\"},{\"attributes\":{},\"id\":\"1708\",\"type\":\"UnionRenderers\"},{\"attributes\":{\"label\":{\"value\":\"AC\"},\"renderers\":[{\"id\":\"1696\"}]},\"id\":\"1710\",\"type\":\"LegendItem\"},{\"attributes\":{},\"id\":\"1622\",\"type\":\"LinearScale\"},{\"attributes\":{\"bottom\":{\"value\":0},\"fill_alpha\":{\"value\":0.5},\"fill_color\":{\"value\":\"#ff7e0e\"},\"left\":{\"field\":\"left\"},\"line_alpha\":{\"value\":0.5},\"right\":{\"field\":\"right\"},\"top\":{\"field\":\"top\"}},\"id\":\"1674\",\"type\":\"Quad\"},{\"attributes\":{\"bottom\":{\"value\":0},\"fill_alpha\":{\"value\":0.2},\"fill_color\":{\"value\":\"#d62628\"},\"left\":{\"field\":\"left\"},\"line_alpha\":{\"value\":0.2},\"right\":{\"field\":\"right\"},\"top\":{\"field\":\"top\"}},\"id\":\"1716\",\"type\":\"Quad\"},{\"attributes\":{\"bottom\":{\"value\":0},\"fill_alpha\":{\"value\":0.5},\"fill_color\":{\"value\":\"#9367bc\"},\"left\":{\"field\":\"left\"},\"line_alpha\":{\"value\":0.5},\"right\":{\"field\":\"right\"},\"top\":{\"field\":\"top\"}},\"id\":\"1738\",\"type\":\"Quad\"},{\"attributes\":{\"end\":37.0,\"reset_end\":37.0,\"reset_start\":0.0,\"tags\":[[[\"MEG_count\",\"Count\",null]]]},\"id\":\"1609\",\"type\":\"Range1d\"},{\"attributes\":{\"bottom\":{\"value\":0},\"fill_alpha\":{\"value\":0.2},\"fill_color\":{\"value\":\"#1f77b3\"},\"left\":{\"field\":\"left\"},\"line_alpha\":{\"value\":0.2},\"right\":{\"field\":\"right\"},\"top\":{\"field\":\"top\"}},\"id\":\"1658\",\"type\":\"Quad\"},{\"attributes\":{\"bottom\":{\"value\":0},\"fill_alpha\":{\"value\":0.5},\"fill_color\":{\"value\":\"#d62628\"},\"left\":{\"field\":\"left\"},\"line_alpha\":{\"value\":0.5},\"right\":{\"field\":\"right\"},\"top\":{\"field\":\"top\"}},\"id\":\"1714\",\"type\":\"Quad\"},{\"attributes\":{\"data_source\":{\"id\":\"1711\"},\"glyph\":{\"id\":\"1714\"},\"hover_glyph\":null,\"muted_glyph\":{\"id\":\"1716\"},\"nonselection_glyph\":{\"id\":\"1715\"},\"selection_glyph\":null,\"view\":{\"id\":\"1718\"}},\"id\":\"1717\",\"type\":\"GlyphRenderer\"},{\"attributes\":{\"source\":{\"id\":\"1711\"}},\"id\":\"1718\",\"type\":\"CDSView\"},{\"attributes\":{},\"id\":\"1672\",\"type\":\"Selection\"},{\"attributes\":{\"axis\":{\"id\":\"1628\"},\"dimension\":1,\"grid_line_color\":null,\"ticker\":null},\"id\":\"1631\",\"type\":\"Grid\"},{\"attributes\":{\"axis\":{\"id\":\"1624\"},\"grid_line_color\":null,\"ticker\":null},\"id\":\"1627\",\"type\":\"Grid\"},{\"attributes\":{\"axis_label\":\"Returns\",\"bounds\":\"auto\",\"formatter\":{\"id\":\"1649\"},\"major_label_orientation\":\"horizontal\",\"ticker\":{\"id\":\"1625\"}},\"id\":\"1624\",\"type\":\"LinearAxis\"},{\"attributes\":{\"data\":{\"ALI\":{\"__ndarray__\":\"juyZRgYNs78YfZUumTWxv0YbIi1YvK6/XDwZ/X0Nq79xXRDNo16nv4d+B53Jr6O/nJ/+bO8AoL9kget5KqSYv4/D2Rl2RpG/dAuQc4PRg78wP7LNalhkv7jXbRmcSnM/hGfazLZgiD+Y8X7GD46TP26vkCbE65o/oTZRQ7wkoT+LFVpzltOkP3b0YqNwgqg/YNNr00oxrD9KsnQDJeCvPw==\",\"dtype\":\"float64\",\"order\":\"little\",\"shape\":[20]},\"ALI_count\":[0,0,0,0,0,1,7,8,14,9,27,21,12,7,4,1,2,1,1,0],\"Element\":[\"ALI\",\"ALI\",\"ALI\",\"ALI\",\"ALI\",\"ALI\",\"ALI\",\"ALI\",\"ALI\",\"ALI\",\"ALI\",\"ALI\",\"ALI\",\"ALI\",\"ALI\",\"ALI\",\"ALI\",\"ALI\",\"ALI\",\"ALI\"],\"left\":{\"__ndarray__\":\"SCSc0rz4s7/TtJe6TyGyv15Fk6LiSbC/0asdFevkrL/mzBTlEDapv/ztC7U2h6W/Eg8DhVzYob9OYPSpBFOcv3qi4klQ9ZS/SMmh0zcvi79Am/wmnud4v0BwKWXNPFI/sKnIbAIDgT9YJewsa76PP4TQh/bpPJc/WI6ZVp6anj8WplVbKfyiPwCFXosDq6Y/7GNnu91Zqj/UQnDrtwiuPw==\",\"dtype\":\"float64\",\"order\":\"little\",\"shape\":[20]},\"right\":{\"__ndarray__\":\"07SXuk8hsr9eRZOi4kmwv9GrHRXr5Ky/5swU5RA2qb/87Qu1NoelvxIPA4Vc2KG/TmD0qQRTnL96ouJJUPWUv0jJodM3L4u/QJv8Jp7neL9AcCllzTxSP7CpyGwCA4E/WCXsLGu+jz+E0If26TyXP1iOmVaemp4/FqZVWyn8oj8AhV6LA6umP+xjZ7vdWao/1EJw67cIrj/gkLwNyduwPw==\",\"dtype\":\"float64\",\"order\":\"little\",\"shape\":[20]},\"top\":[0,0,0,0,0,1,7,8,14,9,27,21,12,7,4,1,2,1,1,0]},\"selected\":{\"id\":\"1672\"},\"selection_policy\":{\"id\":\"1687\"}},\"id\":\"1671\",\"type\":\"ColumnDataSource\"},{\"attributes\":{},\"id\":\"1731\",\"type\":\"UnionRenderers\"},{\"attributes\":{},\"id\":\"1629\",\"type\":\"BasicTicker\"},{\"attributes\":{\"label\":{\"value\":\"JFC\"},\"renderers\":[{\"id\":\"1717\"}]},\"id\":\"1733\",\"type\":\"LegendItem\"},{\"attributes\":{\"axis_label\":\"\",\"bounds\":\"auto\",\"formatter\":{\"id\":\"1651\"},\"major_label_orientation\":\"horizontal\",\"ticker\":{\"id\":\"1629\"}},\"id\":\"1628\",\"type\":\"LinearAxis\"},{\"attributes\":{\"bottom\":{\"value\":0},\"fill_alpha\":{\"value\":0.5},\"fill_color\":{\"value\":\"#2ba02b\"},\"left\":{\"field\":\"left\"},\"line_alpha\":{\"value\":0.5},\"right\":{\"field\":\"right\"},\"top\":{\"field\":\"top\"}},\"id\":\"1693\",\"type\":\"Quad\"},{\"attributes\":{\"client_comm_id\":\"a3ee54e041714f65a395bdc72ad33a0a\",\"comm_id\":\"e652497cd1074b299b9d079bc4ec2293\",\"plot_id\":\"1604\"},\"id\":\"1951\",\"type\":\"panel.models.comm_manager.CommManager\"},{\"attributes\":{\"source\":{\"id\":\"1690\"}},\"id\":\"1697\",\"type\":\"CDSView\"},{\"attributes\":{\"callback\":null,\"renderers\":[{\"id\":\"1717\"}],\"tags\":[\"hv_created\"],\"tooltips\":[[\"Element\",\"@{Element}\"],[\"JFC\",\"@{JFC}\"],[\"Count\",\"@{JFC_count}\"]]},\"id\":\"1613\",\"type\":\"HoverTool\"},{\"attributes\":{},\"id\":\"1691\",\"type\":\"Selection\"},{\"attributes\":{\"callback\":null,\"renderers\":[{\"id\":\"1740\"}],\"tags\":[\"hv_created\"],\"tooltips\":[[\"Element\",\"@{Element}\"],[\"RLC\",\"@{RLC}\"],[\"Count\",\"@{RLC_count}\"]]},\"id\":\"1614\",\"type\":\"HoverTool\"},{\"attributes\":{},\"id\":\"1636\",\"type\":\"ResetTool\"},{\"attributes\":{\"data_source\":{\"id\":\"1690\"},\"glyph\":{\"id\":\"1693\"},\"hover_glyph\":null,\"muted_glyph\":{\"id\":\"1695\"},\"nonselection_glyph\":{\"id\":\"1694\"},\"selection_glyph\":null,\"view\":{\"id\":\"1697\"}},\"id\":\"1696\",\"type\":\"GlyphRenderer\"},{\"attributes\":{\"children\":[{\"id\":\"1615\"}],\"margin\":[0,0,0,0],\"name\":\"Row02561\"},\"id\":\"1607\",\"type\":\"Row\"},{\"attributes\":{},\"id\":\"1654\",\"type\":\"Selection\"},{\"attributes\":{\"active_drag\":\"auto\",\"active_inspect\":\"auto\",\"active_multi\":null,\"active_scroll\":\"auto\",\"active_tap\":\"auto\",\"tools\":[{\"id\":\"1610\"},{\"id\":\"1611\"},{\"id\":\"1612\"},{\"id\":\"1613\"},{\"id\":\"1614\"},{\"id\":\"1632\"},{\"id\":\"1633\"},{\"id\":\"1634\"},{\"id\":\"1635\"},{\"id\":\"1636\"}]},\"id\":\"1638\",\"type\":\"Toolbar\"},{\"attributes\":{},\"id\":\"1712\",\"type\":\"Selection\"},{\"attributes\":{\"bottom\":{\"value\":0},\"fill_alpha\":{\"value\":0.5},\"fill_color\":{\"value\":\"#1f77b3\"},\"left\":{\"field\":\"left\"},\"line_alpha\":{\"value\":0.5},\"right\":{\"field\":\"right\"},\"top\":{\"field\":\"top\"}},\"id\":\"1656\",\"type\":\"Quad\"},{\"attributes\":{\"data\":{\"AC\":{\"__ndarray__\":\"juyZRgYNs78YfZUumTWxv0YbIi1YvK6/XDwZ/X0Nq79xXRDNo16nv4d+B53Jr6O/nJ/+bO8AoL9kget5KqSYv4/D2Rl2RpG/dAuQc4PRg78wP7LNalhkv7jXbRmcSnM/hGfazLZgiD+Y8X7GD46TP26vkCbE65o/oTZRQ7wkoT+LFVpzltOkP3b0YqNwgqg/YNNr00oxrD9KsnQDJeCvPw==\",\"dtype\":\"float64\",\"order\":\"little\",\"shape\":[20]},\"AC_count\":[0,0,0,1,2,3,1,10,13,17,17,18,14,6,5,4,3,0,1,0],\"Element\":[\"AC\",\"AC\",\"AC\",\"AC\",\"AC\",\"AC\",\"AC\",\"AC\",\"AC\",\"AC\",\"AC\",\"AC\",\"AC\",\"AC\",\"AC\",\"AC\",\"AC\",\"AC\",\"AC\",\"AC\"],\"left\":{\"__ndarray__\":\"SCSc0rz4s7/TtJe6TyGyv15Fk6LiSbC/0asdFevkrL/mzBTlEDapv/ztC7U2h6W/Eg8DhVzYob9OYPSpBFOcv3qi4klQ9ZS/SMmh0zcvi79Am/wmnud4v0BwKWXNPFI/sKnIbAIDgT9YJewsa76PP4TQh/bpPJc/WI6ZVp6anj8WplVbKfyiPwCFXosDq6Y/7GNnu91Zqj/UQnDrtwiuPw==\",\"dtype\":\"float64\",\"order\":\"little\",\"shape\":[20]},\"right\":{\"__ndarray__\":\"07SXuk8hsr9eRZOi4kmwv9GrHRXr5Ky/5swU5RA2qb/87Qu1NoelvxIPA4Vc2KG/TmD0qQRTnL96ouJJUPWUv0jJodM3L4u/QJv8Jp7neL9AcCllzTxSP7CpyGwCA4E/WCXsLGu+jz+E0If26TyXP1iOmVaemp4/FqZVWyn8oj8AhV6LA6umP+xjZ7vdWao/1EJw67cIrj/gkLwNyduwPw==\",\"dtype\":\"float64\",\"order\":\"little\",\"shape\":[20]},\"top\":[0,0,0,1,2,3,1,10,13,17,17,18,14,6,5,4,3,0,1,0]},\"selected\":{\"id\":\"1691\"},\"selection_policy\":{\"id\":\"1708\"}},\"id\":\"1690\",\"type\":\"ColumnDataSource\"},{\"attributes\":{\"end\":100,\"format\":\"0[.]00\",\"margin\":[5,10,5,10],\"start\":20,\"title\":\"x\",\"value\":20,\"value_throttled\":60},\"id\":\"1606\",\"type\":\"Slider\"},{\"attributes\":{\"callback\":null,\"renderers\":[{\"id\":\"1696\"}],\"tags\":[\"hv_created\"],\"tooltips\":[[\"Element\",\"@{Element}\"],[\"AC\",\"@{AC}\"],[\"Count\",\"@{AC_count}\"]]},\"id\":\"1612\",\"type\":\"HoverTool\"},{\"attributes\":{},\"id\":\"1632\",\"type\":\"SaveTool\"},{\"attributes\":{},\"id\":\"1633\",\"type\":\"PanTool\"},{\"attributes\":{\"callback\":null,\"renderers\":[{\"id\":\"1677\"}],\"tags\":[\"hv_created\"],\"tooltips\":[[\"Element\",\"@{Element}\"],[\"ALI\",\"@{ALI}\"],[\"Count\",\"@{ALI_count}\"]]},\"id\":\"1611\",\"type\":\"HoverTool\"},{\"attributes\":{},\"id\":\"1634\",\"type\":\"WheelZoomTool\"},{\"attributes\":{\"overlay\":{\"id\":\"1637\"}},\"id\":\"1635\",\"type\":\"BoxZoomTool\"},{\"attributes\":{\"end\":0.06585365853658542,\"reset_end\":0.06585365853658542,\"reset_start\":-0.07801418439716301,\"start\":-0.07801418439716301,\"tags\":[[[\"MEG\",\"MEG\",null]]]},\"id\":\"1608\",\"type\":\"Range1d\"},{\"attributes\":{},\"id\":\"1735\",\"type\":\"Selection\"},{\"attributes\":{\"bottom\":{\"value\":0},\"fill_alpha\":{\"value\":0.2},\"fill_color\":{\"value\":\"#2ba02b\"},\"left\":{\"field\":\"left\"},\"line_alpha\":{\"value\":0.2},\"right\":{\"field\":\"right\"},\"top\":{\"field\":\"top\"}},\"id\":\"1695\",\"type\":\"Quad\"},{\"attributes\":{\"bottom\":{\"value\":0},\"fill_alpha\":{\"value\":0.5},\"fill_color\":{\"value\":\"#1f77b3\"},\"left\":{\"field\":\"left\"},\"line_alpha\":{\"value\":0.5},\"right\":{\"field\":\"right\"},\"top\":{\"field\":\"top\"}},\"id\":\"1657\",\"type\":\"Quad\"},{\"attributes\":{},\"id\":\"1649\",\"type\":\"BasicTickFormatter\"}],\"root_ids\":[\"1604\",\"1951\"]},\"title\":\"Bokeh Application\",\"version\":\"2.2.3\"}};\n",
       "    var render_items = [{\"docid\":\"068a5bba-17a9-4afb-9a96-80ef75710db3\",\"root_ids\":[\"1604\"],\"roots\":{\"1604\":\"ea676b72-7cb3-41d7-909d-75ef84f299ac\"}}];\n",
       "    root.Bokeh.embed.embed_items_notebook(docs_json, render_items);\n",
       "  }\n",
       "  if (root.Bokeh !== undefined && root.Bokeh.Panel !== undefined) {\n",
       "    embed_document(root);\n",
       "  } else {\n",
       "    var attempts = 0;\n",
       "    var timer = setInterval(function(root) {\n",
       "      if (root.Bokeh !== undefined && root.Bokeh.Panel !== undefined) {\n",
       "        clearInterval(timer);\n",
       "        embed_document(root);\n",
       "      } else if (document.readyState == \"complete\") {\n",
       "        attempts++;\n",
       "        if (attempts > 100) {\n",
       "          clearInterval(timer);\n",
       "          console.log(\"Bokeh: ERROR: Unable to run BokehJS code because BokehJS library is missing\");\n",
       "        }\n",
       "      }\n",
       "    }, 10, root)\n",
       "  }\n",
       "})(window);</script>"
      ],
      "text/plain": [
       "Column\n",
       "    [0] Column\n",
       "        [0] IntSlider(end=100, name='x', start=20, value=20, value_throttled=60)\n",
       "    [1] Row\n",
       "        [0] HoloViews(NdOverlay, name='interactive02378')"
      ]
     },
     "execution_count": 8,
     "metadata": {
      "application/vnd.holoviews_exec.v0+json": {
       "id": "1604"
      }
     },
     "output_type": "execute_result"
    }
   ],
   "source": [
    "# prices_change.hist(adjoin=False)\n",
    "int_slider = pn.widgets.IntSlider(name='Integer Slider', start=0, end=8, step=2, value=4)\n",
    "\n",
    "\n",
    "columns = [col for col in prices_change.columns]\n",
    "\n",
    "def histogram(x=20, col='MEG'):\n",
    "    return prices_change.hvplot.hist(columns, bins=x, padding=False, alpha = 0.5, \n",
    "                          title=\"PH Stocks Distribution\",\n",
    "                         xlabel=\"Returns\")\n",
    "interact(histogram, x=(20,100))\n",
    "\n",
    "\n"
   ]
  },
  {
   "cell_type": "code",
   "execution_count": 56,
   "metadata": {},
   "outputs": [
    {
     "data": {},
     "metadata": {},
     "output_type": "display_data"
    },
    {
     "data": {},
     "metadata": {},
     "output_type": "display_data"
    },
    {
     "data": {
      "application/vnd.holoviews_exec.v0+json": "",
      "text/html": [
       "<div id='2989'>\n",
       "\n",
       "\n",
       "\n",
       "\n",
       "\n",
       "  <div class=\"bk-root\" id=\"836c01f2-18c9-454a-b92b-3d105ac11bdf\" data-root-id=\"2989\"></div>\n",
       "</div>\n",
       "<script type=\"application/javascript\">(function(root) {\n",
       "  function embed_document(root) {\n",
       "    var docs_json = {\"31252e00-7d62-4c78-9d35-7d1dab66685f\":{\"roots\":{\"references\":[{\"attributes\":{\"axis\":{\"id\":\"3005\"},\"grid_line_color\":null,\"ticker\":null},\"id\":\"3008\",\"type\":\"Grid\"},{\"attributes\":{\"source\":{\"id\":\"3026\"}},\"id\":\"3033\",\"type\":\"CDSView\"},{\"attributes\":{\"end\":100,\"format\":\"0[.]00\",\"margin\":[5,10,5,10],\"start\":20,\"title\":\"x\",\"value\":20,\"value_throttled\":60},\"id\":\"2991\",\"type\":\"Slider\"},{\"attributes\":{\"children\":[{\"id\":\"2996\"}],\"margin\":[0,0,0,0],\"name\":\"Row04401\"},\"id\":\"2992\",\"type\":\"Row\"},{\"attributes\":{},\"id\":\"3001\",\"type\":\"LinearScale\"},{\"attributes\":{},\"id\":\"3006\",\"type\":\"BasicTicker\"},{\"attributes\":{\"bottom_units\":\"screen\",\"fill_alpha\":0.5,\"fill_color\":\"lightgrey\",\"left_units\":\"screen\",\"level\":\"overlay\",\"line_alpha\":1.0,\"line_color\":\"black\",\"line_dash\":[4,4],\"line_width\":2,\"right_units\":\"screen\",\"top_units\":\"screen\"},\"id\":\"3018\",\"type\":\"BoxAnnotation\"},{\"attributes\":{},\"id\":\"3010\",\"type\":\"BasicTicker\"},{\"attributes\":{\"end\":17.0,\"reset_end\":17.0,\"reset_start\":0.0,\"tags\":[[[\"MEG_count\",\"Count\",null]]]},\"id\":\"2994\",\"type\":\"Range1d\"},{\"attributes\":{\"children\":[{\"id\":\"2990\"},{\"id\":\"2992\"}],\"margin\":[0,0,0,0],\"name\":\"Column04312\"},\"id\":\"2989\",\"type\":\"Column\"},{\"attributes\":{},\"id\":\"3036\",\"type\":\"BasicTickFormatter\"},{\"attributes\":{\"below\":[{\"id\":\"3005\"}],\"center\":[{\"id\":\"3008\"},{\"id\":\"3012\"}],\"left\":[{\"id\":\"3009\"}],\"margin\":[5,5,5,5],\"min_border_bottom\":10,\"min_border_left\":10,\"min_border_right\":10,\"min_border_top\":10,\"plot_height\":300,\"plot_width\":700,\"renderers\":[{\"id\":\"3032\"}],\"sizing_mode\":\"fixed\",\"title\":{\"id\":\"2997\"},\"toolbar\":{\"id\":\"3019\"},\"x_range\":{\"id\":\"2993\"},\"x_scale\":{\"id\":\"3001\"},\"y_range\":{\"id\":\"2994\"},\"y_scale\":{\"id\":\"3003\"}},\"id\":\"2996\",\"subtype\":\"Figure\",\"type\":\"Plot\"},{\"attributes\":{},\"id\":\"3027\",\"type\":\"Selection\"},{\"attributes\":{},\"id\":\"3013\",\"type\":\"SaveTool\"},{\"attributes\":{\"end\":4.3,\"reset_end\":4.3,\"reset_start\":2.6,\"start\":2.6,\"tags\":[[[\"MEG\",\"MEG\",null]]]},\"id\":\"2993\",\"type\":\"Range1d\"},{\"attributes\":{\"client_comm_id\":\"d0326e0628894fcdbde48147ffebfbfe\",\"comm_id\":\"f24cebc81a1041c3a68cf92aa14d11b0\",\"plot_id\":\"2989\"},\"id\":\"3078\",\"type\":\"panel.models.comm_manager.CommManager\"},{\"attributes\":{\"callback\":null,\"renderers\":[{\"id\":\"3032\"}],\"tags\":[\"hv_created\"],\"tooltips\":[[\"MEG\",\"@{MEG}\"],[\"Count\",\"@{MEG_count}\"]]},\"id\":\"2995\",\"type\":\"HoverTool\"},{\"attributes\":{\"bottom\":{\"value\":0},\"fill_alpha\":{\"value\":0.5},\"fill_color\":{\"value\":\"#1f77b3\"},\"left\":{\"field\":\"left\"},\"line_alpha\":{\"value\":0.5},\"right\":{\"field\":\"right\"},\"top\":{\"field\":\"top\"}},\"id\":\"3030\",\"type\":\"Quad\"},{\"attributes\":{},\"id\":\"3017\",\"type\":\"ResetTool\"},{\"attributes\":{\"bottom\":{\"value\":0},\"fill_alpha\":{\"value\":0.5},\"fill_color\":{\"value\":\"#1f77b3\"},\"left\":{\"field\":\"left\"},\"line_alpha\":{\"value\":0.5},\"right\":{\"field\":\"right\"},\"top\":{\"field\":\"top\"}},\"id\":\"3029\",\"type\":\"Quad\"},{\"attributes\":{},\"id\":\"3034\",\"type\":\"BasicTickFormatter\"},{\"attributes\":{\"bottom\":{\"value\":0},\"fill_alpha\":{\"value\":0.2},\"fill_color\":{\"value\":\"#1f77b3\"},\"left\":{\"field\":\"left\"},\"line_alpha\":{\"value\":0.2},\"right\":{\"field\":\"right\"},\"top\":{\"field\":\"top\"}},\"id\":\"3031\",\"type\":\"Quad\"},{\"attributes\":{\"data\":{\"MEG\":{\"__ndarray__\":\"pHA9CtcjBUBSuB6F69EFQAAAAAAAgAZArkfhehQuB0Bcj8L1KNwHQArXo3A9ighAuR6F61E4CUBnZmZmZuYJQBWuR+F6lApAw/UoXI9CC0BxPQrXo/ALQB+F61G4ngxAzczMzMxMDUB7FK5H4foNQClcj8L1qA5A16NwPQpXD0DC9ShcjwIQQJqZmZmZWRBAcD0K16OwEEBI4XoUrgcRQA==\",\"dtype\":\"float64\",\"order\":\"little\",\"shape\":[20]},\"MEG_count\":[1,1,3,1,3,3,7,4,2,4,6,8,10,5,11,12,17,7,5,6],\"left\":{\"__ndarray__\":\"zczMzMzMBEB7FK5H4XoFQClcj8L1KAZA16NwPQrXBkCF61G4HoUHQDMzMzMzMwhA4noUrkfhCECQwvUoXI8JQD4K16NwPQpA7FG4HoXrCkCamZmZmZkLQEjhehSuRwxA9ihcj8L1DECkcD0K16MNQFK4HoXrUQ5AAAAAAAAAD0CuR+F6FK4PQK5H4XoULhBAhetRuB6FEEBcj8L1KNwQQA==\",\"dtype\":\"float64\",\"order\":\"little\",\"shape\":[20]},\"right\":{\"__ndarray__\":\"exSuR+F6BUApXI/C9SgGQNejcD0K1wZAhetRuB6FB0AzMzMzMzMIQOJ6FK5H4QhAkML1KFyPCUA+CtejcD0KQOxRuB6F6wpAmpmZmZmZC0BI4XoUrkcMQPYoXI/C9QxApHA9CtejDUBSuB6F61EOQAAAAAAAAA9ArkfhehSuD0CuR+F6FC4QQIXrUbgehRBAXI/C9SjcEEAzMzMzMzMRQA==\",\"dtype\":\"float64\",\"order\":\"little\",\"shape\":[20]},\"top\":[1,1,3,1,3,3,7,4,2,4,6,8,10,5,11,12,17,7,5,6]},\"selected\":{\"id\":\"3027\"},\"selection_policy\":{\"id\":\"3044\"}},\"id\":\"3026\",\"type\":\"ColumnDataSource\"},{\"attributes\":{},\"id\":\"3015\",\"type\":\"WheelZoomTool\"},{\"attributes\":{\"data_source\":{\"id\":\"3026\"},\"glyph\":{\"id\":\"3029\"},\"hover_glyph\":null,\"muted_glyph\":{\"id\":\"3031\"},\"nonselection_glyph\":{\"id\":\"3030\"},\"selection_glyph\":null,\"view\":{\"id\":\"3033\"}},\"id\":\"3032\",\"type\":\"GlyphRenderer\"},{\"attributes\":{\"overlay\":{\"id\":\"3018\"}},\"id\":\"3016\",\"type\":\"BoxZoomTool\"},{\"attributes\":{\"axis_label\":\"Returns\",\"bounds\":\"auto\",\"formatter\":{\"id\":\"3034\"},\"major_label_orientation\":\"horizontal\",\"ticker\":{\"id\":\"3006\"}},\"id\":\"3005\",\"type\":\"LinearAxis\"},{\"attributes\":{\"axis\":{\"id\":\"3009\"},\"dimension\":1,\"grid_line_color\":null,\"ticker\":null},\"id\":\"3012\",\"type\":\"Grid\"},{\"attributes\":{},\"id\":\"3014\",\"type\":\"PanTool\"},{\"attributes\":{\"active_drag\":\"auto\",\"active_inspect\":\"auto\",\"active_multi\":null,\"active_scroll\":\"auto\",\"active_tap\":\"auto\",\"tools\":[{\"id\":\"2995\"},{\"id\":\"3013\"},{\"id\":\"3014\"},{\"id\":\"3015\"},{\"id\":\"3016\"},{\"id\":\"3017\"}]},\"id\":\"3019\",\"type\":\"Toolbar\"},{\"attributes\":{\"children\":[{\"id\":\"2991\"}],\"margin\":[0,0,0,0],\"name\":\"Column04402\"},\"id\":\"2990\",\"type\":\"Column\"},{\"attributes\":{},\"id\":\"3044\",\"type\":\"UnionRenderers\"},{\"attributes\":{\"text\":\"Stock Price Distribution\",\"text_color\":{\"value\":\"black\"},\"text_font_size\":{\"value\":\"12pt\"}},\"id\":\"2997\",\"type\":\"Title\"},{\"attributes\":{\"axis_label\":\"\",\"bounds\":\"auto\",\"formatter\":{\"id\":\"3036\"},\"major_label_orientation\":\"horizontal\",\"ticker\":{\"id\":\"3010\"}},\"id\":\"3009\",\"type\":\"LinearAxis\"},{\"attributes\":{},\"id\":\"3003\",\"type\":\"LinearScale\"}],\"root_ids\":[\"2989\",\"3078\"]},\"title\":\"Bokeh Application\",\"version\":\"2.2.3\"}};\n",
       "    var render_items = [{\"docid\":\"31252e00-7d62-4c78-9d35-7d1dab66685f\",\"root_ids\":[\"2989\"],\"roots\":{\"2989\":\"836c01f2-18c9-454a-b92b-3d105ac11bdf\"}}];\n",
       "    root.Bokeh.embed.embed_items_notebook(docs_json, render_items);\n",
       "  }\n",
       "  if (root.Bokeh !== undefined && root.Bokeh.Panel !== undefined) {\n",
       "    embed_document(root);\n",
       "  } else {\n",
       "    var attempts = 0;\n",
       "    var timer = setInterval(function(root) {\n",
       "      if (root.Bokeh !== undefined && root.Bokeh.Panel !== undefined) {\n",
       "        clearInterval(timer);\n",
       "        embed_document(root);\n",
       "      } else if (document.readyState == \"complete\") {\n",
       "        attempts++;\n",
       "        if (attempts > 100) {\n",
       "          clearInterval(timer);\n",
       "          console.log(\"Bokeh: ERROR: Unable to run BokehJS code because BokehJS library is missing\");\n",
       "        }\n",
       "      }\n",
       "    }, 10, root)\n",
       "  }\n",
       "})(window);</script>"
      ],
      "text/plain": [
       "Column\n",
       "    [0] Column\n",
       "        [0] IntSlider(end=100, name='x', start=20, value=20, value_throttled=60)\n",
       "    [1] Row\n",
       "        [0] HoloViews(Histogram, name='interactive04311')"
      ]
     },
     "execution_count": 56,
     "metadata": {
      "application/vnd.holoviews_exec.v0+json": {
       "id": "2989"
      }
     },
     "output_type": "execute_result"
    }
   ],
   "source": [
    "# prices_change.hist(adjoin=False)\n",
    "int_slider = pn.widgets.IntSlider(name='Integer Slider', start=0, end=8, step=2, value=4)\n",
    "\n",
    "\n",
    "columns = [col for col in prices.columns]\n",
    "\n",
    "def histogram(x=20, col=\"MEG\"):\n",
    "    return prices.hvplot.hist(col, bins=x, padding=False, alpha = 0.5, \n",
    "                          title=\"Stock Price Distribution\",\n",
    "                         xlabel=\"Returns\")\n",
    "interact(histogram, x=(20,100))\n",
    "\n",
    "\n"
   ]
  },
  {
   "cell_type": "markdown",
   "metadata": {},
   "source": [
    "#### IMPORTANT: Before applying the dictionary format to the argument for the hv.NdLayout it must be a Holoviews Dataset.  You can use hv.Dataset() to make this transformation."
   ]
  },
  {
   "cell_type": "code",
   "execution_count": 10,
   "metadata": {
    "scrolled": true
   },
   "outputs": [
    {
     "data": {},
     "metadata": {},
     "output_type": "display_data"
    },
    {
     "data": {},
     "metadata": {},
     "output_type": "display_data"
    },
    {
     "data": {
      "application/vnd.holoviews_exec.v0+json": "",
      "text/html": [
       "<div id='2162'>\n",
       "\n",
       "\n",
       "\n",
       "\n",
       "\n",
       "  <div class=\"bk-root\" id=\"dddbc8ae-4406-4821-af04-678741811929\" data-root-id=\"2162\"></div>\n",
       "</div>\n",
       "<script type=\"application/javascript\">(function(root) {\n",
       "  function embed_document(root) {\n",
       "    var docs_json = {\"a9686799-344b-470b-9e5e-2b1cf0271ec1\":{\"roots\":{\"references\":[{\"attributes\":{},\"id\":\"2205\",\"type\":\"BasicTickFormatter\"},{\"attributes\":{\"children\":[{\"id\":\"2427\"}],\"margin\":[0,0,0,0],\"name\":\"Row03586\",\"tags\":[\"embedded\"]},\"id\":\"2162\",\"type\":\"Row\"},{\"attributes\":{\"end\":0.06586538461538463,\"reset_end\":0.06586538461538463,\"reset_start\":-0.051442307692307655,\"start\":-0.051442307692307655,\"tags\":[[[\"ALI\",\"ALI\",null]]]},\"id\":\"2207\",\"type\":\"Range1d\"},{\"attributes\":{\"children\":[[{\"id\":\"2166\"},0,0],[{\"id\":\"2209\"},0,1],[{\"id\":\"2252\"},1,0],[{\"id\":\"2295\"},1,1],[{\"id\":\"2338\"},2,0]]},\"id\":\"2424\",\"type\":\"GridBox\"},{\"attributes\":{},\"id\":\"2248\",\"type\":\"BasicTickFormatter\"},{\"attributes\":{\"bottom_units\":\"screen\",\"fill_alpha\":0.5,\"fill_color\":\"lightgrey\",\"left_units\":\"screen\",\"level\":\"overlay\",\"line_alpha\":1.0,\"line_color\":\"black\",\"line_dash\":[4,4],\"line_width\":2,\"right_units\":\"screen\",\"top_units\":\"screen\"},\"id\":\"2231\",\"type\":\"BoxAnnotation\"},{\"attributes\":{\"bottom_units\":\"screen\",\"fill_alpha\":0.5,\"fill_color\":\"lightgrey\",\"left_units\":\"screen\",\"level\":\"overlay\",\"line_alpha\":1.0,\"line_color\":\"black\",\"line_dash\":[4,4],\"line_width\":2,\"right_units\":\"screen\",\"top_units\":\"screen\"},\"id\":\"2274\",\"type\":\"BoxAnnotation\"},{\"attributes\":{\"active_drag\":\"auto\",\"active_inspect\":\"auto\",\"active_multi\":null,\"active_scroll\":\"auto\",\"active_tap\":\"auto\",\"tools\":[{\"id\":\"2226\"},{\"id\":\"2227\"},{\"id\":\"2228\"},{\"id\":\"2229\"},{\"id\":\"2230\"}]},\"id\":\"2232\",\"type\":\"Toolbar\"},{\"attributes\":{},\"id\":\"2269\",\"type\":\"SaveTool\"},{\"attributes\":{\"below\":[{\"id\":\"2304\"}],\"center\":[{\"id\":\"2307\"},{\"id\":\"2311\"}],\"left\":[{\"id\":\"2308\"}],\"margin\":null,\"min_border_bottom\":10,\"min_border_left\":10,\"min_border_right\":10,\"min_border_top\":10,\"min_width\":400,\"plot_height\":300,\"plot_width\":null,\"renderers\":[{\"id\":\"2330\"}],\"sizing_mode\":\"stretch_width\",\"title\":{\"id\":\"2296\"},\"toolbar\":{\"id\":\"2318\"},\"toolbar_location\":null,\"x_range\":{\"id\":\"2293\"},\"x_scale\":{\"id\":\"2300\"},\"y_range\":{\"id\":\"2294\"},\"y_scale\":{\"id\":\"2302\"}},\"id\":\"2295\",\"subtype\":\"Figure\",\"type\":\"Plot\"},{\"attributes\":{},\"id\":\"2282\",\"type\":\"Selection\"},{\"attributes\":{\"below\":[{\"id\":\"2175\"}],\"center\":[{\"id\":\"2178\"},{\"id\":\"2182\"}],\"left\":[{\"id\":\"2179\"}],\"margin\":null,\"min_border_bottom\":10,\"min_border_left\":10,\"min_border_right\":10,\"min_border_top\":10,\"min_width\":400,\"plot_height\":300,\"plot_width\":null,\"renderers\":[{\"id\":\"2201\"}],\"sizing_mode\":\"stretch_width\",\"title\":{\"id\":\"2167\"},\"toolbar\":{\"id\":\"2189\"},\"toolbar_location\":null,\"x_range\":{\"id\":\"2164\"},\"x_scale\":{\"id\":\"2171\"},\"y_range\":{\"id\":\"2165\"},\"y_scale\":{\"id\":\"2173\"}},\"id\":\"2166\",\"subtype\":\"Figure\",\"type\":\"Plot\"},{\"attributes\":{\"data\":{\"left\":{\"__ndarray__\":\"YLmnEZZ7qr/+h6oN+vqnv51WrQleeqW/OyWwBcL5or/a87IBJnmgv/CEa/sT8Zu/LCJx89vvlr9qv3bro+6Rv0y5+MbX2om/iOcHbs+wf78AuTyc3ldnvyBdlqPhsWA/oLm08dBdfD9YIs+IWDGIP+zzYUzkGZE/sFZcVBwblj90uVZcVBybPxyOKDLGDqA/fr8lNmKPoj/e8CI6/g+lPw==\",\"dtype\":\"float64\",\"order\":\"little\",\"shape\":[20]},\"right\":{\"__ndarray__\":\"/oeqDfr6p7+dVq0JXnqlvzslsAXC+aK/2vOyASZ5oL/whGv7E/GbvywicfPb75a/ar9266Pukb9MufjG19qJv4jnB27PsH+/ALk8nN5XZ78gXZaj4bFgP6C5tPHQXXw/WCLPiFgxiD/s82FM5BmRP7BWXFQcG5Y/dLlWXFQcmz8cjigyxg6gP36/JTZij6I/3vAiOv4PpT9AIiA+mpCnPw==\",\"dtype\":\"float64\",\"order\":\"little\",\"shape\":[20]},\"top\":[1,0,0,1,3,4,4,11,9,11,26,20,8,4,3,2,3,2,1,2]},\"selected\":{\"id\":\"2282\"},\"selection_policy\":{\"id\":\"2403\"}},\"id\":\"2281\",\"type\":\"ColumnDataSource\"},{\"attributes\":{},\"id\":\"2289\",\"type\":\"BasicTickFormatter\"},{\"attributes\":{},\"id\":\"2230\",\"type\":\"ResetTool\"},{\"attributes\":{\"overlay\":{\"id\":\"2231\"}},\"id\":\"2229\",\"type\":\"BoxZoomTool\"},{\"attributes\":{},\"id\":\"2270\",\"type\":\"PanTool\"},{\"attributes\":{},\"id\":\"2228\",\"type\":\"WheelZoomTool\"},{\"attributes\":{},\"id\":\"2325\",\"type\":\"Selection\"},{\"attributes\":{},\"id\":\"2421\",\"type\":\"UnionRenderers\"},{\"attributes\":{},\"id\":\"2355\",\"type\":\"SaveTool\"},{\"attributes\":{\"text\":\"Stock: MEG\",\"text_color\":{\"value\":\"black\"},\"text_font_size\":{\"value\":\"12pt\"}},\"id\":\"2296\",\"type\":\"Title\"},{\"attributes\":{},\"id\":\"2183\",\"type\":\"SaveTool\"},{\"attributes\":{},\"id\":\"2356\",\"type\":\"PanTool\"},{\"attributes\":{\"source\":{\"id\":\"2238\"}},\"id\":\"2245\",\"type\":\"CDSView\"},{\"attributes\":{\"bottom\":{\"value\":0},\"fill_alpha\":{\"value\":0.2},\"fill_color\":{\"value\":\"#30a2da\"},\"left\":{\"field\":\"left\"},\"line_alpha\":{\"value\":0.2},\"right\":{\"field\":\"right\"},\"top\":{\"field\":\"top\"}},\"id\":\"2329\",\"type\":\"Quad\"},{\"attributes\":{\"below\":[{\"id\":\"2261\"}],\"center\":[{\"id\":\"2264\"},{\"id\":\"2268\"}],\"left\":[{\"id\":\"2265\"}],\"margin\":null,\"min_border_bottom\":10,\"min_border_left\":10,\"min_border_right\":10,\"min_border_top\":10,\"min_width\":400,\"plot_height\":300,\"plot_width\":null,\"renderers\":[{\"id\":\"2287\"}],\"sizing_mode\":\"stretch_width\",\"title\":{\"id\":\"2253\"},\"toolbar\":{\"id\":\"2275\"},\"toolbar_location\":null,\"x_range\":{\"id\":\"2250\"},\"x_scale\":{\"id\":\"2257\"},\"y_range\":{\"id\":\"2251\"},\"y_scale\":{\"id\":\"2259\"}},\"id\":\"2252\",\"subtype\":\"Figure\",\"type\":\"Plot\"},{\"attributes\":{},\"id\":\"2184\",\"type\":\"PanTool\"},{\"attributes\":{\"end\":16.5,\"reset_end\":16.5,\"reset_start\":0.0,\"tags\":[[[\"MEG_count\",\"Count\",null]]]},\"id\":\"2294\",\"type\":\"Range1d\"},{\"attributes\":{},\"id\":\"2357\",\"type\":\"WheelZoomTool\"},{\"attributes\":{\"data_source\":{\"id\":\"2195\"},\"glyph\":{\"id\":\"2198\"},\"hover_glyph\":null,\"muted_glyph\":{\"id\":\"2200\"},\"nonselection_glyph\":{\"id\":\"2199\"},\"selection_glyph\":null,\"view\":{\"id\":\"2202\"}},\"id\":\"2201\",\"type\":\"GlyphRenderer\"},{\"attributes\":{},\"id\":\"2185\",\"type\":\"WheelZoomTool\"},{\"attributes\":{\"data\":{\"left\":{\"__ndarray__\":\"SCSc0rz4s78TtZa+P2Gyv95FkarCybC/Ua0XLYtkrr/mzgwFkTWrv3zwAd2WBqi/EhL3tJzXpL+nM+yMoqihv3qqwslQ85y/pu2seVyVlr/QMJcpaDeQv/jnArPnsoO/QLldS/zba79gLVA1phNnPwiFfy3SgII/sP6qzbo8jz8sPOu2UfyVPwD5AAdGWpw/6lqLKx1coT9WOZZTF4ukPw==\",\"dtype\":\"float64\",\"order\":\"little\",\"shape\":[20]},\"right\":{\"__ndarray__\":\"E7WWvj9hsr/eRZGqwsmwv1GtFy2LZK6/5s4MBZE1q7988AHdlgaovxIS97Sc16S/pzPsjKKoob96qsLJUPOcv6btrHlclZa/0DCXKWg3kL/45wKz57KDv0C5XUv822u/YC1QNaYTZz8IhX8t0oCCP7D+qs26PI8/LDzrtlH8lT8A+QAHRlqcP+paiysdXKE/VjmWUxeLpD/AF6F7EbqnPw==\",\"dtype\":\"float64\",\"order\":\"little\",\"shape\":[20]},\"top\":[1,0,0,3,0,1,2,4,12,9,15,9,14,9,10,10,4,6,3,3]},\"selected\":{\"id\":\"2325\"},\"selection_policy\":{\"id\":\"2412\"}},\"id\":\"2324\",\"type\":\"ColumnDataSource\"},{\"attributes\":{\"overlay\":{\"id\":\"2360\"}},\"id\":\"2358\",\"type\":\"BoxZoomTool\"},{\"attributes\":{},\"id\":\"2300\",\"type\":\"LinearScale\"},{\"attributes\":{\"axis_label\":\"MEG\",\"bounds\":\"auto\",\"formatter\":{\"id\":\"2332\"},\"major_label_orientation\":\"horizontal\",\"ticker\":{\"id\":\"2305\"}},\"id\":\"2304\",\"type\":\"LinearAxis\"},{\"attributes\":{\"overlay\":{\"id\":\"2188\"}},\"id\":\"2186\",\"type\":\"BoxZoomTool\"},{\"attributes\":{},\"id\":\"2359\",\"type\":\"ResetTool\"},{\"attributes\":{},\"id\":\"2187\",\"type\":\"ResetTool\"},{\"attributes\":{\"bottom\":{\"value\":0},\"fill_alpha\":{\"value\":0.1},\"fill_color\":{\"value\":\"#30a2da\"},\"left\":{\"field\":\"left\"},\"line_alpha\":{\"value\":0.1},\"right\":{\"field\":\"right\"},\"top\":{\"field\":\"top\"}},\"id\":\"2328\",\"type\":\"Quad\"},{\"attributes\":{},\"id\":\"2302\",\"type\":\"LinearScale\"},{\"attributes\":{\"bottom\":{\"value\":0},\"fill_color\":{\"value\":\"#30a2da\"},\"left\":{\"field\":\"left\"},\"right\":{\"field\":\"right\"},\"top\":{\"field\":\"top\"}},\"id\":\"2284\",\"type\":\"Quad\"},{\"attributes\":{},\"id\":\"2385\",\"type\":\"UnionRenderers\"},{\"attributes\":{},\"id\":\"2305\",\"type\":\"BasicTicker\"},{\"attributes\":{\"axis\":{\"id\":\"2308\"},\"dimension\":1,\"grid_line_color\":null,\"ticker\":null},\"id\":\"2311\",\"type\":\"Grid\"},{\"attributes\":{\"axis\":{\"id\":\"2304\"},\"grid_line_color\":null,\"ticker\":null},\"id\":\"2307\",\"type\":\"Grid\"},{\"attributes\":{},\"id\":\"2203\",\"type\":\"BasicTickFormatter\"},{\"attributes\":{},\"id\":\"2377\",\"type\":\"BasicTickFormatter\"},{\"attributes\":{\"toolbar\":{\"id\":\"2425\"},\"toolbar_location\":\"above\"},\"id\":\"2426\",\"type\":\"ToolbarBox\"},{\"attributes\":{\"source\":{\"id\":\"2281\"}},\"id\":\"2288\",\"type\":\"CDSView\"},{\"attributes\":{},\"id\":\"2309\",\"type\":\"BasicTicker\"},{\"attributes\":{\"end\":28.6,\"reset_end\":28.6,\"reset_start\":0.0,\"tags\":[[[\"JFC_count\",\"Count\",null]]]},\"id\":\"2251\",\"type\":\"Range1d\"},{\"attributes\":{\"axis_label\":\"Count\",\"bounds\":\"auto\",\"formatter\":{\"id\":\"2334\"},\"major_label_orientation\":\"horizontal\",\"ticker\":{\"id\":\"2309\"}},\"id\":\"2308\",\"type\":\"LinearAxis\"},{\"attributes\":{\"toolbars\":[{\"id\":\"2189\"},{\"id\":\"2232\"},{\"id\":\"2275\"},{\"id\":\"2318\"},{\"id\":\"2361\"}],\"tools\":[{\"id\":\"2183\"},{\"id\":\"2184\"},{\"id\":\"2185\"},{\"id\":\"2186\"},{\"id\":\"2187\"},{\"id\":\"2226\"},{\"id\":\"2227\"},{\"id\":\"2228\"},{\"id\":\"2229\"},{\"id\":\"2230\"},{\"id\":\"2269\"},{\"id\":\"2270\"},{\"id\":\"2271\"},{\"id\":\"2272\"},{\"id\":\"2273\"},{\"id\":\"2312\"},{\"id\":\"2313\"},{\"id\":\"2314\"},{\"id\":\"2315\"},{\"id\":\"2316\"},{\"id\":\"2355\"},{\"id\":\"2356\"},{\"id\":\"2357\"},{\"id\":\"2358\"},{\"id\":\"2359\"}]},\"id\":\"2425\",\"type\":\"ProxyToolbar\"},{\"attributes\":{\"end\":23.1,\"reset_end\":23.1,\"reset_start\":0.0,\"tags\":[[[\"ALI_count\",\"Count\",null]]]},\"id\":\"2208\",\"type\":\"Range1d\"},{\"attributes\":{},\"id\":\"2375\",\"type\":\"BasicTickFormatter\"},{\"attributes\":{\"bottom\":{\"value\":0},\"fill_alpha\":{\"value\":0.2},\"fill_color\":{\"value\":\"#30a2da\"},\"left\":{\"field\":\"left\"},\"line_alpha\":{\"value\":0.2},\"right\":{\"field\":\"right\"},\"top\":{\"field\":\"top\"}},\"id\":\"2286\",\"type\":\"Quad\"},{\"attributes\":{\"active_drag\":\"auto\",\"active_inspect\":\"auto\",\"active_multi\":null,\"active_scroll\":\"auto\",\"active_tap\":\"auto\",\"tools\":[{\"id\":\"2355\"},{\"id\":\"2356\"},{\"id\":\"2357\"},{\"id\":\"2358\"},{\"id\":\"2359\"}]},\"id\":\"2361\",\"type\":\"Toolbar\"},{\"attributes\":{\"end\":28.6,\"reset_end\":28.6,\"reset_start\":0.0,\"tags\":[[[\"RLC_count\",\"Count\",null]]]},\"id\":\"2337\",\"type\":\"Range1d\"},{\"attributes\":{\"active_drag\":\"auto\",\"active_inspect\":\"auto\",\"active_multi\":null,\"active_scroll\":\"auto\",\"active_tap\":\"auto\",\"tools\":[{\"id\":\"2183\"},{\"id\":\"2184\"},{\"id\":\"2185\"},{\"id\":\"2186\"},{\"id\":\"2187\"}]},\"id\":\"2189\",\"type\":\"Toolbar\"},{\"attributes\":{\"data_source\":{\"id\":\"2281\"},\"glyph\":{\"id\":\"2284\"},\"hover_glyph\":null,\"muted_glyph\":{\"id\":\"2286\"},\"nonselection_glyph\":{\"id\":\"2285\"},\"selection_glyph\":null,\"view\":{\"id\":\"2288\"}},\"id\":\"2287\",\"type\":\"GlyphRenderer\"},{\"attributes\":{},\"id\":\"2412\",\"type\":\"UnionRenderers\"},{\"attributes\":{\"bottom\":{\"value\":0},\"fill_alpha\":{\"value\":0.1},\"fill_color\":{\"value\":\"#30a2da\"},\"left\":{\"field\":\"left\"},\"line_alpha\":{\"value\":0.1},\"right\":{\"field\":\"right\"},\"top\":{\"field\":\"top\"}},\"id\":\"2285\",\"type\":\"Quad\"},{\"attributes\":{\"text\":\"Stock: JFC\",\"text_color\":{\"value\":\"black\"},\"text_font_size\":{\"value\":\"12pt\"}},\"id\":\"2253\",\"type\":\"Title\"},{\"attributes\":{\"bottom_units\":\"screen\",\"fill_alpha\":0.5,\"fill_color\":\"lightgrey\",\"left_units\":\"screen\",\"level\":\"overlay\",\"line_alpha\":1.0,\"line_color\":\"black\",\"line_dash\":[4,4],\"line_width\":2,\"right_units\":\"screen\",\"top_units\":\"screen\"},\"id\":\"2360\",\"type\":\"BoxAnnotation\"},{\"attributes\":{\"source\":{\"id\":\"2195\"}},\"id\":\"2202\",\"type\":\"CDSView\"},{\"attributes\":{},\"id\":\"2334\",\"type\":\"BasicTickFormatter\"},{\"attributes\":{\"bottom_units\":\"screen\",\"fill_alpha\":0.5,\"fill_color\":\"lightgrey\",\"left_units\":\"screen\",\"level\":\"overlay\",\"line_alpha\":1.0,\"line_color\":\"black\",\"line_dash\":[4,4],\"line_width\":2,\"right_units\":\"screen\",\"top_units\":\"screen\"},\"id\":\"2188\",\"type\":\"BoxAnnotation\"},{\"attributes\":{},\"id\":\"2239\",\"type\":\"Selection\"},{\"attributes\":{},\"id\":\"2257\",\"type\":\"LinearScale\"},{\"attributes\":{\"bottom\":{\"value\":0},\"fill_alpha\":{\"value\":0.1},\"fill_color\":{\"value\":\"#30a2da\"},\"left\":{\"field\":\"left\"},\"line_alpha\":{\"value\":0.1},\"right\":{\"field\":\"right\"},\"top\":{\"field\":\"top\"}},\"id\":\"2371\",\"type\":\"Quad\"},{\"attributes\":{\"axis_label\":\"JFC\",\"bounds\":\"auto\",\"formatter\":{\"id\":\"2289\"},\"major_label_orientation\":\"horizontal\",\"ticker\":{\"id\":\"2262\"}},\"id\":\"2261\",\"type\":\"LinearAxis\"},{\"attributes\":{\"children\":[{\"id\":\"2426\"},{\"id\":\"2424\"}],\"sizing_mode\":\"stretch_width\"},\"id\":\"2427\",\"type\":\"Column\"},{\"attributes\":{},\"id\":\"2312\",\"type\":\"SaveTool\"},{\"attributes\":{},\"id\":\"2313\",\"type\":\"PanTool\"},{\"attributes\":{\"end\":15.4,\"reset_end\":15.4,\"reset_start\":0.0,\"tags\":[[[\"AC_count\",\"Count\",null]]]},\"id\":\"2165\",\"type\":\"Range1d\"},{\"attributes\":{},\"id\":\"2259\",\"type\":\"LinearScale\"},{\"attributes\":{},\"id\":\"2291\",\"type\":\"BasicTickFormatter\"},{\"attributes\":{},\"id\":\"2314\",\"type\":\"WheelZoomTool\"},{\"attributes\":{\"source\":{\"id\":\"2367\"}},\"id\":\"2374\",\"type\":\"CDSView\"},{\"attributes\":{},\"id\":\"2262\",\"type\":\"BasicTicker\"},{\"attributes\":{},\"id\":\"2394\",\"type\":\"UnionRenderers\"},{\"attributes\":{\"overlay\":{\"id\":\"2274\"}},\"id\":\"2272\",\"type\":\"BoxZoomTool\"},{\"attributes\":{\"overlay\":{\"id\":\"2317\"}},\"id\":\"2315\",\"type\":\"BoxZoomTool\"},{\"attributes\":{\"text\":\"Stock: ALI\",\"text_color\":{\"value\":\"black\"},\"text_font_size\":{\"value\":\"12pt\"}},\"id\":\"2210\",\"type\":\"Title\"},{\"attributes\":{\"data_source\":{\"id\":\"2367\"},\"glyph\":{\"id\":\"2370\"},\"hover_glyph\":null,\"muted_glyph\":{\"id\":\"2372\"},\"nonselection_glyph\":{\"id\":\"2371\"},\"selection_glyph\":null,\"view\":{\"id\":\"2374\"}},\"id\":\"2373\",\"type\":\"GlyphRenderer\"},{\"attributes\":{\"axis\":{\"id\":\"2261\"},\"grid_line_color\":null,\"ticker\":null},\"id\":\"2264\",\"type\":\"Grid\"},{\"attributes\":{\"end\":0.0558000288558649,\"reset_end\":0.0558000288558649,\"reset_start\":-0.06149906218438896,\"start\":-0.06149906218438896,\"tags\":[[[\"JFC\",\"JFC\",null]]]},\"id\":\"2250\",\"type\":\"Range1d\"},{\"attributes\":{},\"id\":\"2196\",\"type\":\"Selection\"},{\"attributes\":{},\"id\":\"2316\",\"type\":\"ResetTool\"},{\"attributes\":{},\"id\":\"2214\",\"type\":\"LinearScale\"},{\"attributes\":{\"axis_label\":\"ALI\",\"bounds\":\"auto\",\"formatter\":{\"id\":\"2246\"},\"major_label_orientation\":\"horizontal\",\"ticker\":{\"id\":\"2219\"}},\"id\":\"2218\",\"type\":\"LinearAxis\"},{\"attributes\":{},\"id\":\"2266\",\"type\":\"BasicTicker\"},{\"attributes\":{},\"id\":\"2368\",\"type\":\"Selection\"},{\"attributes\":{\"data_source\":{\"id\":\"2238\"},\"glyph\":{\"id\":\"2241\"},\"hover_glyph\":null,\"muted_glyph\":{\"id\":\"2243\"},\"nonselection_glyph\":{\"id\":\"2242\"},\"selection_glyph\":null,\"view\":{\"id\":\"2245\"}},\"id\":\"2244\",\"type\":\"GlyphRenderer\"},{\"attributes\":{\"axis_label\":\"Count\",\"bounds\":\"auto\",\"formatter\":{\"id\":\"2291\"},\"major_label_orientation\":\"horizontal\",\"ticker\":{\"id\":\"2266\"}},\"id\":\"2265\",\"type\":\"LinearAxis\"},{\"attributes\":{\"text\":\"Stock: RLC\",\"text_color\":{\"value\":\"black\"},\"text_font_size\":{\"value\":\"12pt\"}},\"id\":\"2339\",\"type\":\"Title\"},{\"attributes\":{\"bottom\":{\"value\":0},\"fill_alpha\":{\"value\":0.1},\"fill_color\":{\"value\":\"#30a2da\"},\"left\":{\"field\":\"left\"},\"line_alpha\":{\"value\":0.1},\"right\":{\"field\":\"right\"},\"top\":{\"field\":\"top\"}},\"id\":\"2199\",\"type\":\"Quad\"},{\"attributes\":{},\"id\":\"2271\",\"type\":\"WheelZoomTool\"},{\"attributes\":{\"text\":\"Stock: AC\",\"text_color\":{\"value\":\"black\"},\"text_font_size\":{\"value\":\"12pt\"}},\"id\":\"2167\",\"type\":\"Title\"},{\"attributes\":{},\"id\":\"2216\",\"type\":\"LinearScale\"},{\"attributes\":{},\"id\":\"2246\",\"type\":\"BasicTickFormatter\"},{\"attributes\":{\"end\":0.07799457994579953,\"reset_end\":0.07799457994579953,\"reset_start\":-0.06769647696476969,\"start\":-0.06769647696476969,\"tags\":[[[\"RLC\",\"RLC\",null]]]},\"id\":\"2336\",\"type\":\"Range1d\"},{\"attributes\":{},\"id\":\"2343\",\"type\":\"LinearScale\"},{\"attributes\":{\"bottom\":{\"value\":0},\"fill_color\":{\"value\":\"#30a2da\"},\"left\":{\"field\":\"left\"},\"right\":{\"field\":\"right\"},\"top\":{\"field\":\"top\"}},\"id\":\"2370\",\"type\":\"Quad\"},{\"attributes\":{},\"id\":\"2171\",\"type\":\"LinearScale\"},{\"attributes\":{\"axis_label\":\"RLC\",\"bounds\":\"auto\",\"formatter\":{\"id\":\"2375\"},\"major_label_orientation\":\"horizontal\",\"ticker\":{\"id\":\"2348\"}},\"id\":\"2347\",\"type\":\"LinearAxis\"},{\"attributes\":{},\"id\":\"2219\",\"type\":\"BasicTicker\"},{\"attributes\":{},\"id\":\"2273\",\"type\":\"ResetTool\"},{\"attributes\":{\"axis_label\":\"AC\",\"bounds\":\"auto\",\"formatter\":{\"id\":\"2203\"},\"major_label_orientation\":\"horizontal\",\"ticker\":{\"id\":\"2176\"}},\"id\":\"2175\",\"type\":\"LinearAxis\"},{\"attributes\":{\"axis\":{\"id\":\"2222\"},\"dimension\":1,\"grid_line_color\":null,\"ticker\":null},\"id\":\"2225\",\"type\":\"Grid\"},{\"attributes\":{\"end\":0.05877702819581391,\"reset_end\":0.05877702819581391,\"reset_start\":-0.09044974917834273,\"start\":-0.09044974917834273,\"tags\":[[[\"MEG\",\"MEG\",null]]]},\"id\":\"2293\",\"type\":\"Range1d\"},{\"attributes\":{\"axis\":{\"id\":\"2218\"},\"grid_line_color\":null,\"ticker\":null},\"id\":\"2221\",\"type\":\"Grid\"},{\"attributes\":{\"end\":0.06408602150537623,\"reset_end\":0.06408602150537623,\"reset_start\":-0.06494623655913978,\"start\":-0.06494623655913978,\"tags\":[[[\"AC\",\"AC\",null]]]},\"id\":\"2164\",\"type\":\"Range1d\"},{\"attributes\":{},\"id\":\"2345\",\"type\":\"LinearScale\"},{\"attributes\":{\"bottom\":{\"value\":0},\"fill_alpha\":{\"value\":0.2},\"fill_color\":{\"value\":\"#30a2da\"},\"left\":{\"field\":\"left\"},\"line_alpha\":{\"value\":0.2},\"right\":{\"field\":\"right\"},\"top\":{\"field\":\"top\"}},\"id\":\"2200\",\"type\":\"Quad\"},{\"attributes\":{},\"id\":\"2173\",\"type\":\"LinearScale\"},{\"attributes\":{},\"id\":\"2223\",\"type\":\"BasicTicker\"},{\"attributes\":{\"data\":{\"left\":{\"__ndarray__\":\"UFVVVVVVpb9GrdRKrdSivzsFVEAFVKC/Yrqma7qmm79NaqVWaqWWvzgapEEapJG/SJRFWZRFib846IVe6IV+v9BPARVQAWW/0DAJkzAJYz/A2Imd2Il9P4iMx3iMx4g/WBZlURZlkT9sZmZmZmaWP4S2Z3u2Z5s/TIM0SIM0oD9WK7VSK7WiP2DTNV3TNaU/anu2Z3u2pz92IzdyIzeqPw==\",\"dtype\":\"float64\",\"order\":\"little\",\"shape\":[20]},\"right\":{\"__ndarray__\":\"Rq3USq3Uor87BVRABVSgv2K6pmu6ppu/TWqlVmqllr84GqRBGqSRv0iURVmURYm/OOiFXuiFfr/QTwEVUAFlv9AwCZMwCWM/wNiJndiJfT+IjMd4jMeIP1gWZVEWZZE/bGZmZmZmlj+Etmd7tmebP0yDNEiDNKA/Viu1Uiu1oj9g0zVd0zWlP2p7tmd7tqc/diM3ciM3qj+Ay7d8y7esPw==\",\"dtype\":\"float64\",\"order\":\"little\",\"shape\":[20]},\"top\":[1,2,7,4,11,7,7,11,21,14,11,3,7,1,3,1,1,2,0,1]},\"selected\":{\"id\":\"2239\"},\"selection_policy\":{\"id\":\"2394\"}},\"id\":\"2238\",\"type\":\"ColumnDataSource\"},{\"attributes\":{},\"id\":\"2348\",\"type\":\"BasicTicker\"},{\"attributes\":{\"axis_label\":\"Count\",\"bounds\":\"auto\",\"formatter\":{\"id\":\"2248\"},\"major_label_orientation\":\"horizontal\",\"ticker\":{\"id\":\"2223\"}},\"id\":\"2222\",\"type\":\"LinearAxis\"},{\"attributes\":{\"axis\":{\"id\":\"2351\"},\"dimension\":1,\"grid_line_color\":null,\"ticker\":null},\"id\":\"2354\",\"type\":\"Grid\"},{\"attributes\":{},\"id\":\"2176\",\"type\":\"BasicTicker\"},{\"attributes\":{\"active_drag\":\"auto\",\"active_inspect\":\"auto\",\"active_multi\":null,\"active_scroll\":\"auto\",\"active_tap\":\"auto\",\"tools\":[{\"id\":\"2312\"},{\"id\":\"2313\"},{\"id\":\"2314\"},{\"id\":\"2315\"},{\"id\":\"2316\"}]},\"id\":\"2318\",\"type\":\"Toolbar\"},{\"attributes\":{\"axis\":{\"id\":\"2179\"},\"dimension\":1,\"grid_line_color\":null,\"ticker\":null},\"id\":\"2182\",\"type\":\"Grid\"},{\"attributes\":{\"axis\":{\"id\":\"2347\"},\"grid_line_color\":null,\"ticker\":null},\"id\":\"2350\",\"type\":\"Grid\"},{\"attributes\":{\"bottom\":{\"value\":0},\"fill_color\":{\"value\":\"#30a2da\"},\"left\":{\"field\":\"left\"},\"right\":{\"field\":\"right\"},\"top\":{\"field\":\"top\"}},\"id\":\"2241\",\"type\":\"Quad\"},{\"attributes\":{\"axis\":{\"id\":\"2175\"},\"grid_line_color\":null,\"ticker\":null},\"id\":\"2178\",\"type\":\"Grid\"},{\"attributes\":{\"below\":[{\"id\":\"2218\"}],\"center\":[{\"id\":\"2221\"},{\"id\":\"2225\"}],\"left\":[{\"id\":\"2222\"}],\"margin\":null,\"min_border_bottom\":10,\"min_border_left\":10,\"min_border_right\":10,\"min_border_top\":10,\"min_width\":400,\"plot_height\":300,\"plot_width\":null,\"renderers\":[{\"id\":\"2244\"}],\"sizing_mode\":\"stretch_width\",\"title\":{\"id\":\"2210\"},\"toolbar\":{\"id\":\"2232\"},\"toolbar_location\":null,\"x_range\":{\"id\":\"2207\"},\"x_scale\":{\"id\":\"2214\"},\"y_range\":{\"id\":\"2208\"},\"y_scale\":{\"id\":\"2216\"}},\"id\":\"2209\",\"subtype\":\"Figure\",\"type\":\"Plot\"},{\"attributes\":{\"bottom\":{\"value\":0},\"fill_color\":{\"value\":\"#30a2da\"},\"left\":{\"field\":\"left\"},\"right\":{\"field\":\"right\"},\"top\":{\"field\":\"top\"}},\"id\":\"2327\",\"type\":\"Quad\"},{\"attributes\":{},\"id\":\"2352\",\"type\":\"BasicTicker\"},{\"attributes\":{\"axis_label\":\"Count\",\"bounds\":\"auto\",\"formatter\":{\"id\":\"2377\"},\"major_label_orientation\":\"horizontal\",\"ticker\":{\"id\":\"2352\"}},\"id\":\"2351\",\"type\":\"LinearAxis\"},{\"attributes\":{\"bottom_units\":\"screen\",\"fill_alpha\":0.5,\"fill_color\":\"lightgrey\",\"left_units\":\"screen\",\"level\":\"overlay\",\"line_alpha\":1.0,\"line_color\":\"black\",\"line_dash\":[4,4],\"line_width\":2,\"right_units\":\"screen\",\"top_units\":\"screen\"},\"id\":\"2317\",\"type\":\"BoxAnnotation\"},{\"attributes\":{},\"id\":\"2180\",\"type\":\"BasicTicker\"},{\"attributes\":{\"below\":[{\"id\":\"2347\"}],\"center\":[{\"id\":\"2350\"},{\"id\":\"2354\"}],\"left\":[{\"id\":\"2351\"}],\"margin\":null,\"min_border_bottom\":10,\"min_border_left\":10,\"min_border_right\":10,\"min_border_top\":10,\"min_width\":400,\"plot_height\":300,\"plot_width\":null,\"renderers\":[{\"id\":\"2373\"}],\"sizing_mode\":\"stretch_width\",\"title\":{\"id\":\"2339\"},\"toolbar\":{\"id\":\"2361\"},\"toolbar_location\":null,\"x_range\":{\"id\":\"2336\"},\"x_scale\":{\"id\":\"2343\"},\"y_range\":{\"id\":\"2337\"},\"y_scale\":{\"id\":\"2345\"}},\"id\":\"2338\",\"subtype\":\"Figure\",\"type\":\"Plot\"},{\"attributes\":{\"axis_label\":\"Count\",\"bounds\":\"auto\",\"formatter\":{\"id\":\"2205\"},\"major_label_orientation\":\"horizontal\",\"ticker\":{\"id\":\"2180\"}},\"id\":\"2179\",\"type\":\"LinearAxis\"},{\"attributes\":{\"bottom\":{\"value\":0},\"fill_alpha\":{\"value\":0.2},\"fill_color\":{\"value\":\"#30a2da\"},\"left\":{\"field\":\"left\"},\"line_alpha\":{\"value\":0.2},\"right\":{\"field\":\"right\"},\"top\":{\"field\":\"top\"}},\"id\":\"2243\",\"type\":\"Quad\"},{\"attributes\":{\"source\":{\"id\":\"2324\"}},\"id\":\"2331\",\"type\":\"CDSView\"},{\"attributes\":{\"bottom\":{\"value\":0},\"fill_alpha\":{\"value\":0.1},\"fill_color\":{\"value\":\"#30a2da\"},\"left\":{\"field\":\"left\"},\"line_alpha\":{\"value\":0.1},\"right\":{\"field\":\"right\"},\"top\":{\"field\":\"top\"}},\"id\":\"2242\",\"type\":\"Quad\"},{\"attributes\":{},\"id\":\"2332\",\"type\":\"BasicTickFormatter\"},{\"attributes\":{\"active_drag\":\"auto\",\"active_inspect\":\"auto\",\"active_multi\":null,\"active_scroll\":\"auto\",\"active_tap\":\"auto\",\"tools\":[{\"id\":\"2269\"},{\"id\":\"2270\"},{\"id\":\"2271\"},{\"id\":\"2272\"},{\"id\":\"2273\"}]},\"id\":\"2275\",\"type\":\"Toolbar\"},{\"attributes\":{\"axis\":{\"id\":\"2265\"},\"dimension\":1,\"grid_line_color\":null,\"ticker\":null},\"id\":\"2268\",\"type\":\"Grid\"},{\"attributes\":{},\"id\":\"2403\",\"type\":\"UnionRenderers\"},{\"attributes\":{\"bottom\":{\"value\":0},\"fill_color\":{\"value\":\"#30a2da\"},\"left\":{\"field\":\"left\"},\"right\":{\"field\":\"right\"},\"top\":{\"field\":\"top\"}},\"id\":\"2198\",\"type\":\"Quad\"},{\"attributes\":{\"data\":{\"left\":{\"__ndarray__\":\"IMdxHMdxrL+ubgxAHFapvz0Wp2NxOqa/y71Bh8Yeo79aZdyqGwOgv9AZ7pzhzpm/7Ggj5IuXk78UcLFWbMCKv5gcOMqBo3y/QMhqOFcxTr+Aah38Kxd1PwgXpG9B+oY/aLyccHa0kT9MbWcpzOuXPyweMuIhI54/iGd+zTstoj/6v+Op5kilP2wYSYaRZKg/3nCuYjyAqz9OyRM/55uuPw==\",\"dtype\":\"float64\",\"order\":\"little\",\"shape\":[20]},\"right\":{\"__ndarray__\":\"rm4MQBxWqb89FqdjcTqmv8u9QYfGHqO/WmXcqhsDoL/QGe6c4c6Zv+xoI+SLl5O/FHCxVmzAir+YHDjKgaN8v0DIajhXMU6/gGod/CsXdT8IF6RvQfqGP2i8nHB2tJE/TG1nKczrlz8sHjLiISOeP4hnfs07LaI/+r/jqeZIpT9sGEmGkWSoP95wrmI8gKs/TskTP+ebrj/gkLwNyduwPw==\",\"dtype\":\"float64\",\"order\":\"little\",\"shape\":[20]},\"top\":[2,0,1,1,4,5,10,15,26,25,4,6,6,0,1,2,4,2,0,1]},\"selected\":{\"id\":\"2368\"},\"selection_policy\":{\"id\":\"2421\"}},\"id\":\"2367\",\"type\":\"ColumnDataSource\"},{\"attributes\":{\"data\":{\"left\":{\"__ndarray__\":\"wBv0u0G/q78AGemPkf6ov0AW3mPhPaa/gBPTNzF9o7/AEMgLgbygvwAcer+h95u/gBZkZ0F2lr8AEU4P4fSQvwAXcG4B54a/ABiIfIHId78AIADDATA8vwAUKESBQnQ/ABVAUgEkhT8AEDYBYROQP4AVTFnBlJU/ABtisSEWmz9AELwEwUugPwATxzBxDKM/wBXSXCHNpT+AGN2I0Y2oPw==\",\"dtype\":\"float64\",\"order\":\"little\",\"shape\":[20]},\"right\":{\"__ndarray__\":\"ABnpj5H+qL9AFt5j4T2mv4AT0zcxfaO/wBDIC4G8oL8AHHq/ofebv4AWZGdBdpa/ABFOD+H0kL8AF3BuAeeGvwAYiHyByHe/ACAAwwEwPL8AFChEgUJ0PwAVQFIBJIU/ABA2AWETkD+AFUxZwZSVPwAbYrEhFps/QBC8BMFLoD8AE8cwcQyjP8AV0lwhzaU/gBjdiNGNqD9AG+i0gU6rPw==\",\"dtype\":\"float64\",\"order\":\"little\",\"shape\":[20]},\"top\":[1,2,0,3,1,6,12,10,13,11,12,14,11,6,3,4,2,2,1,1]},\"selected\":{\"id\":\"2196\"},\"selection_policy\":{\"id\":\"2385\"}},\"id\":\"2195\",\"type\":\"ColumnDataSource\"},{\"attributes\":{},\"id\":\"2226\",\"type\":\"SaveTool\"},{\"attributes\":{\"bottom\":{\"value\":0},\"fill_alpha\":{\"value\":0.2},\"fill_color\":{\"value\":\"#30a2da\"},\"left\":{\"field\":\"left\"},\"line_alpha\":{\"value\":0.2},\"right\":{\"field\":\"right\"},\"top\":{\"field\":\"top\"}},\"id\":\"2372\",\"type\":\"Quad\"},{\"attributes\":{\"data_source\":{\"id\":\"2324\"},\"glyph\":{\"id\":\"2327\"},\"hover_glyph\":null,\"muted_glyph\":{\"id\":\"2329\"},\"nonselection_glyph\":{\"id\":\"2328\"},\"selection_glyph\":null,\"view\":{\"id\":\"2331\"}},\"id\":\"2330\",\"type\":\"GlyphRenderer\"},{\"attributes\":{},\"id\":\"2227\",\"type\":\"PanTool\"}],\"root_ids\":[\"2162\"]},\"title\":\"Bokeh Application\",\"version\":\"2.2.3\"}};\n",
       "    var render_items = [{\"docid\":\"a9686799-344b-470b-9e5e-2b1cf0271ec1\",\"root_ids\":[\"2162\"],\"roots\":{\"2162\":\"dddbc8ae-4406-4821-af04-678741811929\"}}];\n",
       "    root.Bokeh.embed.embed_items_notebook(docs_json, render_items);\n",
       "  }\n",
       "  if (root.Bokeh !== undefined && root.Bokeh.Panel !== undefined) {\n",
       "    embed_document(root);\n",
       "  } else {\n",
       "    var attempts = 0;\n",
       "    var timer = setInterval(function(root) {\n",
       "      if (root.Bokeh !== undefined && root.Bokeh.Panel !== undefined) {\n",
       "        clearInterval(timer);\n",
       "        embed_document(root);\n",
       "      } else if (document.readyState == \"complete\") {\n",
       "        attempts++;\n",
       "        if (attempts > 100) {\n",
       "          clearInterval(timer);\n",
       "          console.log(\"Bokeh: ERROR: Unable to run BokehJS code because BokehJS library is missing\");\n",
       "        }\n",
       "      }\n",
       "    }, 10, root)\n",
       "  }\n",
       "})(window);</script>"
      ],
      "text/plain": [
       ":NdLayout   [Stock]\n",
       "   :Histogram   [RLC]   (RLC_count)"
      ]
     },
     "execution_count": 10,
     "metadata": {
      "application/vnd.holoviews_exec.v0+json": {
       "id": "2162"
      }
     },
     "output_type": "execute_result"
    }
   ],
   "source": [
    "hv.NdLayout({col:hv.Dataset(prices_change).hist(col, bins=100, adjoin=False) for col in prices_change.columns}, kdims=['Stock']).cols(2).opts(\n",
    "        hv.opts.NdLayout(sizing_mode='stretch_width'), hv.opts.Histogram(height=300, min_width=400, responsive=True))"
   ]
  },
  {
   "cell_type": "code",
   "execution_count": 11,
   "metadata": {},
   "outputs": [
    {
     "data": {
      "text/plain": [
       "Index([2020-11-23 00:00:00, 2020-11-24 00:00:00, 2020-11-25 00:00:00,\n",
       "       2020-11-26 00:00:00, 2020-11-27 00:00:00, 2020-12-01 00:00:00,\n",
       "       2020-12-02 00:00:00, 2020-12-03 00:00:00, 2020-12-04 00:00:00,\n",
       "       2020-12-07 00:00:00,\n",
       "       ...\n",
       "       2021-05-06 00:00:00, 2021-05-07 00:00:00, 2021-05-10 00:00:00,\n",
       "       2021-05-11 00:00:00, 2021-05-12 00:00:00, 2021-05-14 00:00:00,\n",
       "       2021-05-17 00:00:00, 2021-05-18 00:00:00, 2021-05-19 00:00:00,\n",
       "       2021-05-20 00:00:00],\n",
       "      dtype='object', length=116)"
      ]
     },
     "execution_count": 11,
     "metadata": {},
     "output_type": "execute_result"
    }
   ],
   "source": [
    "prices_change.index"
   ]
  },
  {
   "cell_type": "code",
   "execution_count": 42,
   "metadata": {},
   "outputs": [],
   "source": [
    "weights = [0.3,0.2,0.1,0.20,0.30]"
   ]
  },
  {
   "cell_type": "markdown",
   "metadata": {},
   "source": [
    "### LOG OF PORTFOLIO RETURNS : WRONG WAY\n",
    "\n"
   ]
  },
  {
   "cell_type": "code",
   "execution_count": 57,
   "metadata": {},
   "outputs": [
    {
     "data": {
      "text/plain": [
       "-0.4373836077356331"
      ]
     },
     "execution_count": 57,
     "metadata": {},
     "output_type": "execute_result"
    }
   ],
   "source": [
    "weights@(np.log(prices/prices.shift()).mean()*252)"
   ]
  },
  {
   "cell_type": "markdown",
   "metadata": {},
   "source": [
    "### CORRECT WAY FOR PORTFOLIO OF LOG RETURN"
   ]
  },
  {
   "cell_type": "code",
   "execution_count": 55,
   "metadata": {},
   "outputs": [
    {
     "data": {
      "text/plain": [
       "-0.28101450378974874"
      ]
     },
     "execution_count": 55,
     "metadata": {},
     "output_type": "execute_result"
    }
   ],
   "source": [
    "np.log(weights@np.exp(np.log(prices/prices.shift()).mean()*252))"
   ]
  },
  {
   "cell_type": "code",
   "execution_count": 53,
   "metadata": {},
   "outputs": [
    {
     "data": {
      "text/plain": [
       "-0.3835769991501421"
      ]
     },
     "execution_count": 53,
     "metadata": {},
     "output_type": "execute_result"
    }
   ],
   "source": [
    "weights@((prices_change).mean()*252)"
   ]
  },
  {
   "cell_type": "markdown",
   "metadata": {},
   "source": [
    "Log returns cannot be added across securities of a portfolio in the same time period. If you managed a portfolio, you are almost going to have at least a few securities.  The simple return of your portfolio over any time period is the weighted sum of all the simple returns from each of the security.  However, you cannot pull the same stunt with log returns.  It will give you an erroneous number.  Remember that log returns is a continuous compounded rate over time. When you add log returns, you compound. Across different stocks within the same time period, there are no compounding element here. So for computing portfolio return across contribution from securities within the same time period, use simple returns instead.\n",
    "\n"
   ]
  },
  {
   "cell_type": "code",
   "execution_count": null,
   "metadata": {},
   "outputs": [],
   "source": []
  }
 ],
 "metadata": {
  "kernelspec": {
   "display_name": "Python 3",
   "language": "python",
   "name": "python3"
  },
  "language_info": {
   "codemirror_mode": {
    "name": "ipython",
    "version": 3
   },
   "file_extension": ".py",
   "mimetype": "text/x-python",
   "name": "python",
   "nbconvert_exporter": "python",
   "pygments_lexer": "ipython3",
   "version": "3.7.6"
  }
 },
 "nbformat": 4,
 "nbformat_minor": 4
}
