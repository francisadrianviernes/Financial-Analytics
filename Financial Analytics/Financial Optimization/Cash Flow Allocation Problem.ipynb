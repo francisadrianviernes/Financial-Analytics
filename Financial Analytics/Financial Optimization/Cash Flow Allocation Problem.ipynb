{
 "cells": [
  {
   "cell_type": "code",
   "execution_count": 2,
   "metadata": {},
   "outputs": [],
   "source": [
    "import pandas as pd\n",
    "import numpy as np\n",
    "\n",
    "#optimization\n",
    "from scipy.optimize import linprog"
   ]
  },
  {
   "cell_type": "code",
   "execution_count": 47,
   "metadata": {},
   "outputs": [],
   "source": [
    "#objective function\n",
    "obj = [0,0,0,0,0,0,0,0,0,0,0,0,0,-1]\n",
    "#lef-hand side equality\n",
    "lhs_eq = [\n",
    "    [1,0,0,0,0,1,0,0,-1,0,0,0,0,0],\n",
    "    [-1.01,1,0,0,0,0,1,0,1.003,-1,0,0,0,0],\n",
    "    [0,-1.01,1,0,0,0,0,1,0,1.003,-1,0,0,0],\n",
    "    [0,0,-1.01,1,0,-1.02,0,0,0,0,1.003,-1,0,0],\n",
    "    [0,0,0,-1.01,1,0,-1.02,0,0,0,0,1.003,-1,0],\n",
    "    [0,0,0,0,-1.01,0,0,-1.02,0,0,0,0,1.003,-1]\n",
    "]\n",
    "#right-hand side equality\n",
    "\n",
    "rhs_eq = [150,\n",
    "         100,\n",
    "        -200,\n",
    "         200,\n",
    "         -50,\n",
    "        -300]\n",
    "\n",
    "#left-hand side inequality\n",
    "lhs_ineq = [\n",
    "    [1,0,0,0,0,0,0,0,0,0,0,0,0,0],\n",
    "    [0,1,0,0,0,0,0,0,0,0,0,0,0,0],\n",
    "    [0,0,1,0,0,0,0,0,0,0,0,0,0,0],\n",
    "    [0,0,0,1,0,0,0,0,0,0,0,0,0,0],\n",
    "    [0,0,0,0,1,0,0,0,0,0,0,0,0,0]\n",
    "]\n",
    "\n",
    "rhs_ineq = [\n",
    "    100,\n",
    "    100,\n",
    "    100,\n",
    "    100,\n",
    "    100\n",
    "]"
   ]
  },
  {
   "cell_type": "code",
   "execution_count": 48,
   "metadata": {},
   "outputs": [],
   "source": [
    "#bounds\n",
    "bounds = [(0, float(\"inf\")) for x in range(len(obj))]"
   ]
  },
  {
   "cell_type": "code",
   "execution_count": 49,
   "metadata": {},
   "outputs": [],
   "source": [
    "opt = linprog(c=obj, A_ub=lhs_ineq, b_ub=rhs_ineq,\n",
    "               A_eq=lhs_eq, b_eq=rhs_eq, bounds=bounds,\n",
    "               method=\"simplex\")"
   ]
  },
  {
   "cell_type": "code",
   "execution_count": 50,
   "metadata": {},
   "outputs": [
    {
     "data": {
      "text/plain": [
       "array([  0.        ,   0.        ,   0.        ,   0.        ,\n",
       "        52.        , 150.        , 100.        , 151.9441675 ,\n",
       "         0.        ,   0.        , 351.9441675 ,   0.        ,\n",
       "         0.        ,  92.49694915])"
      ]
     },
     "execution_count": 50,
     "metadata": {},
     "output_type": "execute_result"
    }
   ],
   "source": [
    "opt.x"
   ]
  },
  {
   "cell_type": "code",
   "execution_count": 37,
   "metadata": {},
   "outputs": [
    {
     "name": "stdout",
     "output_type": "stream",
     "text": [
      "100.00000000000182\n",
      "100.00000000000159\n",
      "0.0\n",
      "0.0\n",
      "0.0\n"
     ]
    }
   ],
   "source": [
    "for i in range(len(z)):\n",
    "    print(z[i])"
   ]
  },
  {
   "cell_type": "code",
   "execution_count": null,
   "metadata": {},
   "outputs": [],
   "source": []
  }
 ],
 "metadata": {
  "kernelspec": {
   "display_name": "Python 3",
   "language": "python",
   "name": "python3"
  },
  "language_info": {
   "codemirror_mode": {
    "name": "ipython",
    "version": 3
   },
   "file_extension": ".py",
   "mimetype": "text/x-python",
   "name": "python",
   "nbconvert_exporter": "python",
   "pygments_lexer": "ipython3",
   "version": "3.7.6"
  }
 },
 "nbformat": 4,
 "nbformat_minor": 4
}
