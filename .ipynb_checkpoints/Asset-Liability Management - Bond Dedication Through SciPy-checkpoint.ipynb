{
 "cells": [
  {
   "cell_type": "code",
   "execution_count": 1,
   "metadata": {},
   "outputs": [],
   "source": [
    "import pandas as pd\n",
    "import numpy as np\n",
    "\n",
    "#optimization\n",
    "from scipy.optimize import linprog"
   ]
  },
  {
   "cell_type": "code",
   "execution_count": 2,
   "metadata": {},
   "outputs": [],
   "source": [
    "#objective function\n",
    "obj = [-109, -94.8, -99.5, -93.1, -97.2, -92.9, -110, -104, -102, -95.2, 0, 0, 0, 0, 0, 0 ]"
   ]
  },
  {
   "cell_type": "code",
   "execution_count": 3,
   "metadata": {},
   "outputs": [],
   "source": [
    "#Constraints\n",
    "\n",
    "#lhs-equality\n",
    "lhs_eq = [\n",
    "    [10, 7, 8, 6, 7, 5, 10, 8, 7, 100, -1, 0, 0, 0, 0, 0],\n",
    "    [10, 7, 8, 6, 7, 5, 10, 8, 107, 0, 1, -1, 0, 0, 0, 0],\n",
    "    [10, 7, 8, 6, 7, 5, 110, 108, 0, 0, 0, 1, -1, 0, 0, 0],\n",
    "    [10, 7, 8, 6, 7, 105, 0, 0, 0, 0, 0, 0, 1, -1, 0, 0],\n",
    "    [10, 7, 8, 106, 107, 0, 0, 0, 0, 0, 0, 0, 0, 1, -1, 0],\n",
    "    [110, 107, 108, 0, 0, 0, 0, 0, 0, 0, 0, 0, 0, 0, 1, -1]\n",
    "]\n",
    "\n",
    "#rhs-equality\n",
    "rhs_eq = [\n",
    "    500,\n",
    "    1200,\n",
    "    2800,\n",
    "    2000,\n",
    "    1800,\n",
    "    2000\n",
    "]"
   ]
  },
  {
   "cell_type": "code",
   "execution_count": 4,
   "metadata": {},
   "outputs": [],
   "source": [
    "#bounds\n",
    "bounds = [(0, float(\"inf\")) for x in range(len(obj))]"
   ]
  },
  {
   "cell_type": "code",
   "execution_count": 5,
   "metadata": {},
   "outputs": [],
   "source": [
    "opt = linprog(c=obj,\n",
    "               A_eq=lhs_eq, b_eq=rhs_eq, bounds=bounds,\n",
    "               method=\"simplex\")"
   ]
  },
  {
   "cell_type": "code",
   "execution_count": 6,
   "metadata": {},
   "outputs": [
    {
     "name": "stdout",
     "output_type": "stream",
     "text": [
      "[ 500. 1200. 2800. 2000. 1800. 2000.]\n",
      "-22481.142857142855\n"
     ]
    }
   ],
   "source": [
    "print(lhs_eq@opt.x)\n",
    "print(opt.fun)"
   ]
  },
  {
   "cell_type": "code",
   "execution_count": 7,
   "metadata": {},
   "outputs": [
    {
     "data": {
      "text/plain": [
       "array([    0.        ,   237.14285714,     0.        ,     0.        ,\n",
       "           0.        ,     0.        ,     0.        ,     0.        ,\n",
       "           0.        ,     0.        ,  1160.        ,  1620.        ,\n",
       "         480.        ,   140.        ,     0.        , 23374.28571429])"
      ]
     },
     "execution_count": 7,
     "metadata": {},
     "output_type": "execute_result"
    }
   ],
   "source": [
    "opt.x"
   ]
  },
  {
   "cell_type": "code",
   "execution_count": null,
   "metadata": {},
   "outputs": [],
   "source": []
  }
 ],
 "metadata": {
  "kernelspec": {
   "display_name": "Python 3",
   "language": "python",
   "name": "python3"
  },
  "language_info": {
   "codemirror_mode": {
    "name": "ipython",
    "version": 3
   },
   "file_extension": ".py",
   "mimetype": "text/x-python",
   "name": "python",
   "nbconvert_exporter": "python",
   "pygments_lexer": "ipython3",
   "version": "3.7.6"
  }
 },
 "nbformat": 4,
 "nbformat_minor": 4
}
