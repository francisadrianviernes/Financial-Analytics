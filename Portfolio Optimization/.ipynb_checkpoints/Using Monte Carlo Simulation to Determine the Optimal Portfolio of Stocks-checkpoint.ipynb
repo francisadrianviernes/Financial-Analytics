{
 "cells": [
  {
   "cell_type": "markdown",
   "metadata": {},
   "source": [
    "# Using Monte Carlo Simulation to Determine the Optimal Portfolio of Stocks"
   ]
  },
  {
   "cell_type": "markdown",
   "metadata": {},
   "source": [
    "If you have tried investing in the stock market, then you are most likely faced with multiple investment decisions such as \"which stock to choose\", \"which industry to focus on\" and \"how much should you allocate to each stock\".\n",
    "Fortunately, Harry Markowitz provided an answer to the last question which is also considered as one of the most difficult problems in investing: portfolio security selection. \n",
    "\n",
    "His Moden Portfolio Theory (MPT) won him a Nobel Prize and introduced the ideas of portfolio investing and how securities' risks and correlations impact the portfolio as a whole.\n",
    "So you might think that there are many ways to answer the question \"How much should I invest in a stock\", but optimization theories and Markowitz's work would tell you that there is only one correct answer.\n",
    "There are two ways to solve this problem:\n",
    "\n",
    "1.  **Analytically** -  which uses linear algebra and matrix operations to arrive at the optimal portfolio.\n",
    "\n",
    "2.  **Computationally** -  with the use of computers to crunch possible permutations of the portfolio. The optimal portfolio would be the one with the highest return per risk portfolio.\n",
    "\n",
    "Note that in portfolio optimization, what we optimize is that of the weights or the allocation, given a list of possible investments. \n",
    "\n",
    "To get our stock data, we will employ the investpy package."
   ]
  },
  {
   "cell_type": "markdown",
   "metadata": {},
   "source": [
    "## PRELIMINARIES"
   ]
  },
  {
   "cell_type": "code",
   "execution_count": 13,
   "metadata": {},
   "outputs": [],
   "source": [
    "import numpy as np\n",
    "import pandas as pd\n",
    "import hvplot.pandas  # noqa\n",
    "\n",
    "#For Monte Carlo\n",
    "import random\n",
    "\n",
    "#Visualization\n",
    "import holoviews as hv\n",
    "\n",
    "from tqdm import tqdm\n",
    "\n",
    "#Historical Data\n",
    "import investpy"
   ]
  },
  {
   "cell_type": "markdown",
   "metadata": {},
   "source": [
    "## STEP 1: GET HISTORICAL DATA FOR THE STOCKS OF YOUR CHOICE"
   ]
  },
  {
   "cell_type": "markdown",
   "metadata": {},
   "source": [
    "We get the stock data, to track the volatility of the market. Ideally, we want a time period that covers the full business cycle, from trough, recession, expansion, and peak.\n",
    "\n",
    "To begin, specify the stock and past trading dates you are looking at. The past trading dates will provide us the riskiness of the stocks through the standard deviation of their returns."
   ]
  },
  {
   "cell_type": "code",
   "execution_count": 2,
   "metadata": {},
   "outputs": [],
   "source": [
    "stocks = ['MEG','CEB', 'BDO','ALI', 'MER', 'AC', 'JGS', 'URC', \n",
    "          'JFC', 'SEVN', 'BMM', 'CAT', 'FGEN', 'MAXS', 'PGOLD']"
   ]
  },
  {
   "cell_type": "markdown",
   "metadata": {},
   "source": [
    "## STEP 2: CALCULATE THE RETURNS FOR THESE STOCKS"
   ]
  },
  {
   "cell_type": "markdown",
   "metadata": {},
   "source": [
    "To calculate the return, specify the time period in question. This is critical as the choice of the time period may coincide with periods of high growth or periods of depressed growth for the equity market.\n",
    "\n",
    "For now, let us assume that the correct time period that will represent the expected return for the coming year is given by the following:"
   ]
  },
  {
   "cell_type": "code",
   "execution_count": 4,
   "metadata": {},
   "outputs": [],
   "source": [
    "begin_date = \"01/01/2014\"\n",
    "end_date = \"29/12/2019\""
   ]
  },
  {
   "cell_type": "code",
   "execution_count": 6,
   "metadata": {},
   "outputs": [],
   "source": [
    "def generate_stock_returns(stocks_list, begin_date, end_date):\n",
    "    \n",
    "    prices = pd.DataFrame()\n",
    "    \n",
    "    for stock in stocks_list:\n",
    "        df_ = investpy.get_stock_historical_data(stock=stock,\n",
    "                                                country='Philippines',\n",
    "                                                from_date=begin_date,\n",
    "                                                to_date=end_date).Close\n",
    "        df_.rename(stock, inplace=True)                                             \n",
    "        df_.columns = [stock]\n",
    "        prices = pd.concat([prices, df_],axis=1)\n",
    "        prices.index.name = \"Date\"\n",
    "    return prices"
   ]
  },
  {
   "cell_type": "code",
   "execution_count": 7,
   "metadata": {},
   "outputs": [],
   "source": [
    "prices = generate_stock_returns(stocks, begin_date, end_date)"
   ]
  },
  {
   "cell_type": "code",
   "execution_count": 8,
   "metadata": {},
   "outputs": [
    {
     "data": {
      "text/html": [
       "<div>\n",
       "<style scoped>\n",
       "    .dataframe tbody tr th:only-of-type {\n",
       "        vertical-align: middle;\n",
       "    }\n",
       "\n",
       "    .dataframe tbody tr th {\n",
       "        vertical-align: top;\n",
       "    }\n",
       "\n",
       "    .dataframe thead th {\n",
       "        text-align: right;\n",
       "    }\n",
       "</style>\n",
       "<table border=\"1\" class=\"dataframe\">\n",
       "  <thead>\n",
       "    <tr style=\"text-align: right;\">\n",
       "      <th></th>\n",
       "      <th>MEG</th>\n",
       "      <th>CEB</th>\n",
       "      <th>BDO</th>\n",
       "      <th>ALI</th>\n",
       "      <th>MER</th>\n",
       "      <th>AC</th>\n",
       "      <th>JGS</th>\n",
       "      <th>URC</th>\n",
       "      <th>JFC</th>\n",
       "      <th>SEVN</th>\n",
       "      <th>BMM</th>\n",
       "      <th>CAT</th>\n",
       "      <th>FGEN</th>\n",
       "      <th>MAXS</th>\n",
       "      <th>PGOLD</th>\n",
       "    </tr>\n",
       "    <tr>\n",
       "      <th>Date</th>\n",
       "      <th></th>\n",
       "      <th></th>\n",
       "      <th></th>\n",
       "      <th></th>\n",
       "      <th></th>\n",
       "      <th></th>\n",
       "      <th></th>\n",
       "      <th></th>\n",
       "      <th></th>\n",
       "      <th></th>\n",
       "      <th></th>\n",
       "      <th></th>\n",
       "      <th></th>\n",
       "      <th></th>\n",
       "      <th></th>\n",
       "    </tr>\n",
       "  </thead>\n",
       "  <tbody>\n",
       "    <tr>\n",
       "      <th>2014-01-02</th>\n",
       "      <td>3.31</td>\n",
       "      <td>48.712</td>\n",
       "      <td>71.00</td>\n",
       "      <td>25.50</td>\n",
       "      <td>256.00</td>\n",
       "      <td>525.5</td>\n",
       "      <td>39.000</td>\n",
       "      <td>115.88</td>\n",
       "      <td>175.9</td>\n",
       "      <td>NaN</td>\n",
       "      <td>NaN</td>\n",
       "      <td>NaN</td>\n",
       "      <td>14.02</td>\n",
       "      <td>7.55</td>\n",
       "      <td>38.899</td>\n",
       "    </tr>\n",
       "    <tr>\n",
       "      <th>2014-01-03</th>\n",
       "      <td>3.31</td>\n",
       "      <td>49.109</td>\n",
       "      <td>70.45</td>\n",
       "      <td>25.25</td>\n",
       "      <td>254.20</td>\n",
       "      <td>520.5</td>\n",
       "      <td>38.850</td>\n",
       "      <td>116.86</td>\n",
       "      <td>172.0</td>\n",
       "      <td>98.0</td>\n",
       "      <td>NaN</td>\n",
       "      <td>NaN</td>\n",
       "      <td>14.14</td>\n",
       "      <td>7.65</td>\n",
       "      <td>39.098</td>\n",
       "    </tr>\n",
       "    <tr>\n",
       "      <th>2014-01-06</th>\n",
       "      <td>3.41</td>\n",
       "      <td>49.209</td>\n",
       "      <td>71.80</td>\n",
       "      <td>25.50</td>\n",
       "      <td>260.00</td>\n",
       "      <td>525.5</td>\n",
       "      <td>39.500</td>\n",
       "      <td>117.26</td>\n",
       "      <td>175.0</td>\n",
       "      <td>97.0</td>\n",
       "      <td>NaN</td>\n",
       "      <td>NaN</td>\n",
       "      <td>14.28</td>\n",
       "      <td>7.60</td>\n",
       "      <td>38.899</td>\n",
       "    </tr>\n",
       "    <tr>\n",
       "      <th>2014-01-07</th>\n",
       "      <td>3.40</td>\n",
       "      <td>48.960</td>\n",
       "      <td>71.85</td>\n",
       "      <td>25.60</td>\n",
       "      <td>257.00</td>\n",
       "      <td>524.0</td>\n",
       "      <td>38.200</td>\n",
       "      <td>113.43</td>\n",
       "      <td>172.0</td>\n",
       "      <td>95.0</td>\n",
       "      <td>NaN</td>\n",
       "      <td>NaN</td>\n",
       "      <td>14.36</td>\n",
       "      <td>7.55</td>\n",
       "      <td>38.999</td>\n",
       "    </tr>\n",
       "    <tr>\n",
       "      <th>2014-01-08</th>\n",
       "      <td>3.38</td>\n",
       "      <td>50.650</td>\n",
       "      <td>72.55</td>\n",
       "      <td>26.10</td>\n",
       "      <td>263.00</td>\n",
       "      <td>530.5</td>\n",
       "      <td>39.200</td>\n",
       "      <td>116.57</td>\n",
       "      <td>169.5</td>\n",
       "      <td>95.0</td>\n",
       "      <td>NaN</td>\n",
       "      <td>NaN</td>\n",
       "      <td>14.86</td>\n",
       "      <td>7.32</td>\n",
       "      <td>39.098</td>\n",
       "    </tr>\n",
       "    <tr>\n",
       "      <th>...</th>\n",
       "      <td>...</td>\n",
       "      <td>...</td>\n",
       "      <td>...</td>\n",
       "      <td>...</td>\n",
       "      <td>...</td>\n",
       "      <td>...</td>\n",
       "      <td>...</td>\n",
       "      <td>...</td>\n",
       "      <td>...</td>\n",
       "      <td>...</td>\n",
       "      <td>...</td>\n",
       "      <td>...</td>\n",
       "      <td>...</td>\n",
       "      <td>...</td>\n",
       "      <td>...</td>\n",
       "    </tr>\n",
       "    <tr>\n",
       "      <th>2019-12-19</th>\n",
       "      <td>4.10</td>\n",
       "      <td>90.700</td>\n",
       "      <td>154.80</td>\n",
       "      <td>45.40</td>\n",
       "      <td>304.63</td>\n",
       "      <td>755.0</td>\n",
       "      <td>73.333</td>\n",
       "      <td>141.04</td>\n",
       "      <td>216.0</td>\n",
       "      <td>148.0</td>\n",
       "      <td>NaN</td>\n",
       "      <td>17.54</td>\n",
       "      <td>23.50</td>\n",
       "      <td>12.10</td>\n",
       "      <td>40.200</td>\n",
       "    </tr>\n",
       "    <tr>\n",
       "      <th>2019-12-20</th>\n",
       "      <td>4.00</td>\n",
       "      <td>90.400</td>\n",
       "      <td>155.40</td>\n",
       "      <td>46.00</td>\n",
       "      <td>279.97</td>\n",
       "      <td>779.5</td>\n",
       "      <td>76.286</td>\n",
       "      <td>142.03</td>\n",
       "      <td>213.0</td>\n",
       "      <td>NaN</td>\n",
       "      <td>NaN</td>\n",
       "      <td>17.52</td>\n",
       "      <td>22.90</td>\n",
       "      <td>12.10</td>\n",
       "      <td>39.950</td>\n",
       "    </tr>\n",
       "    <tr>\n",
       "      <th>2019-12-23</th>\n",
       "      <td>4.03</td>\n",
       "      <td>88.900</td>\n",
       "      <td>157.00</td>\n",
       "      <td>47.25</td>\n",
       "      <td>293.28</td>\n",
       "      <td>779.0</td>\n",
       "      <td>77.810</td>\n",
       "      <td>149.82</td>\n",
       "      <td>220.0</td>\n",
       "      <td>145.5</td>\n",
       "      <td>NaN</td>\n",
       "      <td>17.52</td>\n",
       "      <td>23.75</td>\n",
       "      <td>12.12</td>\n",
       "      <td>39.950</td>\n",
       "    </tr>\n",
       "    <tr>\n",
       "      <th>2019-12-26</th>\n",
       "      <td>4.09</td>\n",
       "      <td>89.850</td>\n",
       "      <td>157.40</td>\n",
       "      <td>46.40</td>\n",
       "      <td>298.36</td>\n",
       "      <td>800.0</td>\n",
       "      <td>75.238</td>\n",
       "      <td>145.98</td>\n",
       "      <td>216.2</td>\n",
       "      <td>136.2</td>\n",
       "      <td>88.1</td>\n",
       "      <td>17.48</td>\n",
       "      <td>24.30</td>\n",
       "      <td>11.98</td>\n",
       "      <td>40.400</td>\n",
       "    </tr>\n",
       "    <tr>\n",
       "      <th>2019-12-27</th>\n",
       "      <td>4.01</td>\n",
       "      <td>89.500</td>\n",
       "      <td>158.00</td>\n",
       "      <td>45.50</td>\n",
       "      <td>310.10</td>\n",
       "      <td>785.5</td>\n",
       "      <td>76.952</td>\n",
       "      <td>143.02</td>\n",
       "      <td>216.0</td>\n",
       "      <td>142.0</td>\n",
       "      <td>NaN</td>\n",
       "      <td>NaN</td>\n",
       "      <td>24.15</td>\n",
       "      <td>12.40</td>\n",
       "      <td>39.750</td>\n",
       "    </tr>\n",
       "  </tbody>\n",
       "</table>\n",
       "<p>1458 rows × 15 columns</p>\n",
       "</div>"
      ],
      "text/plain": [
       "             MEG     CEB     BDO    ALI     MER     AC     JGS     URC    JFC  \\\n",
       "Date                                                                            \n",
       "2014-01-02  3.31  48.712   71.00  25.50  256.00  525.5  39.000  115.88  175.9   \n",
       "2014-01-03  3.31  49.109   70.45  25.25  254.20  520.5  38.850  116.86  172.0   \n",
       "2014-01-06  3.41  49.209   71.80  25.50  260.00  525.5  39.500  117.26  175.0   \n",
       "2014-01-07  3.40  48.960   71.85  25.60  257.00  524.0  38.200  113.43  172.0   \n",
       "2014-01-08  3.38  50.650   72.55  26.10  263.00  530.5  39.200  116.57  169.5   \n",
       "...          ...     ...     ...    ...     ...    ...     ...     ...    ...   \n",
       "2019-12-19  4.10  90.700  154.80  45.40  304.63  755.0  73.333  141.04  216.0   \n",
       "2019-12-20  4.00  90.400  155.40  46.00  279.97  779.5  76.286  142.03  213.0   \n",
       "2019-12-23  4.03  88.900  157.00  47.25  293.28  779.0  77.810  149.82  220.0   \n",
       "2019-12-26  4.09  89.850  157.40  46.40  298.36  800.0  75.238  145.98  216.2   \n",
       "2019-12-27  4.01  89.500  158.00  45.50  310.10  785.5  76.952  143.02  216.0   \n",
       "\n",
       "             SEVN   BMM    CAT   FGEN   MAXS   PGOLD  \n",
       "Date                                                  \n",
       "2014-01-02    NaN   NaN    NaN  14.02   7.55  38.899  \n",
       "2014-01-03   98.0   NaN    NaN  14.14   7.65  39.098  \n",
       "2014-01-06   97.0   NaN    NaN  14.28   7.60  38.899  \n",
       "2014-01-07   95.0   NaN    NaN  14.36   7.55  38.999  \n",
       "2014-01-08   95.0   NaN    NaN  14.86   7.32  39.098  \n",
       "...           ...   ...    ...    ...    ...     ...  \n",
       "2019-12-19  148.0   NaN  17.54  23.50  12.10  40.200  \n",
       "2019-12-20    NaN   NaN  17.52  22.90  12.10  39.950  \n",
       "2019-12-23  145.5   NaN  17.52  23.75  12.12  39.950  \n",
       "2019-12-26  136.2  88.1  17.48  24.30  11.98  40.400  \n",
       "2019-12-27  142.0   NaN    NaN  24.15  12.40  39.750  \n",
       "\n",
       "[1458 rows x 15 columns]"
      ]
     },
     "execution_count": 8,
     "metadata": {},
     "output_type": "execute_result"
    }
   ],
   "source": [
    "prices"
   ]
  },
  {
   "cell_type": "markdown",
   "metadata": {},
   "source": [
    "To get the return, we simply use the following code:"
   ]
  },
  {
   "cell_type": "markdown",
   "metadata": {},
   "source": [
    "### Returns Calculation"
   ]
  },
  {
   "cell_type": "code",
   "execution_count": 10,
   "metadata": {},
   "outputs": [
    {
     "data": {
      "text/html": [
       "<div>\n",
       "<style scoped>\n",
       "    .dataframe tbody tr th:only-of-type {\n",
       "        vertical-align: middle;\n",
       "    }\n",
       "\n",
       "    .dataframe tbody tr th {\n",
       "        vertical-align: top;\n",
       "    }\n",
       "\n",
       "    .dataframe thead th {\n",
       "        text-align: right;\n",
       "    }\n",
       "</style>\n",
       "<table border=\"1\" class=\"dataframe\">\n",
       "  <thead>\n",
       "    <tr style=\"text-align: right;\">\n",
       "      <th></th>\n",
       "      <th>MEG</th>\n",
       "      <th>CEB</th>\n",
       "      <th>BDO</th>\n",
       "      <th>ALI</th>\n",
       "      <th>MER</th>\n",
       "      <th>AC</th>\n",
       "      <th>JGS</th>\n",
       "      <th>URC</th>\n",
       "      <th>JFC</th>\n",
       "      <th>SEVN</th>\n",
       "      <th>BMM</th>\n",
       "      <th>CAT</th>\n",
       "      <th>FGEN</th>\n",
       "      <th>MAXS</th>\n",
       "      <th>PGOLD</th>\n",
       "    </tr>\n",
       "    <tr>\n",
       "      <th>Date</th>\n",
       "      <th></th>\n",
       "      <th></th>\n",
       "      <th></th>\n",
       "      <th></th>\n",
       "      <th></th>\n",
       "      <th></th>\n",
       "      <th></th>\n",
       "      <th></th>\n",
       "      <th></th>\n",
       "      <th></th>\n",
       "      <th></th>\n",
       "      <th></th>\n",
       "      <th></th>\n",
       "      <th></th>\n",
       "      <th></th>\n",
       "    </tr>\n",
       "  </thead>\n",
       "  <tbody>\n",
       "    <tr>\n",
       "      <th>2014-01-02 00:00:00</th>\n",
       "      <td>NaN</td>\n",
       "      <td>NaN</td>\n",
       "      <td>NaN</td>\n",
       "      <td>NaN</td>\n",
       "      <td>NaN</td>\n",
       "      <td>NaN</td>\n",
       "      <td>NaN</td>\n",
       "      <td>NaN</td>\n",
       "      <td>NaN</td>\n",
       "      <td>NaN</td>\n",
       "      <td>NaN</td>\n",
       "      <td>NaN</td>\n",
       "      <td>NaN</td>\n",
       "      <td>NaN</td>\n",
       "      <td>NaN</td>\n",
       "    </tr>\n",
       "    <tr>\n",
       "      <th>2014-01-03 00:00:00</th>\n",
       "      <td>0.000000</td>\n",
       "      <td>0.008150</td>\n",
       "      <td>-0.007746</td>\n",
       "      <td>-0.009804</td>\n",
       "      <td>-0.007031</td>\n",
       "      <td>-0.009515</td>\n",
       "      <td>-0.003846</td>\n",
       "      <td>0.008457</td>\n",
       "      <td>-0.022172</td>\n",
       "      <td>NaN</td>\n",
       "      <td>NaN</td>\n",
       "      <td>NaN</td>\n",
       "      <td>0.008559</td>\n",
       "      <td>0.013245</td>\n",
       "      <td>0.005116</td>\n",
       "    </tr>\n",
       "    <tr>\n",
       "      <th>2014-01-06 00:00:00</th>\n",
       "      <td>0.030211</td>\n",
       "      <td>0.002036</td>\n",
       "      <td>0.019163</td>\n",
       "      <td>0.009901</td>\n",
       "      <td>0.022817</td>\n",
       "      <td>0.009606</td>\n",
       "      <td>0.016731</td>\n",
       "      <td>0.003423</td>\n",
       "      <td>0.017442</td>\n",
       "      <td>-0.010204</td>\n",
       "      <td>NaN</td>\n",
       "      <td>NaN</td>\n",
       "      <td>0.009901</td>\n",
       "      <td>-0.006536</td>\n",
       "      <td>-0.005090</td>\n",
       "    </tr>\n",
       "    <tr>\n",
       "      <th>2014-01-07 00:00:00</th>\n",
       "      <td>-0.002933</td>\n",
       "      <td>-0.005060</td>\n",
       "      <td>0.000696</td>\n",
       "      <td>0.003922</td>\n",
       "      <td>-0.011538</td>\n",
       "      <td>-0.002854</td>\n",
       "      <td>-0.032911</td>\n",
       "      <td>-0.032662</td>\n",
       "      <td>-0.017143</td>\n",
       "      <td>-0.020619</td>\n",
       "      <td>NaN</td>\n",
       "      <td>NaN</td>\n",
       "      <td>0.005602</td>\n",
       "      <td>-0.006579</td>\n",
       "      <td>0.002571</td>\n",
       "    </tr>\n",
       "    <tr>\n",
       "      <th>2014-01-08 00:00:00</th>\n",
       "      <td>-0.005882</td>\n",
       "      <td>0.034518</td>\n",
       "      <td>0.009743</td>\n",
       "      <td>0.019531</td>\n",
       "      <td>0.023346</td>\n",
       "      <td>0.012405</td>\n",
       "      <td>0.026178</td>\n",
       "      <td>0.027682</td>\n",
       "      <td>-0.014535</td>\n",
       "      <td>0.000000</td>\n",
       "      <td>NaN</td>\n",
       "      <td>NaN</td>\n",
       "      <td>0.034819</td>\n",
       "      <td>-0.030464</td>\n",
       "      <td>0.002539</td>\n",
       "    </tr>\n",
       "  </tbody>\n",
       "</table>\n",
       "</div>"
      ],
      "text/plain": [
       "                          MEG       CEB       BDO       ALI       MER  \\\n",
       "Date                                                                    \n",
       "2014-01-02 00:00:00       NaN       NaN       NaN       NaN       NaN   \n",
       "2014-01-03 00:00:00  0.000000  0.008150 -0.007746 -0.009804 -0.007031   \n",
       "2014-01-06 00:00:00  0.030211  0.002036  0.019163  0.009901  0.022817   \n",
       "2014-01-07 00:00:00 -0.002933 -0.005060  0.000696  0.003922 -0.011538   \n",
       "2014-01-08 00:00:00 -0.005882  0.034518  0.009743  0.019531  0.023346   \n",
       "\n",
       "                           AC       JGS       URC       JFC      SEVN  BMM  \\\n",
       "Date                                                                         \n",
       "2014-01-02 00:00:00       NaN       NaN       NaN       NaN       NaN  NaN   \n",
       "2014-01-03 00:00:00 -0.009515 -0.003846  0.008457 -0.022172       NaN  NaN   \n",
       "2014-01-06 00:00:00  0.009606  0.016731  0.003423  0.017442 -0.010204  NaN   \n",
       "2014-01-07 00:00:00 -0.002854 -0.032911 -0.032662 -0.017143 -0.020619  NaN   \n",
       "2014-01-08 00:00:00  0.012405  0.026178  0.027682 -0.014535  0.000000  NaN   \n",
       "\n",
       "                     CAT      FGEN      MAXS     PGOLD  \n",
       "Date                                                    \n",
       "2014-01-02 00:00:00  NaN       NaN       NaN       NaN  \n",
       "2014-01-03 00:00:00  NaN  0.008559  0.013245  0.005116  \n",
       "2014-01-06 00:00:00  NaN  0.009901 -0.006536 -0.005090  \n",
       "2014-01-07 00:00:00  NaN  0.005602 -0.006579  0.002571  \n",
       "2014-01-08 00:00:00  NaN  0.034819 -0.030464  0.002539  "
      ]
     },
     "execution_count": 10,
     "metadata": {},
     "output_type": "execute_result"
    }
   ],
   "source": [
    "returns = prices.pct_change()\n",
    "returns.head()"
   ]
  },
  {
   "cell_type": "markdown",
   "metadata": {},
   "source": [
    "### Covariance Matrix"
   ]
  },
  {
   "cell_type": "code",
   "execution_count": 11,
   "metadata": {},
   "outputs": [
    {
     "data": {
      "text/html": [
       "<div>\n",
       "<style scoped>\n",
       "    .dataframe tbody tr th:only-of-type {\n",
       "        vertical-align: middle;\n",
       "    }\n",
       "\n",
       "    .dataframe tbody tr th {\n",
       "        vertical-align: top;\n",
       "    }\n",
       "\n",
       "    .dataframe thead th {\n",
       "        text-align: right;\n",
       "    }\n",
       "</style>\n",
       "<table border=\"1\" class=\"dataframe\">\n",
       "  <thead>\n",
       "    <tr style=\"text-align: right;\">\n",
       "      <th></th>\n",
       "      <th>MEG</th>\n",
       "      <th>CEB</th>\n",
       "      <th>BDO</th>\n",
       "      <th>ALI</th>\n",
       "      <th>MER</th>\n",
       "      <th>AC</th>\n",
       "      <th>JGS</th>\n",
       "      <th>URC</th>\n",
       "      <th>JFC</th>\n",
       "      <th>SEVN</th>\n",
       "      <th>BMM</th>\n",
       "      <th>CAT</th>\n",
       "      <th>FGEN</th>\n",
       "      <th>MAXS</th>\n",
       "      <th>PGOLD</th>\n",
       "    </tr>\n",
       "  </thead>\n",
       "  <tbody>\n",
       "    <tr>\n",
       "      <th>MEG</th>\n",
       "      <td>0.000435</td>\n",
       "      <td>0.000086</td>\n",
       "      <td>0.000106</td>\n",
       "      <td>0.000141</td>\n",
       "      <td>0.000058</td>\n",
       "      <td>0.000119</td>\n",
       "      <td>0.000138</td>\n",
       "      <td>0.000091</td>\n",
       "      <td>0.000081</td>\n",
       "      <td>-0.000011</td>\n",
       "      <td>0.000009</td>\n",
       "      <td>0.000031</td>\n",
       "      <td>0.000077</td>\n",
       "      <td>0.000086</td>\n",
       "      <td>0.000090</td>\n",
       "    </tr>\n",
       "    <tr>\n",
       "      <th>CEB</th>\n",
       "      <td>0.000086</td>\n",
       "      <td>0.000555</td>\n",
       "      <td>0.000062</td>\n",
       "      <td>0.000059</td>\n",
       "      <td>0.000022</td>\n",
       "      <td>0.000048</td>\n",
       "      <td>0.000070</td>\n",
       "      <td>0.000055</td>\n",
       "      <td>0.000032</td>\n",
       "      <td>0.000002</td>\n",
       "      <td>0.000018</td>\n",
       "      <td>0.000023</td>\n",
       "      <td>0.000063</td>\n",
       "      <td>0.000078</td>\n",
       "      <td>0.000044</td>\n",
       "    </tr>\n",
       "    <tr>\n",
       "      <th>BDO</th>\n",
       "      <td>0.000106</td>\n",
       "      <td>0.000062</td>\n",
       "      <td>0.000232</td>\n",
       "      <td>0.000096</td>\n",
       "      <td>0.000050</td>\n",
       "      <td>0.000078</td>\n",
       "      <td>0.000107</td>\n",
       "      <td>0.000093</td>\n",
       "      <td>0.000063</td>\n",
       "      <td>0.000005</td>\n",
       "      <td>0.000015</td>\n",
       "      <td>0.000005</td>\n",
       "      <td>0.000046</td>\n",
       "      <td>0.000042</td>\n",
       "      <td>0.000055</td>\n",
       "    </tr>\n",
       "    <tr>\n",
       "      <th>ALI</th>\n",
       "      <td>0.000141</td>\n",
       "      <td>0.000059</td>\n",
       "      <td>0.000096</td>\n",
       "      <td>0.000303</td>\n",
       "      <td>0.000052</td>\n",
       "      <td>0.000124</td>\n",
       "      <td>0.000129</td>\n",
       "      <td>0.000109</td>\n",
       "      <td>0.000087</td>\n",
       "      <td>0.000016</td>\n",
       "      <td>0.000027</td>\n",
       "      <td>0.000005</td>\n",
       "      <td>0.000070</td>\n",
       "      <td>0.000077</td>\n",
       "      <td>0.000061</td>\n",
       "    </tr>\n",
       "    <tr>\n",
       "      <th>MER</th>\n",
       "      <td>0.000058</td>\n",
       "      <td>0.000022</td>\n",
       "      <td>0.000050</td>\n",
       "      <td>0.000052</td>\n",
       "      <td>0.000193</td>\n",
       "      <td>0.000044</td>\n",
       "      <td>0.000071</td>\n",
       "      <td>0.000055</td>\n",
       "      <td>0.000043</td>\n",
       "      <td>0.000002</td>\n",
       "      <td>0.000030</td>\n",
       "      <td>0.000023</td>\n",
       "      <td>0.000031</td>\n",
       "      <td>0.000017</td>\n",
       "      <td>0.000027</td>\n",
       "    </tr>\n",
       "  </tbody>\n",
       "</table>\n",
       "</div>"
      ],
      "text/plain": [
       "          MEG       CEB       BDO       ALI       MER        AC       JGS  \\\n",
       "MEG  0.000435  0.000086  0.000106  0.000141  0.000058  0.000119  0.000138   \n",
       "CEB  0.000086  0.000555  0.000062  0.000059  0.000022  0.000048  0.000070   \n",
       "BDO  0.000106  0.000062  0.000232  0.000096  0.000050  0.000078  0.000107   \n",
       "ALI  0.000141  0.000059  0.000096  0.000303  0.000052  0.000124  0.000129   \n",
       "MER  0.000058  0.000022  0.000050  0.000052  0.000193  0.000044  0.000071   \n",
       "\n",
       "          URC       JFC      SEVN       BMM       CAT      FGEN      MAXS  \\\n",
       "MEG  0.000091  0.000081 -0.000011  0.000009  0.000031  0.000077  0.000086   \n",
       "CEB  0.000055  0.000032  0.000002  0.000018  0.000023  0.000063  0.000078   \n",
       "BDO  0.000093  0.000063  0.000005  0.000015  0.000005  0.000046  0.000042   \n",
       "ALI  0.000109  0.000087  0.000016  0.000027  0.000005  0.000070  0.000077   \n",
       "MER  0.000055  0.000043  0.000002  0.000030  0.000023  0.000031  0.000017   \n",
       "\n",
       "        PGOLD  \n",
       "MEG  0.000090  \n",
       "CEB  0.000044  \n",
       "BDO  0.000055  \n",
       "ALI  0.000061  \n",
       "MER  0.000027  "
      ]
     },
     "execution_count": 11,
     "metadata": {},
     "output_type": "execute_result"
    }
   ],
   "source": [
    "cov = returns.cov()\n",
    "cov.head()"
   ]
  },
  {
   "cell_type": "markdown",
   "metadata": {},
   "source": [
    "## STEP 3: INITIALIZE THE WEIGHTS AND FUNCTION FOR THE CALCULATION OF METRICS"
   ]
  },
  {
   "cell_type": "markdown",
   "metadata": {},
   "source": [
    "As we are trying to optimize the portfolio by altering the weight allocation, let's initialize our weights and calculate the initial metrics using our customized function below.\n",
    "\n",
    "It is important that the weights chosen come from a uniform distribution from 0 to 1. Luckily, random.random of numpy draws from a continuous, uniform distribution."
   ]
  },
  {
   "cell_type": "code",
   "execution_count": 33,
   "metadata": {},
   "outputs": [
    {
     "data": {
      "text/plain": [
       "array([0.10892225, 0.00293049, 0.08948081, 0.10574254, 0.0703968 ,\n",
       "       0.03174472, 0.0279695 , 0.10739855, 0.02388103, 0.01247493,\n",
       "       0.09678327, 0.1346337 , 0.00055756, 0.07232937, 0.11475449])"
      ]
     },
     "execution_count": 33,
     "metadata": {},
     "output_type": "execute_result"
    }
   ],
   "source": [
    "np.random.seed(10) #for replicability\n",
    "weights = np.random.random(len(stocks))\n",
    "weights /= np.sum(weights)\n",
    "weights"
   ]
  },
  {
   "cell_type": "markdown",
   "metadata": {},
   "source": [
    "Note that we normalize our weights to equal to 1 or 100% allocation."
   ]
  },
  {
   "cell_type": "markdown",
   "metadata": {},
   "source": [
    "### PORTFOLIO RETURNS"
   ]
  },
  {
   "cell_type": "markdown",
   "metadata": {},
   "source": [
    "Because what we have are daily returns of stocks that we have calculated, we then proceed to annualize these by multiplying the average daily returns with the number of trading days in a year which is 252."
   ]
  },
  {
   "cell_type": "code",
   "execution_count": 22,
   "metadata": {
    "scrolled": true
   },
   "outputs": [
    {
     "data": {
      "text/plain": [
       "0.2115677224809396"
      ]
     },
     "execution_count": 22,
     "metadata": {},
     "output_type": "execute_result"
    }
   ],
   "source": [
    "rp = (returns.mean()*252)@weights \n",
    "rp"
   ]
  },
  {
   "cell_type": "markdown",
   "metadata": {},
   "source": [
    "### PORTFOLIO VARIANCE"
   ]
  },
  {
   "cell_type": "code",
   "execution_count": null,
   "metadata": {},
   "outputs": [],
   "source": [
    "Since we have the daily volatility as well, we proceed to annualize these by multiplying them with 252. The formula for the Covariance is given as:"
   ]
  },
  {
   "cell_type": "code",
   "execution_count": 23,
   "metadata": {},
   "outputs": [
    {
     "data": {
      "text/plain": [
       "0.04448360793364385"
      ]
     },
     "execution_count": 23,
     "metadata": {},
     "output_type": "execute_result"
    }
   ],
   "source": [
    "#Portfolio Variance\n",
    "port_var = weights@(cov*252)@weights \n",
    "port_var"
   ]
  },
  {
   "cell_type": "markdown",
   "metadata": {},
   "source": [
    "### SHARPE RATIO"
   ]
  },
  {
   "cell_type": "code",
   "execution_count": 24,
   "metadata": {},
   "outputs": [
    {
     "data": {
      "text/plain": [
       "0.9082854011482231"
      ]
     },
     "execution_count": 24,
     "metadata": {},
     "output_type": "execute_result"
    }
   ],
   "source": [
    "#Sharpe Ratio\n",
    "rf = 0.02 #risk-free rate\n",
    "sharpe = (rp-rf)/np.sqrt(port_var)\n",
    "sharpe"
   ]
  },
  {
   "cell_type": "code",
   "execution_count": 25,
   "metadata": {},
   "outputs": [
    {
     "data": {
      "text/plain": [
       "15"
      ]
     },
     "execution_count": 25,
     "metadata": {},
     "output_type": "execute_result"
    }
   ],
   "source": [
    "len(weights)"
   ]
  },
  {
   "cell_type": "markdown",
   "metadata": {},
   "source": [
    "## FUNCTION FOR USE"
   ]
  },
  {
   "cell_type": "code",
   "execution_count": 30,
   "metadata": {},
   "outputs": [
    {
     "data": {
      "text/html": [
       "<div>\n",
       "<style scoped>\n",
       "    .dataframe tbody tr th:only-of-type {\n",
       "        vertical-align: middle;\n",
       "    }\n",
       "\n",
       "    .dataframe tbody tr th {\n",
       "        vertical-align: top;\n",
       "    }\n",
       "\n",
       "    .dataframe thead th {\n",
       "        text-align: right;\n",
       "    }\n",
       "</style>\n",
       "<table border=\"1\" class=\"dataframe\">\n",
       "  <thead>\n",
       "    <tr style=\"text-align: right;\">\n",
       "      <th></th>\n",
       "      <th>Expected Return</th>\n",
       "      <th>Portfolio Variance</th>\n",
       "      <th>Portfolio Std</th>\n",
       "      <th>Sharpe Ratio</th>\n",
       "    </tr>\n",
       "  </thead>\n",
       "  <tbody>\n",
       "    <tr>\n",
       "      <th>Trial</th>\n",
       "      <td>0.211568</td>\n",
       "      <td>0.044484</td>\n",
       "      <td>0.210911</td>\n",
       "      <td>0.908285</td>\n",
       "    </tr>\n",
       "  </tbody>\n",
       "</table>\n",
       "</div>"
      ],
      "text/plain": [
       "       Expected Return  Portfolio Variance  Portfolio Std  Sharpe Ratio\n",
       "Trial         0.211568            0.044484       0.210911      0.908285"
      ]
     },
     "execution_count": 30,
     "metadata": {},
     "output_type": "execute_result"
    }
   ],
   "source": [
    "def portfolio_metrics(weights, index='Trial'):\n",
    "    \n",
    "    '''\n",
    "    This function generates the relative performance metrics that will be reported and will be used\n",
    "    to find the optimal weights.\n",
    "    \n",
    "    Parameters:\n",
    "    weights: initialized weights or optimal weights for performance reporting\n",
    "    \n",
    "    '''   \n",
    "    \n",
    "    rp = (returns.mean()*252)@weights \n",
    "    port_var = weights@(cov*252)@weights\n",
    "    sharpe = (rp-rf)/np.sqrt(port_var)\n",
    "    df = pd.DataFrame({\"Expected Return\": rp,\n",
    "                       \"Portfolio Variance\":port_var,\n",
    "                       'Portfolio Std': np.sqrt(port_var),\n",
    "                       'Sharpe Ratio': sharpe}, index=[index])\n",
    "    return df\n",
    "\n",
    "portfolio_metrics(weights)"
   ]
  },
  {
   "cell_type": "markdown",
   "metadata": {},
   "source": [
    "## STEP 4:  MONTE CARLO SIMULATION"
   ]
  },
  {
   "cell_type": "code",
   "execution_count": null,
   "metadata": {},
   "outputs": [],
   "source": [
    "np.random.seed(42)\n",
    "portfolios = pd.DataFrame(columns=[*stocks, \"Expected Return\",\"Portfolio Variance\", \"Portfolio Std\", \"Sharpe Ratio\"])\n",
    "\n",
    "for i in range(10000):\n",
    "    weights = np.random.random(len(stocks))\n",
    "    weights /= np.sum(weights)\n",
    "    portfolios.loc[i, stocks] = weights\n",
    "    metrics = portfolio_metrics(weights,i)\n",
    "    portfolios.loc[i, [\"Expected Return\",\"Portfolio Variance\", \"Portfolio Std\", \"Sharpe Ratio\"]] = \\\n",
    "    metrics.loc[i,[\"Expected Return\",\"Portfolio Variance\", \"Portfolio Std\", \"Sharpe Ratio\"]]\n",
    "    \n",
    "portfolios"
   ]
  },
  {
   "cell_type": "code",
   "execution_count": null,
   "metadata": {},
   "outputs": [],
   "source": []
  }
 ],
 "metadata": {
  "kernelspec": {
   "display_name": "Python 3",
   "language": "python",
   "name": "python3"
  },
  "language_info": {
   "codemirror_mode": {
    "name": "ipython",
    "version": 3
   },
   "file_extension": ".py",
   "mimetype": "text/x-python",
   "name": "python",
   "nbconvert_exporter": "python",
   "pygments_lexer": "ipython3",
   "version": "3.7.6"
  }
 },
 "nbformat": 4,
 "nbformat_minor": 4
}
