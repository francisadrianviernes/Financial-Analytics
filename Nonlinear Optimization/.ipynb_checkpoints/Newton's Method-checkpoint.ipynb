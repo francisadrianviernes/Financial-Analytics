{
 "cells": [
  {
   "cell_type": "code",
   "execution_count": 123,
   "metadata": {},
   "outputs": [],
   "source": [
    "import numpy as np\n",
    "import pandas as pd\n",
    "\n",
    "from scipy.misc import derivative\n"
   ]
  },
  {
   "cell_type": "markdown",
   "metadata": {},
   "source": [
    "When I was starting out as a data scientist, one of the optimization method that come up is that of Newton's Method. However, Newton's method can be used for both finding the root and maximizing or minimizing an equation.\n",
    "\n",
    "\n",
    "We can use Newton's Method in finding out the root of an equation. Basically, the roots of an equation are the point/s where the value of the equation is zero.\n",
    "\n",
    "In finance, there are certain occasions where we want the value of the a particular equation to become zero. Examples of these are: \n",
    "\n",
    "  *  Finding the IRR of a cash flow stream\n",
    "  *  Solving for the implied volatility of the an option\n",
    "  *  Solving the yield of a bond"
   ]
  },
  {
   "cell_type": "markdown",
   "metadata": {},
   "source": [
    "## FINDING THE BOND YIELD"
   ]
  },
  {
   "cell_type": "markdown",
   "metadata": {},
   "source": [
    "Assume for example that we have a bond that is woth $$900 today and pays a steady coupon of $100 for the next four years:"
   ]
  },
  {
   "cell_type": "markdown",
   "metadata": {},
   "source": [
    "We can write the bond-yield function as:"
   ]
  },
  {
   "cell_type": "markdown",
   "metadata": {},
   "source": [
    "There are many ways to do this like for example, one can simply line up in an array the cash flows for the security. Or another is to create a function that takes all the inputs necessary to calculate the YTM."
   ]
  },
  {
   "cell_type": "code",
   "execution_count": 130,
   "metadata": {},
   "outputs": [],
   "source": [
    "def newton(f,x_0, epsilon, max_iter):\n",
    "    '''\n",
    "    This function approximates solution of f(x) = 0 by Newton's method\n",
    "    \n",
    "    Parameters:\n",
    "    -----------\n",
    "    f : function\n",
    "        \n",
    "        Function which roots we are solving for (e.g. f(x)=0).\n",
    "        \n",
    "    x_0 : float\n",
    "    \n",
    "        Initial guess for x as a solution to f(x)=0\n",
    "    \n",
    "    max_iterations\n",
    "    \n",
    "        Maximum number of iterations of Newton's Method\n",
    "    \n",
    "    Returns\n",
    "    -------\n",
    "    \n",
    "    xn : float\n",
    "    \n",
    "        Implement Newton's Method: compute the linear approximation of f(x) at xn and the x intercept by the formula\n",
    "        \n",
    "            x = xn - f(xn)/Df(xn)\n",
    "        Continue until abs(f(xn)) < epsilon, in this case, this returns xn.\n",
    "        If Df(xn) == 0, this function returns None.\n",
    "        If the number of iteration exceeds max_iter, then return None\n",
    "    '''\n",
    "    \n",
    "    df = pd.DataFrame(columns=['iteration', \"x_value\", \"function_value\"])\n",
    "    \n",
    "    xn = x_0    \n",
    "    \n",
    "    for n in range(0, max_iter):\n",
    "        fxn = f(xn)\n",
    "        df.loc[len(df)] = [n, xn, fxn]\n",
    "        if abs(fxn) < epsilon:\n",
    "            print(f\"Found a solution after {n} iterations.\")\n",
    "            display(df)\n",
    "            return xn\n",
    "        Dfxn = derivative(f,xn, dx=1e-10)\n",
    "        if Dfxn == 0:\n",
    "            print(\"No solutions found.\")\n",
    "            return None\n",
    "        xn = xn - fxn/Dfxn\n",
    "    print('Exceeded maximum iterations. No solutions found.')\n",
    "    return None\n",
    "\n",
    "            "
   ]
  },
  {
   "cell_type": "code",
   "execution_count": 105,
   "metadata": {},
   "outputs": [],
   "source": [
    "f = lambda x: (100/((1+x)**1)) +(100/((1+x)**2)) + (100/((1+x)**3)) + (1100/((1+x)**4)) - 900"
   ]
  },
  {
   "cell_type": "code",
   "execution_count": 131,
   "metadata": {
    "scrolled": false
   },
   "outputs": [
    {
     "name": "stdout",
     "output_type": "stream",
     "text": [
      "Found a solution after 5 iterations.\n"
     ]
    },
    {
     "data": {
      "text/html": [
       "<div>\n",
       "<style scoped>\n",
       "    .dataframe tbody tr th:only-of-type {\n",
       "        vertical-align: middle;\n",
       "    }\n",
       "\n",
       "    .dataframe tbody tr th {\n",
       "        vertical-align: top;\n",
       "    }\n",
       "\n",
       "    .dataframe thead th {\n",
       "        text-align: right;\n",
       "    }\n",
       "</style>\n",
       "<table border=\"1\" class=\"dataframe\">\n",
       "  <thead>\n",
       "    <tr style=\"text-align: right;\">\n",
       "      <th></th>\n",
       "      <th>iteration</th>\n",
       "      <th>x_value</th>\n",
       "      <th>function_value</th>\n",
       "    </tr>\n",
       "  </thead>\n",
       "  <tbody>\n",
       "    <tr>\n",
       "      <th>0</th>\n",
       "      <td>0.0</td>\n",
       "      <td>0.000000</td>\n",
       "      <td>5.000000e+02</td>\n",
       "    </tr>\n",
       "    <tr>\n",
       "      <th>1</th>\n",
       "      <td>1.0</td>\n",
       "      <td>0.100000</td>\n",
       "      <td>1.000001e+02</td>\n",
       "    </tr>\n",
       "    <tr>\n",
       "      <th>2</th>\n",
       "      <td>2.0</td>\n",
       "      <td>0.131547</td>\n",
       "      <td>6.464960e+00</td>\n",
       "    </tr>\n",
       "    <tr>\n",
       "      <th>3</th>\n",
       "      <td>3.0</td>\n",
       "      <td>0.133880</td>\n",
       "      <td>3.152922e-02</td>\n",
       "    </tr>\n",
       "    <tr>\n",
       "      <th>4</th>\n",
       "      <td>4.0</td>\n",
       "      <td>0.133892</td>\n",
       "      <td>7.615654e-07</td>\n",
       "    </tr>\n",
       "    <tr>\n",
       "      <th>5</th>\n",
       "      <td>5.0</td>\n",
       "      <td>0.133892</td>\n",
       "      <td>5.684342e-13</td>\n",
       "    </tr>\n",
       "  </tbody>\n",
       "</table>\n",
       "</div>"
      ],
      "text/plain": [
       "   iteration   x_value  function_value\n",
       "0        0.0  0.000000    5.000000e+02\n",
       "1        1.0  0.100000    1.000001e+02\n",
       "2        2.0  0.131547    6.464960e+00\n",
       "3        3.0  0.133880    3.152922e-02\n",
       "4        4.0  0.133892    7.615654e-07\n",
       "5        5.0  0.133892    5.684342e-13"
      ]
     },
     "metadata": {},
     "output_type": "display_data"
    },
    {
     "data": {
      "text/plain": [
       "0.13389164760244174"
      ]
     },
     "execution_count": 131,
     "metadata": {},
     "output_type": "execute_result"
    }
   ],
   "source": [
    "newton(f,0, 1e-10,100)"
   ]
  },
  {
   "cell_type": "code",
   "execution_count": 117,
   "metadata": {},
   "outputs": [],
   "source": [
    "def YTM_func(price, face, coupon, periods):\n",
    "\n",
    "    '''\n",
    "\n",
    "    Parameters\n",
    "    -------------------\n",
    "\n",
    "        price = market value of the bond\n",
    "\n",
    "        periods = number of periods (e.g. for a four-year annual-pay bond, n=4; for a four-year semiannual pay bond n=8)\n",
    "\n",
    "        face = face value of the bond\n",
    "\n",
    "        coupon = coupon per period\n",
    "\n",
    "    '''\n",
    "    def bond_price_calc(ytm):\n",
    "        return ((coupon*((1-(1+ytm)**-periods))/ytm)+((face)/(1+ytm)**periods))-price\n",
    "    return bond_price_calc\n"
   ]
  },
  {
   "cell_type": "code",
   "execution_count": 83,
   "metadata": {},
   "outputs": [],
   "source": [
    "def YTM_func(price,face,coupon,period,YTM):\n",
    "    return ((coupon*((1-(1+YTM)**-n))/YTM)+((face)/(1+YTM)**n))-price"
   ]
  },
  {
   "cell_type": "markdown",
   "metadata": {},
   "source": [
    "Trying a shortcut"
   ]
  },
  {
   "cell_type": "code",
   "execution_count": 136,
   "metadata": {},
   "outputs": [
    {
     "name": "stdout",
     "output_type": "stream",
     "text": [
      "No solutions found.\n"
     ]
    }
   ],
   "source": [
    "newton(f=YTM_func(price=900,face=1000,coupon=100,periods=4), x_0=100, epsilon=1e-10, max_iter=100)"
   ]
  },
  {
   "cell_type": "markdown",
   "metadata": {},
   "source": [
    "## POSSIBLE WORKAROUND\n"
   ]
  },
  {
   "cell_type": "code",
   "execution_count": null,
   "metadata": {},
   "outputs": [],
   "source": []
  },
  {
   "cell_type": "code",
   "execution_count": null,
   "metadata": {
    "scrolled": true
   },
   "outputs": [],
   "source": [
    "### weaknesses\n",
    "One particular weakness of this method is that it is highly sensitive to your choice of the initial values."
   ]
  },
  {
   "cell_type": "code",
   "execution_count": null,
   "metadata": {},
   "outputs": [],
   "source": [
    "def make_cylinder_volume_func(r):\n",
    "    def volume(h):\n",
    "        return math.pi * r * r * h\n",
    "    return volume"
   ]
  }
 ],
 "metadata": {
  "kernelspec": {
   "display_name": "Python 3",
   "language": "python",
   "name": "python3"
  },
  "language_info": {
   "codemirror_mode": {
    "name": "ipython",
    "version": 3
   },
   "file_extension": ".py",
   "mimetype": "text/x-python",
   "name": "python",
   "nbconvert_exporter": "python",
   "pygments_lexer": "ipython3",
   "version": "3.7.6"
  }
 },
 "nbformat": 4,
 "nbformat_minor": 4
}
