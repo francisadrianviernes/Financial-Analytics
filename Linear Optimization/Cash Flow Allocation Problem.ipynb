{
 "cells": [
  {
   "cell_type": "code",
   "execution_count": 1,
   "metadata": {},
   "outputs": [],
   "source": [
    "import pandas as pd\n",
    "import numpy as np\n",
    "\n",
    "#optimization\n",
    "from scipy.optimize import linprog"
   ]
  },
  {
   "cell_type": "code",
   "execution_count": 2,
   "metadata": {},
   "outputs": [],
   "source": [
    "#objective function\n",
    "obj = [0,0,0,0,0,0,0,0,0,0,0,0,0,-1]\n",
    "#lef-hand side equality\n",
    "lhs_eq = [\n",
    "    [1,0,0,0,0,1,0,0,-1,0,0,0,0,0],\n",
    "    [-1.01,1,0,0,0,0,1,0,1.003,-1,0,0,0,0],\n",
    "    [0,-1.01,1,0,0,0,0,1,0,1.003,-1,0,0,0],\n",
    "    [0,0,-1.01,1,0,-1.02,0,0,0,0,1.003,-1,0,0],\n",
    "    [0,0,0,-1.01,1,0,-1.02,0,0,0,0,1.003,-1,0],\n",
    "    [0,0,0,0,-1.01,0,0,-1.02,0,0,0,0,1.003,-1]\n",
    "]\n",
    "#right-hand side equality\n",
    "\n",
    "rhs_eq = [125,\n",
    "         -180,\n",
    "        -175,\n",
    "         400,\n",
    "         -80,\n",
    "        -360]\n",
    "\n",
    "#left-hand side inequality\n",
    "lhs_ineq = [\n",
    "    [1,0,0,0,0,0,0,0,0,0,0,0,0,0],\n",
    "    [0,1,0,0,0,0,0,0,0,0,0,0,0,0],\n",
    "    [0,0,1,0,0,0,0,0,0,0,0,0,0,0],\n",
    "    [0,0,0,1,0,0,0,0,0,0,0,0,0,0],\n",
    "    [0,0,0,0,1,0,0,0,0,0,0,0,0,0]\n",
    "]\n",
    "\n",
    "rhs_ineq = [\n",
    "    100,\n",
    "    100,\n",
    "    100,\n",
    "    100,\n",
    "    100\n",
    "]"
   ]
  },
  {
   "cell_type": "code",
   "execution_count": 3,
   "metadata": {},
   "outputs": [],
   "source": [
    "#bounds\n",
    "bounds = [(0, float(\"inf\")) for x in range(len(obj))]"
   ]
  },
  {
   "cell_type": "code",
   "execution_count": 4,
   "metadata": {},
   "outputs": [],
   "source": [
    "opt = linprog(c=obj, A_ub=lhs_ineq, b_ub=rhs_ineq,\n",
    "               A_eq=lhs_eq, b_eq=rhs_eq, bounds=bounds,\n",
    "               method=\"simplex\")"
   ]
  },
  {
   "cell_type": "code",
   "execution_count": 5,
   "metadata": {
    "scrolled": true
   },
   "outputs": [
    {
     "data": {
      "text/plain": [
       "     con: array([ 0.00000000e+00, -2.84217094e-14, -2.84217094e-14,  0.00000000e+00,\n",
       "        1.42108547e-14,  0.00000000e+00])\n",
       "     fun: -267.1603035173686\n",
       " message: 'Optimization terminated successfully.'\n",
       "     nit: 16\n",
       "   slack: array([  0.        , 100.        , 100.        ,  20.79207921,\n",
       "       100.        ])\n",
       "  status: 0\n",
       " success: True\n",
       "       x: array([100.        ,   0.        ,   0.        ,  79.20792079,\n",
       "         0.        ,  25.        ,   0.        ,  91.01931028,\n",
       "         0.        ,  79.        , 345.25631028,   0.        ,\n",
       "         0.        , 267.16030352])"
      ]
     },
     "execution_count": 5,
     "metadata": {},
     "output_type": "execute_result"
    }
   ],
   "source": [
    "opt"
   ]
  },
  {
   "cell_type": "code",
   "execution_count": null,
   "metadata": {},
   "outputs": [],
   "source": []
  }
 ],
 "metadata": {
  "kernelspec": {
   "display_name": "Python 3",
   "language": "python",
   "name": "python3"
  },
  "language_info": {
   "codemirror_mode": {
    "name": "ipython",
    "version": 3
   },
   "file_extension": ".py",
   "mimetype": "text/x-python",
   "name": "python",
   "nbconvert_exporter": "python",
   "pygments_lexer": "ipython3",
   "version": "3.7.6"
  }
 },
 "nbformat": 4,
 "nbformat_minor": 4
}
